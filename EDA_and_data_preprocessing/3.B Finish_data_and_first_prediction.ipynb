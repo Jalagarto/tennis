{
 "cells": [
  {
   "cell_type": "code",
   "execution_count": 1,
   "id": "026b80f2-bd9b-4c65-b387-1856e4be002d",
   "metadata": {},
   "outputs": [],
   "source": [
    "import pandas as pd\n",
    "import matplotlib.pyplot as plt\n",
    "import seaborn as sn\n",
    "# pd.set_option('max_columns', None)  # show all columns\n",
    "from sklearn.preprocessing import OneHotEncoder\n",
    "#creating instance of one-hot-encoder\n",
    "encoder = OneHotEncoder(handle_unknown='ignore')"
   ]
  },
  {
   "cell_type": "code",
   "execution_count": 2,
   "id": "cbca3c5f-46b8-422b-8dc4-a4945f617f4a",
   "metadata": {},
   "outputs": [],
   "source": [
    "df = pd.read_excel('../../DATAJAVI_V2_men.xlsx')\n",
    "df_2 = pd.read_excel('../../DATAJAVI_V2_men.xlsx')  # to make changes"
   ]
  },
  {
   "cell_type": "code",
   "execution_count": 3,
   "id": "f3b14328-7320-4d5c-bc76-eb6dc77cbe30",
   "metadata": {},
   "outputs": [],
   "source": [
    "### eliminar variable Sexo y ShotID \n",
    "# 1. --> todo hombres --> Esta variable no aporta info alguna para el entrenamiento ML\n",
    "# 2. Tampoco aporta info un ID incremental\n",
    "columns_to_delete = ['Sexo', 'ShotID', 'EventID', 'startScore_Server', 'startScore_Receiver', 'shotCount', \n",
    "                     'serve_class', 'result', 'E<=1', 'E<=2', 'E<=4', 'E>4']\n",
    "df.drop(columns=columns_to_delete, inplace=True)\n",
    "df_2.drop(columns=columns_to_delete, inplace=True)"
   ]
  },
  {
   "cell_type": "code",
   "execution_count": 4,
   "id": "7adc7942-8015-4d22-bc57-ecce779ba28a",
   "metadata": {},
   "outputs": [
    {
     "name": "stdout",
     "output_type": "stream",
     "text": [
      "0 / 20454\n"
     ]
    }
   ],
   "source": [
    "### Check how many rows have empty values or NaNs\n",
    "print(df_2.isnull().sum().sum(), '/', len(df_2))  ### too many, we can't just delete rows with empty values --> interpolate"
   ]
  },
  {
   "cell_type": "code",
   "execution_count": 5,
   "id": "08700a6d-8480-4ed5-bb00-0261b20b3d5f",
   "metadata": {},
   "outputs": [
    {
     "data": {
      "text/html": [
       "<div>\n",
       "<style scoped>\n",
       "    .dataframe tbody tr th:only-of-type {\n",
       "        vertical-align: middle;\n",
       "    }\n",
       "\n",
       "    .dataframe tbody tr th {\n",
       "        vertical-align: top;\n",
       "    }\n",
       "\n",
       "    .dataframe thead th {\n",
       "        text-align: right;\n",
       "    }\n",
       "</style>\n",
       "<table border=\"1\" class=\"dataframe\">\n",
       "  <thead>\n",
       "    <tr style=\"text-align: right;\">\n",
       "      <th></th>\n",
       "      <th>1º o 2º saque</th>\n",
       "      <th>Efectividad</th>\n",
       "      <th>Lado(1:Iguales;0:Ventaja)</th>\n",
       "      <th>DIRECCIÓN:1 abierto;2 al cuerpo;3 a la T</th>\n",
       "      <th>V(km/h)</th>\n",
       "      <th>[YA]</th>\n",
       "      <th>ZA</th>\n",
       "      <th>Znet</th>\n",
       "      <th>TIME</th>\n",
       "      <th>difV</th>\n",
       "      <th>&amp;(deg)</th>\n",
       "      <th>ANG. IN</th>\n",
       "      <th>dLinea</th>\n",
       "    </tr>\n",
       "  </thead>\n",
       "  <tbody>\n",
       "    <tr>\n",
       "      <th>count</th>\n",
       "      <td>20454.000000</td>\n",
       "      <td>20454.000000</td>\n",
       "      <td>20454.000000</td>\n",
       "      <td>20454.000000</td>\n",
       "      <td>20454.000000</td>\n",
       "      <td>20454.000000</td>\n",
       "      <td>20454.000000</td>\n",
       "      <td>20454.000000</td>\n",
       "      <td>20454.000000</td>\n",
       "      <td>20454.000000</td>\n",
       "      <td>20454.000000</td>\n",
       "      <td>20454.000000</td>\n",
       "      <td>20454.000000</td>\n",
       "    </tr>\n",
       "    <tr>\n",
       "      <th>mean</th>\n",
       "      <td>1.308399</td>\n",
       "      <td>3.032316</td>\n",
       "      <td>0.522343</td>\n",
       "      <td>2.070451</td>\n",
       "      <td>174.440181</td>\n",
       "      <td>1.762130</td>\n",
       "      <td>2.867122</td>\n",
       "      <td>1.149802</td>\n",
       "      <td>0.423751</td>\n",
       "      <td>8.692615</td>\n",
       "      <td>5.379175</td>\n",
       "      <td>11.423949</td>\n",
       "      <td>1.042840</td>\n",
       "    </tr>\n",
       "    <tr>\n",
       "      <th>std</th>\n",
       "      <td>0.461844</td>\n",
       "      <td>1.011730</td>\n",
       "      <td>0.499513</td>\n",
       "      <td>0.821516</td>\n",
       "      <td>19.411117</td>\n",
       "      <td>0.672477</td>\n",
       "      <td>0.151205</td>\n",
       "      <td>0.116511</td>\n",
       "      <td>0.052495</td>\n",
       "      <td>1.610355</td>\n",
       "      <td>4.859932</td>\n",
       "      <td>2.682266</td>\n",
       "      <td>0.566494</td>\n",
       "    </tr>\n",
       "    <tr>\n",
       "      <th>min</th>\n",
       "      <td>1.000000</td>\n",
       "      <td>1.000000</td>\n",
       "      <td>0.000000</td>\n",
       "      <td>1.000000</td>\n",
       "      <td>73.296000</td>\n",
       "      <td>0.005000</td>\n",
       "      <td>2.078000</td>\n",
       "      <td>0.937000</td>\n",
       "      <td>0.242000</td>\n",
       "      <td>-17.917227</td>\n",
       "      <td>0.033120</td>\n",
       "      <td>6.427432</td>\n",
       "      <td>0.000000</td>\n",
       "    </tr>\n",
       "    <tr>\n",
       "      <th>25%</th>\n",
       "      <td>1.000000</td>\n",
       "      <td>2.000000</td>\n",
       "      <td>0.000000</td>\n",
       "      <td>1.000000</td>\n",
       "      <td>160.596000</td>\n",
       "      <td>1.314250</td>\n",
       "      <td>2.780000</td>\n",
       "      <td>1.061000</td>\n",
       "      <td>0.384000</td>\n",
       "      <td>7.997143</td>\n",
       "      <td>2.603517</td>\n",
       "      <td>9.590657</td>\n",
       "      <td>0.574000</td>\n",
       "    </tr>\n",
       "    <tr>\n",
       "      <th>50%</th>\n",
       "      <td>1.000000</td>\n",
       "      <td>3.000000</td>\n",
       "      <td>1.000000</td>\n",
       "      <td>2.000000</td>\n",
       "      <td>176.184000</td>\n",
       "      <td>1.782000</td>\n",
       "      <td>2.851000</td>\n",
       "      <td>1.138000</td>\n",
       "      <td>0.416000</td>\n",
       "      <td>8.610471</td>\n",
       "      <td>4.360558</td>\n",
       "      <td>10.226733</td>\n",
       "      <td>1.003000</td>\n",
       "    </tr>\n",
       "    <tr>\n",
       "      <th>75%</th>\n",
       "      <td>2.000000</td>\n",
       "      <td>4.000000</td>\n",
       "      <td>1.000000</td>\n",
       "      <td>3.000000</td>\n",
       "      <td>189.036000</td>\n",
       "      <td>2.230000</td>\n",
       "      <td>2.936000</td>\n",
       "      <td>1.221000</td>\n",
       "      <td>0.458000</td>\n",
       "      <td>9.267095</td>\n",
       "      <td>5.980106</td>\n",
       "      <td>12.777876</td>\n",
       "      <td>1.529000</td>\n",
       "    </tr>\n",
       "    <tr>\n",
       "      <th>max</th>\n",
       "      <td>2.000000</td>\n",
       "      <td>4.000000</td>\n",
       "      <td>1.000000</td>\n",
       "      <td>3.000000</td>\n",
       "      <td>236.268000</td>\n",
       "      <td>4.714000</td>\n",
       "      <td>4.435000</td>\n",
       "      <td>2.281000</td>\n",
       "      <td>0.655000</td>\n",
       "      <td>35.427279</td>\n",
       "      <td>28.288601</td>\n",
       "      <td>26.452045</td>\n",
       "      <td>2.057000</td>\n",
       "    </tr>\n",
       "  </tbody>\n",
       "</table>\n",
       "</div>"
      ],
      "text/plain": [
       "       1º o 2º saque   Efectividad  Lado(1:Iguales;0:Ventaja)  \\\n",
       "count   20454.000000  20454.000000               20454.000000   \n",
       "mean        1.308399      3.032316                   0.522343   \n",
       "std         0.461844      1.011730                   0.499513   \n",
       "min         1.000000      1.000000                   0.000000   \n",
       "25%         1.000000      2.000000                   0.000000   \n",
       "50%         1.000000      3.000000                   1.000000   \n",
       "75%         2.000000      4.000000                   1.000000   \n",
       "max         2.000000      4.000000                   1.000000   \n",
       "\n",
       "       DIRECCIÓN:1 abierto;2 al cuerpo;3 a la T       V(km/h)          [YA]  \\\n",
       "count                              20454.000000  20454.000000  20454.000000   \n",
       "mean                                   2.070451    174.440181      1.762130   \n",
       "std                                    0.821516     19.411117      0.672477   \n",
       "min                                    1.000000     73.296000      0.005000   \n",
       "25%                                    1.000000    160.596000      1.314250   \n",
       "50%                                    2.000000    176.184000      1.782000   \n",
       "75%                                    3.000000    189.036000      2.230000   \n",
       "max                                    3.000000    236.268000      4.714000   \n",
       "\n",
       "                 ZA          Znet          TIME          difV        &(deg)  \\\n",
       "count  20454.000000  20454.000000  20454.000000  20454.000000  20454.000000   \n",
       "mean       2.867122      1.149802      0.423751      8.692615      5.379175   \n",
       "std        0.151205      0.116511      0.052495      1.610355      4.859932   \n",
       "min        2.078000      0.937000      0.242000    -17.917227      0.033120   \n",
       "25%        2.780000      1.061000      0.384000      7.997143      2.603517   \n",
       "50%        2.851000      1.138000      0.416000      8.610471      4.360558   \n",
       "75%        2.936000      1.221000      0.458000      9.267095      5.980106   \n",
       "max        4.435000      2.281000      0.655000     35.427279     28.288601   \n",
       "\n",
       "            ANG. IN        dLinea  \n",
       "count  20454.000000  20454.000000  \n",
       "mean      11.423949      1.042840  \n",
       "std        2.682266      0.566494  \n",
       "min        6.427432      0.000000  \n",
       "25%        9.590657      0.574000  \n",
       "50%       10.226733      1.003000  \n",
       "75%       12.777876      1.529000  \n",
       "max       26.452045      2.057000  "
      ]
     },
     "execution_count": 5,
     "metadata": {},
     "output_type": "execute_result"
    }
   ],
   "source": [
    "df_2.describe()"
   ]
  },
  {
   "cell_type": "code",
   "execution_count": 6,
   "id": "5c9c3c15-2a8a-4543-bc5b-8c17b5e42538",
   "metadata": {},
   "outputs": [],
   "source": [
    "df_2.to_csv('../predictions/df_2.csv')"
   ]
  },
  {
   "cell_type": "code",
   "execution_count": 7,
   "id": "52d71934-ad82-432f-aa8d-91cf16a28724",
   "metadata": {},
   "outputs": [
    {
     "data": {
      "text/plain": [
       "array([2, 3, 2, ..., 4, 3, 4])"
      ]
     },
     "execution_count": 7,
     "metadata": {},
     "output_type": "execute_result"
    }
   ],
   "source": [
    "df_2.Efectividad.values"
   ]
  },
  {
   "cell_type": "code",
   "execution_count": 8,
   "id": "fe7b46c8-6289-4cea-83bb-b6c55934393b",
   "metadata": {},
   "outputs": [],
   "source": [
    "# sorted(df_2.columns)"
   ]
  },
  {
   "cell_type": "markdown",
   "id": "75aaf72d-25e0-43a7-b96b-35c74c5e5362",
   "metadata": {},
   "source": [
    "startScore_Server  = [0 15 30 40 50 3 4 6 1 5 7 8 2 'WIN' 9 10 11 12 13]  \n",
    "startScore_Receiver = [0 15 40 50 30 1 2 5 6 3 7 4 8 'LOS' 9 10 11 12 13]\n",
    "\n",
    "I don't understand this variable ... not in a format the machine can understand. Delete for the moment\n",
    "\n",
    "EventID: I don't think the machine can understand this variable for the moment ...   \n",
    "   not clear how to show to the machine (162 events?)... we will show all events as one for the moment"
   ]
  },
  {
   "cell_type": "code",
   "execution_count": 9,
   "id": "a7d2c2dd-f644-4772-bbaf-93ff314fd6b0",
   "metadata": {},
   "outputs": [],
   "source": [
    "corr = df_2.corr(method='pearson').Efectividad.sort_values(ascending=False)\n",
    "correlated_cols = list(corr[corr>0].index)"
   ]
  },
  {
   "cell_type": "code",
   "execution_count": 10,
   "id": "df3ff217-32ae-40f6-b5db-f353824a9b9e",
   "metadata": {},
   "outputs": [
    {
     "data": {
      "text/plain": [
       "['Efectividad',\n",
       " 'dLinea',\n",
       " 'TIME',\n",
       " '1º o 2º saque',\n",
       " '[YA]',\n",
       " 'Znet',\n",
       " 'DIRECCIÓN:1 abierto;2 al cuerpo;3 a la T']"
      ]
     },
     "execution_count": 10,
     "metadata": {},
     "output_type": "execute_result"
    }
   ],
   "source": [
    "correlated_cols"
   ]
  },
  {
   "cell_type": "code",
   "execution_count": 11,
   "id": "c6c81242-135d-48b9-b06c-8e5422ad85b0",
   "metadata": {},
   "outputs": [
    {
     "data": {
      "text/plain": [
       "Efectividad                                 1.000000\n",
       "dLinea                                      0.244283\n",
       "TIME                                        0.194283\n",
       "1º o 2º saque                               0.169003\n",
       "[YA]                                        0.076397\n",
       "Znet                                        0.052546\n",
       "DIRECCIÓN:1 abierto;2 al cuerpo;3 a la T    0.018908\n",
       "Lado(1:Iguales;0:Ventaja)                  -0.015022\n",
       "difV                                       -0.019550\n",
       "ZA                                         -0.033600\n",
       "ANG. IN                                    -0.081613\n",
       "&(deg)                                     -0.137573\n",
       "V(km/h)                                    -0.212049\n",
       "Name: Efectividad, dtype: float64"
      ]
     },
     "execution_count": 11,
     "metadata": {},
     "output_type": "execute_result"
    }
   ],
   "source": [
    "corr"
   ]
  },
  {
   "cell_type": "markdown",
   "id": "7cb7f4e0-3b2a-4fc2-8b2b-10fde556ffcf",
   "metadata": {},
   "source": [
    "#### **Conclusión:**\n",
    "las correlaciones positivas son las que están correlacionadas con efectividad = 1,\n",
    "pero las negativas pueden estar correlacionadas con efectividad nula, la cual es info válida tb.\n",
    "\n",
    "Vamos a preparar dos datasets, uno con las positivas y otro con todas, Entrenar un par de modelos y sacar conclusiones.\n",
    "\n",
    "Also, for the moment we are goind to delete the eventID --> 162 different events ... "
   ]
  },
  {
   "cell_type": "code",
   "execution_count": 12,
   "id": "67c4c3cd-80d4-4d58-946e-5a4f012a8afc",
   "metadata": {},
   "outputs": [
    {
     "data": {
      "text/plain": [
       "20454"
      ]
     },
     "execution_count": 12,
     "metadata": {},
     "output_type": "execute_result"
    }
   ],
   "source": [
    "len(df)"
   ]
  },
  {
   "cell_type": "code",
   "execution_count": 13,
   "id": "a1a89847-3dfa-4ca9-aaae-8211ffee0ef2",
   "metadata": {},
   "outputs": [],
   "source": [
    "df_positive_corr = df[correlated_cols]\n",
    "# df_positive_corr.head()"
   ]
  },
  {
   "cell_type": "code",
   "execution_count": 14,
   "id": "85f36f37-0b5f-4203-a1a1-f4f5100ef04c",
   "metadata": {},
   "outputs": [],
   "source": [
    "df_positive_corr_copy = df_positive_corr"
   ]
  },
  {
   "cell_type": "markdown",
   "id": "67daaa7d-7c20-4f95-956c-f11074bd2fa9",
   "metadata": {},
   "source": [
    "## Filter Outliers"
   ]
  },
  {
   "cell_type": "raw",
   "id": "f0e5356f-d37f-49de-8346-3370ef5e7aa6",
   "metadata": {},
   "source": [
    "cols = ['Y1(ABS)'] # one or more\n",
    "Q1 = df_positive_corr[cols].quantile(0.25)\n",
    "Q3 = df_positive_corr[cols].quantile(0.99)\n",
    "IQR = Q3 - Q1\n",
    "df_positive_corr = df_positive_corr[~((df_positive_corr[cols] < (Q1 - 1.5 * IQR)) |(df_positive_corr[cols] > (Q3 + 1.5 * IQR))).any(axis=1)]\n",
    "\n",
    "cols = ['Dif. V1-V2'] # one or more\n",
    "Q1 = df_positive_corr[cols].quantile(0.25)\n",
    "Q3 = df_positive_corr[cols].quantile(0.75)\n",
    "IQR = Q3 - Q1\n",
    "df_positive_corr = df_positive_corr[~((df_positive_corr[cols] < (Q1 - 1.5 * IQR)) |(df_positive_corr[cols] > (Q3 + 1.5 * IQR))).any(axis=1)]\n",
    "\n",
    "cols = ['PostV'] # one or more\n",
    "Q1 = df_positive_corr[cols].quantile(0.05)\n",
    "Q3 = df_positive_corr[cols].quantile(0.75)\n",
    "IQR = Q3 - Q1\n",
    "df_positive_corr = df_positive_corr[~((df_positive_corr[cols] < (Q1 - 1.5 * IQR)) |(df_positive_corr[cols] > (Q3 + 1.5 * IQR))).any(axis=1)]"
   ]
  },
  {
   "cell_type": "code",
   "execution_count": 19,
   "id": "80fa24c5-02b4-4af4-a69e-53da583d713e",
   "metadata": {},
   "outputs": [
    {
     "data": {
      "text/plain": [
       "<AxesSubplot:>"
      ]
     },
     "execution_count": 19,
     "metadata": {},
     "output_type": "execute_result"
    },
    {
     "data": {
      "image/png": "[encoded data removed]",
      "text/plain": [
       "<Figure size 1080x360 with 1 Axes>"
      ]
     },
     "metadata": {},
     "output_type": "display_data"
    }
   ],
   "source": [
    "import numpy as np\n",
    "import seaborn as sn\n",
    "sn.set(rc={\"figure.figsize\":(15, 5)})\n",
    "sn.boxplot(data=df_positive_corr)"
   ]
  },
  {
   "cell_type": "code",
   "execution_count": 20,
   "id": "343fd5ca-9d9e-4549-a160-63d7d6608f99",
   "metadata": {},
   "outputs": [
    {
     "ename": "AttributeError",
     "evalue": "'DataFrame' object has no attribute 'Efectividad'",
     "output_type": "error",
     "traceback": [
      "\u001b[0;31m---------------------------------------------------------------------------\u001b[0m",
      "\u001b[0;31mAttributeError\u001b[0m                            Traceback (most recent call last)",
      "Input \u001b[0;32mIn [20]\u001b[0m, in \u001b[0;36m<cell line: 3>\u001b[0;34m()\u001b[0m\n\u001b[1;32m      1\u001b[0m \u001b[38;5;66;03m### save as csv\u001b[39;00m\n\u001b[1;32m      2\u001b[0m \u001b[38;5;66;03m### split before preprocessing, to avoid data leakage\u001b[39;00m\n\u001b[0;32m----> 3\u001b[0m XX, yy \u001b[38;5;241m=\u001b[39m df_positive_corr, \u001b[43mdf_positive_corr\u001b[49m\u001b[38;5;241;43m.\u001b[39;49m\u001b[43mEfectividad\u001b[49m\n\u001b[1;32m      4\u001b[0m XX\u001b[38;5;241m.\u001b[39mdrop(\u001b[38;5;124m'\u001b[39m\u001b[38;5;124mEfectividad\u001b[39m\u001b[38;5;124m'\u001b[39m, axis\u001b[38;5;241m=\u001b[39m\u001b[38;5;241m1\u001b[39m, inplace\u001b[38;5;241m=\u001b[39m\u001b[38;5;28;01mTrue\u001b[39;00m)\n\u001b[1;32m      6\u001b[0m \u001b[38;5;66;03m# Creating a dataframe with 80%\u001b[39;00m\n\u001b[1;32m      7\u001b[0m \u001b[38;5;66;03m# values of original dataframe\u001b[39;00m\n",
      "File \u001b[0;32m~/pyenvs/tennis/lib/python3.8/site-packages/pandas/core/generic.py:5487\u001b[0m, in \u001b[0;36mNDFrame.__getattr__\u001b[0;34m(self, name)\u001b[0m\n\u001b[1;32m   5480\u001b[0m \u001b[38;5;28;01mif\u001b[39;00m (\n\u001b[1;32m   5481\u001b[0m     name \u001b[38;5;129;01mnot\u001b[39;00m \u001b[38;5;129;01min\u001b[39;00m \u001b[38;5;28mself\u001b[39m\u001b[38;5;241m.\u001b[39m_internal_names_set\n\u001b[1;32m   5482\u001b[0m     \u001b[38;5;129;01mand\u001b[39;00m name \u001b[38;5;129;01mnot\u001b[39;00m \u001b[38;5;129;01min\u001b[39;00m \u001b[38;5;28mself\u001b[39m\u001b[38;5;241m.\u001b[39m_metadata\n\u001b[1;32m   5483\u001b[0m     \u001b[38;5;129;01mand\u001b[39;00m name \u001b[38;5;129;01mnot\u001b[39;00m \u001b[38;5;129;01min\u001b[39;00m \u001b[38;5;28mself\u001b[39m\u001b[38;5;241m.\u001b[39m_accessors\n\u001b[1;32m   5484\u001b[0m     \u001b[38;5;129;01mand\u001b[39;00m \u001b[38;5;28mself\u001b[39m\u001b[38;5;241m.\u001b[39m_info_axis\u001b[38;5;241m.\u001b[39m_can_hold_identifiers_and_holds_name(name)\n\u001b[1;32m   5485\u001b[0m ):\n\u001b[1;32m   5486\u001b[0m     \u001b[38;5;28;01mreturn\u001b[39;00m \u001b[38;5;28mself\u001b[39m[name]\n\u001b[0;32m-> 5487\u001b[0m \u001b[38;5;28;01mreturn\u001b[39;00m \u001b[38;5;28;43mobject\u001b[39;49m\u001b[38;5;241;43m.\u001b[39;49m\u001b[38;5;21;43m__getattribute__\u001b[39;49m\u001b[43m(\u001b[49m\u001b[38;5;28;43mself\u001b[39;49m\u001b[43m,\u001b[49m\u001b[43m \u001b[49m\u001b[43mname\u001b[49m\u001b[43m)\u001b[49m\n",
      "\u001b[0;31mAttributeError\u001b[0m: 'DataFrame' object has no attribute 'Efectividad'"
     ]
    }
   ],
   "source": [
    "### save as csv\n",
    "### split before preprocessing, to avoid data leakage\n",
    "XX, yy = df_positive_corr, df_positive_corr.Efectividad\n",
    "XX.drop('Efectividad', axis=1, inplace=True)\n",
    "\n",
    "# Creating a dataframe with 80%\n",
    "# values of original dataframe\n",
    "Xtrain = XX.sample(frac = 0.8)\n",
    "Ytrain = yy.sample(frac = 0.8)\n",
    " \n",
    "# Creating dataframe with\n",
    "# rest of the 20% values\n",
    "Xtest = XX.drop(Xtrain.index)\n",
    "Ytest = yy.drop(Ytrain.index)"
   ]
  },
  {
   "cell_type": "code",
   "execution_count": 17,
   "id": "b6937ac3-23e5-4dca-9648-ad4af4986a86",
   "metadata": {},
   "outputs": [
    {
     "data": {
      "text/plain": [
       "11537    2\n",
       "11038    3\n",
       "8179     3\n",
       "11892    2\n",
       "11120    2\n",
       "        ..\n",
       "17056    2\n",
       "7608     2\n",
       "2179     3\n",
       "18326    4\n",
       "3511     3\n",
       "Name: Efectividad, Length: 16363, dtype: int64"
      ]
     },
     "execution_count": 17,
     "metadata": {},
     "output_type": "execute_result"
    }
   ],
   "source": [
    "Ytrain"
   ]
  },
  {
   "cell_type": "code",
   "execution_count": 18,
   "id": "2c4f3e97-8c72-46d2-a35e-b1a653087bb3",
   "metadata": {},
   "outputs": [],
   "source": [
    "Xtrain.to_csv('../predictions/Xtrain.csv')\n",
    "Ytrain.to_csv('../predictions/Ytrain.csv')\n",
    "Xtest.to_csv('../predictions/Xtest.csv')\n",
    "Ytest.to_csv('../predictions/Ytest.csv')"
   ]
  },
  {
   "cell_type": "code",
   "execution_count": 21,
   "id": "fc5c923d-7532-4a55-a85d-7506b2d7c07a",
   "metadata": {},
   "outputs": [
    {
     "name": "stdout",
     "output_type": "stream",
     "text": [
      "/home/javier/mis_proyectos/tennis/EDA\n"
     ]
    }
   ],
   "source": [
    "!pwd"
   ]
  },
  {
   "cell_type": "markdown",
   "id": "d0c2cea6-615b-479f-bffa-18a7f4d45958",
   "metadata": {},
   "source": [
    "### Algorithms:"
   ]
  },
  {
   "cell_type": "code",
   "execution_count": 21,
   "id": "bf1c0050-c609-4159-9665-4fe8396b6413",
   "metadata": {},
   "outputs": [
    {
     "name": "stdout",
     "output_type": "stream",
     "text": [
      "[[   0    0    0  347]\n",
      " [   0    0    0 1055]\n",
      " [   0    0    0  911]\n",
      " [   0    0    0 1778]]\n",
      "              precision    recall  f1-score   support\n",
      "\n",
      "           1       0.00      0.00      0.00       347\n",
      "           2       0.00      0.00      0.00      1055\n",
      "           3       0.00      0.00      0.00       911\n",
      "           4       0.43      1.00      0.61      1778\n",
      "\n",
      "    accuracy                           0.43      4091\n",
      "   macro avg       0.11      0.25      0.15      4091\n",
      "weighted avg       0.19      0.43      0.26      4091\n",
      "\n"
     ]
    },
    {
     "name": "stderr",
     "output_type": "stream",
     "text": [
      "/home/javier/pyenvs/tennis/lib/python3.8/site-packages/sklearn/metrics/_classification.py:1318: UndefinedMetricWarning: Precision and F-score are ill-defined and being set to 0.0 in labels with no predicted samples. Use `zero_division` parameter to control this behavior.\n",
      "  _warn_prf(average, modifier, msg_start, len(result))\n",
      "/home/javier/pyenvs/tennis/lib/python3.8/site-packages/sklearn/metrics/_classification.py:1318: UndefinedMetricWarning: Precision and F-score are ill-defined and being set to 0.0 in labels with no predicted samples. Use `zero_division` parameter to control this behavior.\n",
      "  _warn_prf(average, modifier, msg_start, len(result))\n",
      "/home/javier/pyenvs/tennis/lib/python3.8/site-packages/sklearn/metrics/_classification.py:1318: UndefinedMetricWarning: Precision and F-score are ill-defined and being set to 0.0 in labels with no predicted samples. Use `zero_division` parameter to control this behavior.\n",
      "  _warn_prf(average, modifier, msg_start, len(result))\n"
     ]
    }
   ],
   "source": [
    "# https://stackabuse.com/implementing-svm-and-kernel-svm-with-pythons-scikit-learn/\n",
    "import numpy as np\n",
    "import matplotlib.pyplot as plt\n",
    "import pandas as pd\n",
    "from sklearn.metrics import classification_report, confusion_matrix\n",
    "from sklearn.model_selection import train_test_split\n",
    "from sklearn.svm import SVC\n",
    "\n",
    "svclassifier = SVC(kernel='rbf')\n",
    "svclassifier.fit(Xtrain, Ytrain)\n",
    "\n",
    "y_pred = svclassifier.predict(Xtest)\n",
    "\n",
    "print(confusion_matrix(Ytest, y_pred))\n",
    "print(classification_report(Ytest, y_pred))"
   ]
  },
  {
   "cell_type": "code",
   "execution_count": 24,
   "id": "d70dc606-fc80-4960-9233-83e13669edab",
   "metadata": {},
   "outputs": [
    {
     "data": {
      "text/plain": [
       "<sklearn.metrics._plot.confusion_matrix.ConfusionMatrixDisplay at 0x7f04b4ae6f10>"
      ]
     },
     "execution_count": 24,
     "metadata": {},
     "output_type": "execute_result"
    },
    {
     "data": {
      "image/png": "[encoded data removed]",
      "text/plain": [
       "<Figure size 1080x360 with 2 Axes>"
      ]
     },
     "metadata": {},
     "output_type": "display_data"
    }
   ],
   "source": [
    "from sklearn.metrics import confusion_matrix, ConfusionMatrixDisplay\n",
    "\n",
    "cm = confusion_matrix(Ytest, y_pred, normalize='all')\n",
    "cmd = ConfusionMatrixDisplay(cm, display_labels=['1','2', '3', '4'])\n",
    "cmd.plot()"
   ]
  },
  {
   "cell_type": "code",
   "execution_count": 25,
   "id": "2bba4227-ec16-4505-ba46-579ecee614c0",
   "metadata": {},
   "outputs": [
    {
     "name": "stdout",
     "output_type": "stream",
     "text": [
      "              precision    recall  f1-score   support\n",
      "\n",
      "           1       0.00      0.00      0.00       347\n",
      "           2       0.00      0.00      0.00      1055\n",
      "           3       0.00      0.00      0.00       911\n",
      "           4       0.43      1.00      0.61      1778\n",
      "\n",
      "    accuracy                           0.43      4091\n",
      "   macro avg       0.11      0.25      0.15      4091\n",
      "weighted avg       0.19      0.43      0.26      4091\n",
      "\n"
     ]
    },
    {
     "name": "stderr",
     "output_type": "stream",
     "text": [
      "/home/javier/pyenvs/tennis/lib/python3.8/site-packages/sklearn/metrics/_classification.py:1318: UndefinedMetricWarning: Precision and F-score are ill-defined and being set to 0.0 in labels with no predicted samples. Use `zero_division` parameter to control this behavior.\n",
      "  _warn_prf(average, modifier, msg_start, len(result))\n",
      "/home/javier/pyenvs/tennis/lib/python3.8/site-packages/sklearn/metrics/_classification.py:1318: UndefinedMetricWarning: Precision and F-score are ill-defined and being set to 0.0 in labels with no predicted samples. Use `zero_division` parameter to control this behavior.\n",
      "  _warn_prf(average, modifier, msg_start, len(result))\n",
      "/home/javier/pyenvs/tennis/lib/python3.8/site-packages/sklearn/metrics/_classification.py:1318: UndefinedMetricWarning: Precision and F-score are ill-defined and being set to 0.0 in labels with no predicted samples. Use `zero_division` parameter to control this behavior.\n",
      "  _warn_prf(average, modifier, msg_start, len(result))\n"
     ]
    }
   ],
   "source": [
    "### apply zscore to X\n",
    "from sklearn.preprocessing import MinMaxScaler\n",
    "\n",
    "scaler = MinMaxScaler()\n",
    "X_train_scaled = scaler.fit_transform(Xtrain)\n",
    "X_test_scaled = scaler.transform(Xtest)\n",
    "\n",
    "model = SVC(kernel='rbf')\n",
    "model.fit(X_train_scaled, Ytrain)\n",
    "y_pred = model.predict(X_test_scaled)\n",
    "print(classification_report(Ytest, y_pred))"
   ]
  },
  {
   "cell_type": "code",
   "execution_count": 26,
   "id": "1057801e-8865-47f4-abe7-f705c53cd01e",
   "metadata": {},
   "outputs": [
    {
     "data": {
      "text/plain": [
       "((16363, 6), (16363,))"
      ]
     },
     "execution_count": 26,
     "metadata": {},
     "output_type": "execute_result"
    }
   ],
   "source": [
    "X_train_scaled.shape, Ytrain.shape"
   ]
  },
  {
   "cell_type": "code",
   "execution_count": 28,
   "id": "5b2bf2ce-c26f-4d4d-8221-2cdcf72fa54d",
   "metadata": {},
   "outputs": [],
   "source": [
    "### save final dataset\n",
    "import pickle as pkl\n",
    "\n",
    "#to save it\n",
    "with open(\"train.pkl\", \"wb\") as f:\n",
    "    pkl.dump([X_train_scaled, Ytrain], f)\n",
    "    \n",
    "#to save it\n",
    "with open(\"test.pkl\", \"wb\") as f:\n",
    "    pkl.dump([X_test_scaled, Ytest], f)    \n",
    "\n",
    "# #to load it\n",
    "# with open(\"train.pkl\", \"r\") as f:\n",
    "#     train_x, train_y = pkl.load(f)"
   ]
  },
  {
   "cell_type": "code",
   "execution_count": 27,
   "id": "7c9831c8-4f0f-4287-a2ee-d7478071259e",
   "metadata": {},
   "outputs": [
    {
     "data": {
      "text/plain": [
       "array([[0.17744288, 0.26150121, 0.        , 0.19031436, 0.11755952,\n",
       "        1.        ],\n",
       "       [0.98979096, 0.57869249, 1.        , 0.11363636, 0.2827381 ,\n",
       "        0.5       ],\n",
       "       [0.3033544 , 0.4527845 , 0.        , 0.42353441, 0.20758929,\n",
       "        0.        ],\n",
       "       ...,\n",
       "       [0.6966456 , 0.33656174, 0.        , 0.37744265, 0.22247024,\n",
       "        0.5       ],\n",
       "       [0.82887701, 0.44067797, 0.        , 0.48513169, 0.21279762,\n",
       "        0.5       ],\n",
       "       [0.22022363, 0.27118644, 0.        , 0.11406117, 0.11309524,\n",
       "        1.        ]])"
      ]
     },
     "execution_count": 27,
     "metadata": {},
     "output_type": "execute_result"
    }
   ],
   "source": [
    "X_train_scaled"
   ]
  },
  {
   "cell_type": "code",
   "execution_count": 29,
   "id": "8debdfcc-1d71-4a7a-b46a-7d747d626224",
   "metadata": {},
   "outputs": [
    {
     "data": {
      "text/plain": [
       "11537    2\n",
       "11038    3\n",
       "8179     3\n",
       "11892    2\n",
       "11120    2\n",
       "        ..\n",
       "17056    2\n",
       "7608     2\n",
       "2179     3\n",
       "18326    4\n",
       "3511     3\n",
       "Name: Efectividad, Length: 16363, dtype: int64"
      ]
     },
     "execution_count": 29,
     "metadata": {},
     "output_type": "execute_result"
    }
   ],
   "source": [
    "X_train_scaled\n",
    "X_test_scaled\n",
    "Ytest\n",
    "Ytrain"
   ]
  },
  {
   "cell_type": "code",
   "execution_count": null,
   "id": "ee8ff201-af51-4842-a965-994641b5253c",
   "metadata": {},
   "outputs": [],
   "source": []
  },
  {
   "cell_type": "markdown",
   "id": "4495655a-4325-4d71-a921-4c8ab8ba7765",
   "metadata": {},
   "source": [
    "## Try all possible algorithms and compare! \n",
    "Here starts the fun part "
   ]
  },
  {
   "cell_type": "markdown",
   "id": "d847b8eb-2f97-4608-9685-283a8c77f135",
   "metadata": {},
   "source": [
    "## Lessons learnt - TODOES:  \n",
    "- use df_3, not the top correlated df  \n",
    "- using V vs Efectividad gives almos tthe same results!  \n",
    "- Try all algorithms with all 3 X options!!  \n",
    "    - V vs Efectividad\n",
    "    - df_3 vs Efectividad\n",
    "    - Max_correlated_vars_df vs Efectividad"
   ]
  },
  {
   "cell_type": "code",
   "execution_count": 30,
   "id": "3c91461f-400f-41cd-a4af-f58d4a299ae1",
   "metadata": {},
   "outputs": [
    {
     "name": "stdout",
     "output_type": "stream",
     "text": [
      "              precision    recall  f1-score   support\n",
      "\n",
      "           1       0.00      0.00      0.00       347\n",
      "           2       0.00      0.00      0.00      1055\n",
      "           3       0.00      0.00      0.00       911\n",
      "           4       0.43      1.00      0.61      1778\n",
      "\n",
      "    accuracy                           0.43      4091\n",
      "   macro avg       0.11      0.25      0.15      4091\n",
      "weighted avg       0.19      0.43      0.26      4091\n",
      "\n"
     ]
    },
    {
     "name": "stderr",
     "output_type": "stream",
     "text": [
      "/home/javier/pyenvs/tennis/lib/python3.8/site-packages/sklearn/metrics/_classification.py:1318: UndefinedMetricWarning: Precision and F-score are ill-defined and being set to 0.0 in labels with no predicted samples. Use `zero_division` parameter to control this behavior.\n",
      "  _warn_prf(average, modifier, msg_start, len(result))\n",
      "/home/javier/pyenvs/tennis/lib/python3.8/site-packages/sklearn/metrics/_classification.py:1318: UndefinedMetricWarning: Precision and F-score are ill-defined and being set to 0.0 in labels with no predicted samples. Use `zero_division` parameter to control this behavior.\n",
      "  _warn_prf(average, modifier, msg_start, len(result))\n",
      "/home/javier/pyenvs/tennis/lib/python3.8/site-packages/sklearn/metrics/_classification.py:1318: UndefinedMetricWarning: Precision and F-score are ill-defined and being set to 0.0 in labels with no predicted samples. Use `zero_division` parameter to control this behavior.\n",
      "  _warn_prf(average, modifier, msg_start, len(result))\n"
     ]
    }
   ],
   "source": [
    "import pickle\n",
    "\n",
    "# https://stackabuse.com/implementing-svm-and-kernel-svm-with-pythons-scikit-learn/\n",
    "import numpy as np\n",
    "import matplotlib.pyplot as plt\n",
    "import pandas as pd\n",
    "from sklearn.metrics import classification_report, confusion_matrix\n",
    "from sklearn.model_selection import train_test_split\n",
    "from sklearn.svm import SVC\n",
    "\n",
    "### Load Data:\n",
    "X_train_scaled, Ytrain = pickle.load(open(\"train.pkl\", \"rb\"))  # X_train_scaled, y_train\n",
    "X_test_scaled, Ytest = pickle.load(open(\"test.pkl\", \"rb\"))     # \n",
    "\n",
    "### load the model\n",
    "# model = pickle.load(open(\"model.pkl\", \"rb\"))\n",
    "\n",
    "## use model to predict\n",
    "y_pred = model.predict(X_test_scaled)\n",
    "print(classification_report(Ytest, y_pred))"
   ]
  },
  {
   "cell_type": "code",
   "execution_count": 32,
   "id": "323388ec-85f3-4924-9b9d-3e4b83e535a1",
   "metadata": {},
   "outputs": [],
   "source": [
    "y_train, y_test = Ytrain, Ytest"
   ]
  },
  {
   "cell_type": "code",
   "execution_count": 33,
   "id": "4c8b36bf-40cc-466d-9150-d0f2ea703aad",
   "metadata": {},
   "outputs": [
    {
     "name": "stdout",
     "output_type": "stream",
     "text": [
      "              precision    recall  f1-score   support\n",
      "\n",
      "           1       0.00      0.00      0.00       347\n",
      "           2       0.00      0.00      0.00      1055\n",
      "           3       0.00      0.00      0.00       911\n",
      "           4       0.43      1.00      0.61      1778\n",
      "\n",
      "    accuracy                           0.43      4091\n",
      "   macro avg       0.11      0.25      0.15      4091\n",
      "weighted avg       0.19      0.43      0.26      4091\n",
      "\n"
     ]
    },
    {
     "name": "stderr",
     "output_type": "stream",
     "text": [
      "/home/javier/pyenvs/tennis/lib/python3.8/site-packages/sklearn/metrics/_classification.py:1318: UndefinedMetricWarning: Precision and F-score are ill-defined and being set to 0.0 in labels with no predicted samples. Use `zero_division` parameter to control this behavior.\n",
      "  _warn_prf(average, modifier, msg_start, len(result))\n",
      "/home/javier/pyenvs/tennis/lib/python3.8/site-packages/sklearn/metrics/_classification.py:1318: UndefinedMetricWarning: Precision and F-score are ill-defined and being set to 0.0 in labels with no predicted samples. Use `zero_division` parameter to control this behavior.\n",
      "  _warn_prf(average, modifier, msg_start, len(result))\n",
      "/home/javier/pyenvs/tennis/lib/python3.8/site-packages/sklearn/metrics/_classification.py:1318: UndefinedMetricWarning: Precision and F-score are ill-defined and being set to 0.0 in labels with no predicted samples. Use `zero_division` parameter to control this behavior.\n",
      "  _warn_prf(average, modifier, msg_start, len(result))\n"
     ]
    }
   ],
   "source": [
    "model = SVC(kernel='rbf')\n",
    "model.fit(X_train_scaled, y_train)\n",
    "y_pred = model.predict(X_test_scaled)\n",
    "print(classification_report(y_test, y_pred))"
   ]
  },
  {
   "cell_type": "code",
   "execution_count": 34,
   "id": "6cb76bd1-e620-4476-aa06-664eb4e0664e",
   "metadata": {},
   "outputs": [
    {
     "name": "stderr",
     "output_type": "stream",
     "text": [
      "/home/javier/pyenvs/tennis/lib/python3.8/site-packages/sklearn/metrics/_classification.py:1318: UndefinedMetricWarning: Precision and F-score are ill-defined and being set to 0.0 in labels with no predicted samples. Use `zero_division` parameter to control this behavior.\n",
      "  _warn_prf(average, modifier, msg_start, len(result))\n",
      "/home/javier/pyenvs/tennis/lib/python3.8/site-packages/sklearn/metrics/_classification.py:1318: UndefinedMetricWarning: Precision and F-score are ill-defined and being set to 0.0 in labels with no predicted samples. Use `zero_division` parameter to control this behavior.\n",
      "  _warn_prf(average, modifier, msg_start, len(result))\n",
      "/home/javier/pyenvs/tennis/lib/python3.8/site-packages/sklearn/metrics/_classification.py:1318: UndefinedMetricWarning: Precision and F-score are ill-defined and being set to 0.0 in labels with no predicted samples. Use `zero_division` parameter to control this behavior.\n",
      "  _warn_prf(average, modifier, msg_start, len(result))\n"
     ]
    },
    {
     "data": {
      "text/plain": [
       "0.4346125641652408"
      ]
     },
     "execution_count": 34,
     "metadata": {},
     "output_type": "execute_result"
    }
   ],
   "source": [
    "### Let's play with some Hyperparameters Cross-Validation search:\n",
    "# C: Regularization parameter   -   float, default=1.0   -  Lambda in formulation\n",
    "# gamma='scale' (default) is passed then it uses 1 / (n_features * X.var()) as value of gamma,\n",
    "\n",
    "classification_report(y_test, y_pred, output_dict=True)['accuracy']"
   ]
  },
  {
   "cell_type": "code",
   "execution_count": 35,
   "id": "c6ff0393-1e59-4d67-8f37-f134b312f3b0",
   "metadata": {},
   "outputs": [
    {
     "data": {
      "text/plain": [
       "0.10007204328929373"
      ]
     },
     "execution_count": 35,
     "metadata": {},
     "output_type": "execute_result"
    }
   ],
   "source": [
    "X_train_scaled.var()"
   ]
  },
  {
   "cell_type": "code",
   "execution_count": 36,
   "id": "8451a0b4-9993-4e09-9640-1180e0a4652f",
   "metadata": {},
   "outputs": [
    {
     "data": {
      "text/plain": [
       "1.6654668095949394"
      ]
     },
     "execution_count": 36,
     "metadata": {},
     "output_type": "execute_result"
    }
   ],
   "source": [
    "gamma = 1 / (X_train_scaled.shape[1]*X_train_scaled.var())  # gamma = 1 / (n_features * X_train_scaled.var()) \n",
    "gamma  ### default gamma"
   ]
  },
  {
   "cell_type": "code",
   "execution_count": 37,
   "id": "fbe54367-ad9e-496e-b415-cb5ea5b17180",
   "metadata": {},
   "outputs": [],
   "source": [
    "### create the values for the grid\n",
    "C_search     = [0.01, 0.1, 0.5, 0.75, 1,   1.50, 2.0]\n",
    "gamma_search = [0.01, 0.1, 0.5, 0.75, 1,   1.25, 1.5]"
   ]
  },
  {
   "cell_type": "code",
   "execution_count": 92,
   "id": "7c94795c-9d10-446d-90ab-41ca846922c4",
   "metadata": {},
   "outputs": [],
   "source": [
    "# from tqdm import tqdm\n",
    "# results_dicto = []\n",
    "# \n",
    "# for c in tqdm(C_search, desc='Iter. over Regularization parameter & kernel gammas'):\n",
    "#     for g in gamma_search:\n",
    "#         m = SVC(kernel='rbf', C=c, gamma=g)  # model  # tol = cost function tolerance\n",
    "#         m.fit(X_train_scaled, y_train)\n",
    "#         y_pred = m.predict(X_test_scaled)\n",
    "#         cls_acc = classification_report(y_test, y_pred, output_dict=True)['accuracy']\n",
    "#         results = {'lambda': m.C, 'gamma': m.gamma, 'accuracy': cls_acc}\n",
    "#         results_dicto.append(results)\n",
    "# \n",
    "# print()\n",
    "# results_dicto"
   ]
  },
  {
   "cell_type": "code",
   "execution_count": 38,
   "id": "ff9f7b27-44f7-42a4-bd18-640a6cc3d3c1",
   "metadata": {},
   "outputs": [
    {
     "ename": "NameError",
     "evalue": "name 'nested_dicto' is not defined",
     "output_type": "error",
     "traceback": [
      "\u001b[0;31m---------------------------------------------------------------------------\u001b[0m",
      "\u001b[0;31mNameError\u001b[0m                                 Traceback (most recent call last)",
      "Input \u001b[0;32mIn [38]\u001b[0m, in \u001b[0;36m<cell line: 1>\u001b[0;34m()\u001b[0m\n\u001b[0;32m----> 1\u001b[0m \u001b[38;5;28mmax\u001b[39m([x[\u001b[38;5;124m'\u001b[39m\u001b[38;5;124maccuracy\u001b[39m\u001b[38;5;124m'\u001b[39m] \u001b[38;5;28;01mfor\u001b[39;00m x \u001b[38;5;129;01min\u001b[39;00m \u001b[43mnested_dicto\u001b[49m]), m\u001b[38;5;241m.\u001b[39mC, m\u001b[38;5;241m.\u001b[39mgamma\n",
      "\u001b[0;31mNameError\u001b[0m: name 'nested_dicto' is not defined"
     ]
    }
   ],
   "source": [
    "max([x['accuracy'] for x in nested_dicto]), m.C, m.gamma"
   ]
  },
  {
   "cell_type": "code",
   "execution_count": null,
   "id": "acec756e-4cdb-492c-b58b-21f8ad70c9cb",
   "metadata": {},
   "outputs": [],
   "source": []
  },
  {
   "cell_type": "code",
   "execution_count": 39,
   "id": "cbc167b1-28de-49d7-a1b1-d5d04f94f878",
   "metadata": {},
   "outputs": [],
   "source": [
    "from numpy import mean\n",
    "from sklearn.datasets import make_classification\n",
    "from sklearn.model_selection import cross_val_score\n",
    "from sklearn.model_selection import RepeatedStratifiedKFold\n",
    "from xgboost import XGBClassifier"
   ]
  },
  {
   "cell_type": "code",
   "execution_count": 40,
   "id": "480ce43d-55a4-4083-974a-247b16783664",
   "metadata": {},
   "outputs": [
    {
     "name": "stderr",
     "output_type": "stream",
     "text": [
      "/home/javier/pyenvs/tennis/lib/python3.8/site-packages/xgboost/sklearn.py:1146: UserWarning: The use of label encoder in XGBClassifier is deprecated and will be removed in a future release. To remove this warning, do the following: 1) Pass option use_label_encoder=False when constructing XGBClassifier object; and 2) Encode your labels (y) as integers starting with 0, i.e. 0, 1, 2, ..., [num_class - 1].\n",
      "  warnings.warn(label_encoder_deprecation_msg, UserWarning)\n"
     ]
    },
    {
     "name": "stdout",
     "output_type": "stream",
     "text": [
      "[01:12:41] WARNING: ../src/learner.cc:1095: Starting in XGBoost 1.3.0, the default evaluation metric used with the objective 'multi:softprob' was changed from 'merror' to 'mlogloss'. Explicitly set eval_metric if you'd like to restore the old behavior.\n",
      "              precision    recall  f1-score   support\n",
      "\n",
      "           1       0.00      0.00      0.00       347\n",
      "           2       0.23      0.08      0.11      1055\n",
      "           3       0.23      0.04      0.07       911\n",
      "           4       0.43      0.88      0.58      1778\n",
      "\n",
      "    accuracy                           0.41      4091\n",
      "   macro avg       0.23      0.25      0.19      4091\n",
      "weighted avg       0.30      0.41      0.30      4091\n",
      "\n"
     ]
    }
   ],
   "source": [
    "\"\"\"\n",
    "X_train_scaled, y_train\n",
    "X_test_scaled, y_test\n",
    "\"\"\"\n",
    "model = XGBClassifier()\n",
    "model.fit(X_train_scaled,y_train)\n",
    "\n",
    "y_pred = model.predict(X_test_scaled)\n",
    "print(classification_report(y_test, y_pred))"
   ]
  },
  {
   "cell_type": "code",
   "execution_count": 44,
   "id": "b5511aab-f309-44c2-984d-676d2d656da8",
   "metadata": {},
   "outputs": [
    {
     "data": {
      "text/plain": [
       "array([[   0,   29,   18,  300],\n",
       "       [   1,   80,   34,  940],\n",
       "       [   4,   86,   35,  786],\n",
       "       [   5,  152,   62, 1559]])"
      ]
     },
     "execution_count": 44,
     "metadata": {},
     "output_type": "execute_result"
    },
    {
     "data": {
      "image/png": "[encoded data removed]",
      "text/plain": [
       "<Figure size 1080x360 with 2 Axes>"
      ]
     },
     "metadata": {},
     "output_type": "display_data"
    }
   ],
   "source": [
    "cm = confusion_matrix(Ytest, y_pred, normalize='all')\n",
    "cmd = ConfusionMatrixDisplay(cm, display_labels=['1','2', '3', '4'])\n",
    "cmd.plot()\n",
    "confusion_matrix(Ytest, y_pred)"
   ]
  },
  {
   "cell_type": "code",
   "execution_count": null,
   "id": "69ad63dd-9736-45f5-9c68-6b87ace051f4",
   "metadata": {},
   "outputs": [],
   "source": [
    "from scipy import stats\n",
    "from sklearn.model_selection import KFold\n",
    "from sklearn.model_selection import RandomizedSearchCV\n",
    "import xgboost as xgb\n",
    "\n",
    "clf_xgb = xgb.XGBClassifier(objective = 'binary:logistic')\n",
    "param_dist = {'n_estimators': stats.randint(150, 1000),\n",
    "              'learning_rate': stats.uniform(0.01, 0.59),\n",
    "              'subsample': stats.uniform(0.3, 0.6),\n",
    "              'max_depth': [3, 4, 5, 6, 7, 8, 9],\n",
    "              'colsample_bytree': stats.uniform(0.5, 0.4),\n",
    "              'min_child_weight': [1, 2, 3, 4]\n",
    "             }\n",
    "\n",
    "numFolds = 2\n",
    "kfold_5 = KFold(n_splits=numFolds)\n",
    "\n",
    "clf = RandomizedSearchCV(clf_xgb, \n",
    "                         param_distributions = param_dist,\n",
    "                         cv = kfold_5,  \n",
    "                         n_iter = 2, # you want 5 here not 25 if I understand you correctly \n",
    "                         scoring = 'roc_auc', \n",
    "                         error_score = 0, \n",
    "                         verbose = 3, \n",
    "                         n_jobs = -1)\n",
    "\n",
    "clf.fit(X_train_scaled, y_train)\n"
   ]
  },
  {
   "cell_type": "code",
   "execution_count": null,
   "id": "838cd8fd-9ddf-42d4-876f-9a2ec1e214bb",
   "metadata": {},
   "outputs": [],
   "source": [
    "from scipy import stats\n",
    "from sklearn.model_selection import KFold\n",
    "from sklearn.model_selection import RandomizedSearchCV\n",
    "import xgboost as xgb\n",
    "\n",
    "clf_xgb = xgb.XGBClassifier(objective = 'binary:logistic')\n",
    "param_dist = {'n_estimators': stats.randint(150, 1000),\n",
    "              'learning_rate': stats.uniform(0.01, 0.59),\n",
    "              'subsample': stats.uniform(0.3, 0.6),\n",
    "              'max_depth': [3, 4, 5, 6, 7, 8, 9],\n",
    "              'colsample_bytree': stats.uniform(0.5, 0.4),\n",
    "              'min_child_weight': [1, 2, 3, 4]\n",
    "             }\n",
    "\n",
    "numFolds = 5\n",
    "kfold_5 = KFold(n_splits=numFolds)\n",
    "\n",
    "clf = RandomizedSearchCV(clf_xgb, \n",
    "                         param_distributions = param_dist,\n",
    "                         cv = kfold_5,  \n",
    "                         n_iter = 5, # you want 5 here not 25 if I understand you correctly \n",
    "                         scoring = 'roc_auc', \n",
    "                         error_score = 0, \n",
    "                         verbose = 3, \n",
    "                         n_jobs = -1)\n",
    "\n",
    "clf.fit(X_train_scaled, y_train)\n"
   ]
  },
  {
   "cell_type": "code",
   "execution_count": null,
   "id": "b647c0de-5948-40c6-ae0f-7b4a8a505610",
   "metadata": {},
   "outputs": [],
   "source": [
    "y_pred = clf.predict(X_test_scaled)\n",
    "print(classification_report(y_test, y_pred))"
   ]
  },
  {
   "cell_type": "markdown",
   "id": "db6cd3d9-9bd9-4e5a-9f59-205a3f34c4a9",
   "metadata": {},
   "source": [
    "### Try so autoML frameworks"
   ]
  },
  {
   "cell_type": "code",
   "execution_count": 3,
   "id": "850f1d0c-75b6-41e4-a5b5-8729a4d26162",
   "metadata": {},
   "outputs": [],
   "source": [
    "# ### not working on jupyter\n",
    "# import autosklearn.classification\n",
    "# cls = autosklearn.classificationcls.fit(X_train_scaled, y_train)\n",
    "# y_pred = cls.predict(X_test_scaled)\n",
    "# print(classification_report(y_test, y_pred))\n",
    "\n",
    "### not working on jupyter"
   ]
  },
  {
   "cell_type": "code",
   "execution_count": 48,
   "id": "8684bcda-d3cb-4b4d-98e1-5d711baedf75",
   "metadata": {},
   "outputs": [
    {
     "name": "stdout",
     "output_type": "stream",
     "text": [
      "              precision    recall  f1-score   support\n",
      "\n",
      "           1       0.00      0.00      0.00       347\n",
      "           2       0.00      0.00      0.00      1055\n",
      "           3       0.00      0.00      0.00       911\n",
      "           4       0.43      1.00      0.61      1778\n",
      "\n",
      "    accuracy                           0.43      4091\n",
      "   macro avg       0.11      0.25      0.15      4091\n",
      "weighted avg       0.19      0.43      0.26      4091\n",
      "\n"
     ]
    },
    {
     "name": "stderr",
     "output_type": "stream",
     "text": [
      "/home/javier/pyenvs/tennis/lib/python3.8/site-packages/sklearn/metrics/_classification.py:1318: UndefinedMetricWarning: Precision and F-score are ill-defined and being set to 0.0 in labels with no predicted samples. Use `zero_division` parameter to control this behavior.\n",
      "  _warn_prf(average, modifier, msg_start, len(result))\n",
      "/home/javier/pyenvs/tennis/lib/python3.8/site-packages/sklearn/metrics/_classification.py:1318: UndefinedMetricWarning: Precision and F-score are ill-defined and being set to 0.0 in labels with no predicted samples. Use `zero_division` parameter to control this behavior.\n",
      "  _warn_prf(average, modifier, msg_start, len(result))\n",
      "/home/javier/pyenvs/tennis/lib/python3.8/site-packages/sklearn/metrics/_classification.py:1318: UndefinedMetricWarning: Precision and F-score are ill-defined and being set to 0.0 in labels with no predicted samples. Use `zero_division` parameter to control this behavior.\n",
      "  _warn_prf(average, modifier, msg_start, len(result))\n"
     ]
    },
    {
     "data": {
      "text/plain": [
       "array([[   0,    0,    0,  347],\n",
       "       [   0,    0,    0, 1055],\n",
       "       [   0,    0,    0,  911],\n",
       "       [   0,    0,    0, 1778]])"
      ]
     },
     "execution_count": 48,
     "metadata": {},
     "output_type": "execute_result"
    },
    {
     "data": {
      "image/png": "[encoded data removed]",
      "text/plain": [
       "<Figure size 1080x360 with 2 Axes>"
      ]
     },
     "metadata": {},
     "output_type": "display_data"
    }
   ],
   "source": [
    "from sklearn.ensemble import RandomForestClassifier\n",
    "from sklearn.datasets import make_classification\n",
    "\n",
    "model = RandomForestClassifier(max_depth=2, random_state=0)\n",
    "model.fit(X_train_scaled, y_train)   # X_train_scaled, y_train\n",
    "y_pred = model.predict(X_test_scaled)\n",
    "print(classification_report(y_test, y_pred))\n",
    "\n",
    "cm = confusion_matrix(Ytest, y_pred, normalize='all')\n",
    "cmd = ConfusionMatrixDisplay(cm, display_labels=['1','2', '3', '4'])\n",
    "cmd.plot()\n",
    "confusion_matrix(Ytest, y_pred)"
   ]
  },
  {
   "cell_type": "code",
   "execution_count": 49,
   "id": "69860cd8-398a-42f7-a217-5c7e5e266b61",
   "metadata": {},
   "outputs": [
    {
     "name": "stdout",
     "output_type": "stream",
     "text": [
      "[4 4 4 ... 4 4 4]\n",
      "0.41603519921779514\n",
      "              precision    recall  f1-score   support\n",
      "\n",
      "           1       0.00      0.00      0.00       347\n",
      "           2       0.24      0.05      0.08      1055\n",
      "           3       0.21      0.02      0.04       911\n",
      "           4       0.43      0.92      0.59      1778\n",
      "\n",
      "    accuracy                           0.42      4091\n",
      "   macro avg       0.22      0.25      0.18      4091\n",
      "weighted avg       0.30      0.42      0.28      4091\n",
      "\n"
     ]
    },
    {
     "data": {
      "text/plain": [
       "array([[   0,   20,   10,  317],\n",
       "       [   1,   51,   18,  985],\n",
       "       [   0,   42,   20,  849],\n",
       "       [   1,  100,   46, 1631]])"
      ]
     },
     "execution_count": 49,
     "metadata": {},
     "output_type": "execute_result"
    },
    {
     "data": {
      "image/png": "[encoded data removed]",
      "text/plain": [
       "<Figure size 1080x360 with 2 Axes>"
      ]
     },
     "metadata": {},
     "output_type": "display_data"
    }
   ],
   "source": [
    "\"\"\"\n",
    "X_train_scaled, y_train\n",
    "X_test_scaled, y_test\n",
    "\"\"\"\n",
    "\n",
    "import lightgbm as lgb\n",
    "from lightgbm import LGBMClassifier\n",
    " \n",
    "# Skipping Data Exploration\n",
    "# Dummification of Diagnosis Column (1-Benign, 0-Malignant Cancer)\n",
    "# data['diagnosis']= pd.get_dummies(data['diagnosis'])\n",
    " \n",
    "# Creating an object for model and fitting it on training data set\n",
    "model = LGBMClassifier()\n",
    "model.fit(X_train_scaled, y_train)\n",
    " \n",
    "# Predicting the Target variable\n",
    "pred = model.predict(X_test_scaled)\n",
    "print(pred)\n",
    "accuracy = model.score(X_test_scaled, y_test)\n",
    "print(accuracy)\n",
    "\n",
    "y_pred = model.predict(X_test_scaled)\n",
    "print(classification_report(y_test, y_pred))\n",
    "\n",
    "cm = confusion_matrix(Ytest, y_pred, normalize='all')\n",
    "cmd = ConfusionMatrixDisplay(cm, display_labels=['1','2', '3', '4'])\n",
    "cmd.plot()\n",
    "confusion_matrix(Ytest, y_pred)"
   ]
  },
  {
   "cell_type": "code",
   "execution_count": null,
   "id": "f69df14b-97c2-4f83-a796-c95b4af77549",
   "metadata": {},
   "outputs": [],
   "source": []
  }
 ],
 "metadata": {
  "kernelspec": {
   "display_name": "Python 3 (ipykernel)",
   "language": "python",
   "name": "python3"
  },
  "language_info": {
   "codemirror_mode": {
    "name": "ipython",
    "version": 3
   },
   "file_extension": ".py",
   "mimetype": "text/x-python",
   "name": "python",
   "nbconvert_exporter": "python",
   "pygments_lexer": "ipython3",
   "version": "3.8.10"
  }
 },
 "nbformat": 4,
 "nbformat_minor": 5
}
