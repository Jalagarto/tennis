{
 "cells": [
  {
   "cell_type": "code",
   "execution_count": 1,
   "id": "026b80f2-bd9b-4c65-b387-1856e4be002d",
   "metadata": {},
   "outputs": [],
   "source": [
    "import pandas as pd\n",
    "import matplotlib.pyplot as plt\n",
    "import seaborn as sn\n",
    "pd.set_option('max_columns', None)  # show all columns\n",
    "from sklearn.preprocessing import OneHotEncoder\n",
    "#creating instance of one-hot-encoder\n",
    "encoder = OneHotEncoder(handle_unknown='ignore')"
   ]
  },
  {
   "cell_type": "code",
   "execution_count": 2,
   "id": "cbca3c5f-46b8-422b-8dc4-a4945f617f4a",
   "metadata": {},
   "outputs": [],
   "source": [
    "df = pd.read_excel('/home/javier/mis_proyectos/DATAJAVI_V3_noblank.xlsx', engine='openpyxl')"
   ]
  },
  {
   "cell_type": "code",
   "execution_count": 3,
   "id": "f3b14328-7320-4d5c-bc76-eb6dc77cbe30",
   "metadata": {},
   "outputs": [],
   "source": [
    "df_2 = pd.read_excel('/home/javier/mis_proyectos/DATAJAVI_V3_noblank.xlsx', engine='openpyxl')  # to make changes"
   ]
  },
  {
   "cell_type": "code",
   "execution_count": 4,
   "id": "c0262bec-5506-4e04-8d8f-68b7d67bd7c9",
   "metadata": {},
   "outputs": [
    {
     "data": {
      "text/plain": [
       "20454"
      ]
     },
     "execution_count": 4,
     "metadata": {},
     "output_type": "execute_result"
    }
   ],
   "source": [
    "len(df)"
   ]
  },
  {
   "cell_type": "markdown",
   "id": "960d8557-d8d1-4a5c-acb7-6ed5e80ad363",
   "metadata": {},
   "source": [
    "### Prepare data:\n",
    "Discrete vars:  \n",
    "- ```[setNumber, gameNumber, pointNumber, serveNumber, shotCount, efectividad,\n",
    "1º o 2º saque, seve_class, Lado(1:iguales, 0:ventaja), DIRECCIÓN, X1,...]```\n",
    "\n",
    "Discrete vars to delete (only one value) --> no information!  \n",
    "```[Point,```\n",
    "\n",
    "Continuous vars:  \n",
    "- ```v(m/s), v(km/h), timeHIT,Y1, Y1(ABS), Z1(h), timeNET, TimeN-TimeH,\n",
    "timeBounce, TimeB-TimeH,PreVx, PreVy, PreVz, PreV, PostVx, PostVy,\n",
    "PostVz, PostV, Dif. V1-V2, Dif(km/h)```\n",
    "\n",
    "\n",
    "Vars to delete (duplicated or all the same):\n",
    "- ```v(km/h), Dif. (km/h), Point,```"
   ]
  },
  {
   "cell_type": "code",
   "execution_count": 5,
   "id": "d3b7ce16-472f-41f6-8460-e109139f1774",
   "metadata": {},
   "outputs": [
    {
     "name": "stdout",
     "output_type": "stream",
     "text": [
      "Before gender filtering: 20454\n",
      "after: 20454\n"
     ]
    }
   ],
   "source": [
    "### filter by gender\n",
    "print(f\"Before gender filtering: {len(df)}\")\n",
    "df = df[df['Sexo']==1]\n",
    "print(f\"after: {len(df)}\")\n",
    "df_2 = df_2[df_2['Sexo']==1]"
   ]
  },
  {
   "cell_type": "code",
   "execution_count": 6,
   "id": "48eb9865-d64e-4298-bb56-4a82abb464fd",
   "metadata": {},
   "outputs": [
    {
     "data": {
      "text/plain": [
       "Sexo                                        0\n",
       "1º o 2º saque                               0\n",
       "Efectividad                                 0\n",
       "Lado(1:Iguales;0:Ventaja)                   0\n",
       "DIRECCIÓN:1 abierto;2 al cuerpo;3 a la T    0\n",
       "V(km/h)                                     0\n",
       "[YA]                                        0\n",
       "ZA                                          0\n",
       "Znet                                        0\n",
       "TIME                                        0\n",
       "difV                                        0\n",
       "&(deg)                                      0\n",
       "ANG. IN                                     0\n",
       "dLinea                                      0\n",
       "dtype: int64"
      ]
     },
     "execution_count": 6,
     "metadata": {},
     "output_type": "execute_result"
    }
   ],
   "source": [
    "df_2.isnull().sum()"
   ]
  },
  {
   "cell_type": "code",
   "execution_count": 7,
   "id": "7adc7942-8015-4d22-bc57-ecce779ba28a",
   "metadata": {},
   "outputs": [
    {
     "name": "stdout",
     "output_type": "stream",
     "text": [
      "0 / 20454\n"
     ]
    }
   ],
   "source": [
    "### Check how many rows have empty values or NaNs\n",
    "print(df_2.isnull().sum().sum(), '/', len(df_2))  ### too many, we can't just delete rows with empty values --> interpolate"
   ]
  },
  {
   "cell_type": "code",
   "execution_count": 8,
   "id": "22803341-dc2a-470b-839b-96c4637247fe",
   "metadata": {},
   "outputs": [],
   "source": [
    "# ### interpolate NaN with none-linearities\n",
    "# for i in df_2.columns:\n",
    "#     df_2[i] = df_2[i].interpolate(method='polynomial', order=2)"
   ]
  },
  {
   "cell_type": "code",
   "execution_count": 9,
   "id": "3d479439-688d-4e06-a1f2-033b155f29bc",
   "metadata": {},
   "outputs": [
    {
     "name": "stdout",
     "output_type": "stream",
     "text": [
      "0 / 20454\n"
     ]
    }
   ],
   "source": [
    "print(df_2.isnull().sum().sum(), '/', len(df_2))"
   ]
  },
  {
   "cell_type": "code",
   "execution_count": 10,
   "id": "61d6f67a-1437-429e-89b3-81ba2fc737e6",
   "metadata": {},
   "outputs": [
    {
     "data": {
      "text/plain": [
       "(None, None)"
      ]
     },
     "execution_count": 10,
     "metadata": {},
     "output_type": "execute_result"
    }
   ],
   "source": [
    "df_2.drop(columns=['Sexo'], inplace=True), df.drop(columns=['Sexo'], inplace=True)"
   ]
  },
  {
   "cell_type": "code",
   "execution_count": 11,
   "id": "08700a6d-8480-4ed5-bb00-0261b20b3d5f",
   "metadata": {},
   "outputs": [
    {
     "data": {
      "text/html": [
       "<div>\n",
       "<style scoped>\n",
       "    .dataframe tbody tr th:only-of-type {\n",
       "        vertical-align: middle;\n",
       "    }\n",
       "\n",
       "    .dataframe tbody tr th {\n",
       "        vertical-align: top;\n",
       "    }\n",
       "\n",
       "    .dataframe thead th {\n",
       "        text-align: right;\n",
       "    }\n",
       "</style>\n",
       "<table border=\"1\" class=\"dataframe\">\n",
       "  <thead>\n",
       "    <tr style=\"text-align: right;\">\n",
       "      <th></th>\n",
       "      <th>1º o 2º saque</th>\n",
       "      <th>Efectividad</th>\n",
       "      <th>Lado(1:Iguales;0:Ventaja)</th>\n",
       "      <th>DIRECCIÓN:1 abierto;2 al cuerpo;3 a la T</th>\n",
       "      <th>V(km/h)</th>\n",
       "      <th>[YA]</th>\n",
       "      <th>ZA</th>\n",
       "      <th>Znet</th>\n",
       "      <th>TIME</th>\n",
       "      <th>difV</th>\n",
       "      <th>&amp;(deg)</th>\n",
       "      <th>ANG. IN</th>\n",
       "      <th>dLinea</th>\n",
       "    </tr>\n",
       "  </thead>\n",
       "  <tbody>\n",
       "    <tr>\n",
       "      <th>count</th>\n",
       "      <td>20454.000000</td>\n",
       "      <td>20454.000000</td>\n",
       "      <td>20454.000000</td>\n",
       "      <td>20454.000000</td>\n",
       "      <td>20454.000000</td>\n",
       "      <td>20454.000000</td>\n",
       "      <td>20454.000000</td>\n",
       "      <td>20454.000000</td>\n",
       "      <td>20454.000000</td>\n",
       "      <td>20454.000000</td>\n",
       "      <td>20454.000000</td>\n",
       "      <td>20454.000000</td>\n",
       "      <td>20454.000000</td>\n",
       "    </tr>\n",
       "    <tr>\n",
       "      <th>mean</th>\n",
       "      <td>1.308399</td>\n",
       "      <td>3.032316</td>\n",
       "      <td>0.522343</td>\n",
       "      <td>2.070451</td>\n",
       "      <td>174.440181</td>\n",
       "      <td>1.762130</td>\n",
       "      <td>2.867122</td>\n",
       "      <td>1.149802</td>\n",
       "      <td>0.423751</td>\n",
       "      <td>8.692615</td>\n",
       "      <td>5.379175</td>\n",
       "      <td>11.423949</td>\n",
       "      <td>1.042840</td>\n",
       "    </tr>\n",
       "    <tr>\n",
       "      <th>std</th>\n",
       "      <td>0.461844</td>\n",
       "      <td>1.011730</td>\n",
       "      <td>0.499513</td>\n",
       "      <td>0.821516</td>\n",
       "      <td>19.411117</td>\n",
       "      <td>0.672477</td>\n",
       "      <td>0.151205</td>\n",
       "      <td>0.116511</td>\n",
       "      <td>0.052495</td>\n",
       "      <td>1.610355</td>\n",
       "      <td>4.859932</td>\n",
       "      <td>2.682266</td>\n",
       "      <td>0.566494</td>\n",
       "    </tr>\n",
       "    <tr>\n",
       "      <th>min</th>\n",
       "      <td>1.000000</td>\n",
       "      <td>1.000000</td>\n",
       "      <td>0.000000</td>\n",
       "      <td>1.000000</td>\n",
       "      <td>73.296000</td>\n",
       "      <td>0.005000</td>\n",
       "      <td>2.078000</td>\n",
       "      <td>0.937000</td>\n",
       "      <td>0.242000</td>\n",
       "      <td>-17.917227</td>\n",
       "      <td>0.033120</td>\n",
       "      <td>6.427432</td>\n",
       "      <td>0.000000</td>\n",
       "    </tr>\n",
       "    <tr>\n",
       "      <th>25%</th>\n",
       "      <td>1.000000</td>\n",
       "      <td>2.000000</td>\n",
       "      <td>0.000000</td>\n",
       "      <td>1.000000</td>\n",
       "      <td>160.596000</td>\n",
       "      <td>1.314250</td>\n",
       "      <td>2.780000</td>\n",
       "      <td>1.061000</td>\n",
       "      <td>0.384000</td>\n",
       "      <td>7.997143</td>\n",
       "      <td>2.603517</td>\n",
       "      <td>9.590657</td>\n",
       "      <td>0.574000</td>\n",
       "    </tr>\n",
       "    <tr>\n",
       "      <th>50%</th>\n",
       "      <td>1.000000</td>\n",
       "      <td>3.000000</td>\n",
       "      <td>1.000000</td>\n",
       "      <td>2.000000</td>\n",
       "      <td>176.184000</td>\n",
       "      <td>1.782000</td>\n",
       "      <td>2.851000</td>\n",
       "      <td>1.138000</td>\n",
       "      <td>0.416000</td>\n",
       "      <td>8.610471</td>\n",
       "      <td>4.360558</td>\n",
       "      <td>10.226733</td>\n",
       "      <td>1.003000</td>\n",
       "    </tr>\n",
       "    <tr>\n",
       "      <th>75%</th>\n",
       "      <td>2.000000</td>\n",
       "      <td>4.000000</td>\n",
       "      <td>1.000000</td>\n",
       "      <td>3.000000</td>\n",
       "      <td>189.036000</td>\n",
       "      <td>2.230000</td>\n",
       "      <td>2.936000</td>\n",
       "      <td>1.221000</td>\n",
       "      <td>0.458000</td>\n",
       "      <td>9.267095</td>\n",
       "      <td>5.980106</td>\n",
       "      <td>12.777876</td>\n",
       "      <td>1.529000</td>\n",
       "    </tr>\n",
       "    <tr>\n",
       "      <th>max</th>\n",
       "      <td>2.000000</td>\n",
       "      <td>4.000000</td>\n",
       "      <td>1.000000</td>\n",
       "      <td>3.000000</td>\n",
       "      <td>236.268000</td>\n",
       "      <td>4.714000</td>\n",
       "      <td>4.435000</td>\n",
       "      <td>2.281000</td>\n",
       "      <td>0.655000</td>\n",
       "      <td>35.427279</td>\n",
       "      <td>28.288601</td>\n",
       "      <td>26.452045</td>\n",
       "      <td>2.057000</td>\n",
       "    </tr>\n",
       "  </tbody>\n",
       "</table>\n",
       "</div>"
      ],
      "text/plain": [
       "       1º o 2º saque   Efectividad  Lado(1:Iguales;0:Ventaja)  \\\n",
       "count   20454.000000  20454.000000               20454.000000   \n",
       "mean        1.308399      3.032316                   0.522343   \n",
       "std         0.461844      1.011730                   0.499513   \n",
       "min         1.000000      1.000000                   0.000000   \n",
       "25%         1.000000      2.000000                   0.000000   \n",
       "50%         1.000000      3.000000                   1.000000   \n",
       "75%         2.000000      4.000000                   1.000000   \n",
       "max         2.000000      4.000000                   1.000000   \n",
       "\n",
       "       DIRECCIÓN:1 abierto;2 al cuerpo;3 a la T       V(km/h)          [YA]  \\\n",
       "count                              20454.000000  20454.000000  20454.000000   \n",
       "mean                                   2.070451    174.440181      1.762130   \n",
       "std                                    0.821516     19.411117      0.672477   \n",
       "min                                    1.000000     73.296000      0.005000   \n",
       "25%                                    1.000000    160.596000      1.314250   \n",
       "50%                                    2.000000    176.184000      1.782000   \n",
       "75%                                    3.000000    189.036000      2.230000   \n",
       "max                                    3.000000    236.268000      4.714000   \n",
       "\n",
       "                 ZA          Znet          TIME          difV        &(deg)  \\\n",
       "count  20454.000000  20454.000000  20454.000000  20454.000000  20454.000000   \n",
       "mean       2.867122      1.149802      0.423751      8.692615      5.379175   \n",
       "std        0.151205      0.116511      0.052495      1.610355      4.859932   \n",
       "min        2.078000      0.937000      0.242000    -17.917227      0.033120   \n",
       "25%        2.780000      1.061000      0.384000      7.997143      2.603517   \n",
       "50%        2.851000      1.138000      0.416000      8.610471      4.360558   \n",
       "75%        2.936000      1.221000      0.458000      9.267095      5.980106   \n",
       "max        4.435000      2.281000      0.655000     35.427279     28.288601   \n",
       "\n",
       "            ANG. IN        dLinea  \n",
       "count  20454.000000  20454.000000  \n",
       "mean      11.423949      1.042840  \n",
       "std        2.682266      0.566494  \n",
       "min        6.427432      0.000000  \n",
       "25%        9.590657      0.574000  \n",
       "50%       10.226733      1.003000  \n",
       "75%       12.777876      1.529000  \n",
       "max       26.452045      2.057000  "
      ]
     },
     "execution_count": 11,
     "metadata": {},
     "output_type": "execute_result"
    }
   ],
   "source": [
    "df_2.describe()"
   ]
  },
  {
   "cell_type": "code",
   "execution_count": null,
   "id": "99786887-26d3-4cae-82de-44b75224abeb",
   "metadata": {},
   "outputs": [],
   "source": []
  },
  {
   "cell_type": "code",
   "execution_count": 12,
   "id": "690a1365-b673-4566-9c5e-68cbe4069c45",
   "metadata": {},
   "outputs": [],
   "source": [
    "# df.reset_index(drop=True, inplace=True)  # just to reorganize indexes, in case we dropped some\n",
    "# df"
   ]
  },
  {
   "cell_type": "code",
   "execution_count": 13,
   "id": "09e3513f-fb1c-45fd-a2ef-cca5c327f747",
   "metadata": {},
   "outputs": [],
   "source": [
    "df_new = df[['Efectividad']]"
   ]
  },
  {
   "cell_type": "code",
   "execution_count": 14,
   "id": "dd4743c2-8f62-4ef9-861d-eeccb0689e3f",
   "metadata": {},
   "outputs": [
    {
     "data": {
      "text/plain": [
       "20454"
      ]
     },
     "execution_count": 14,
     "metadata": {},
     "output_type": "execute_result"
    }
   ],
   "source": [
    "len(df_new)"
   ]
  },
  {
   "cell_type": "code",
   "execution_count": null,
   "id": "b1d2a486-70be-4541-a340-2e5ac65d05e9",
   "metadata": {},
   "outputs": [],
   "source": []
  },
  {
   "cell_type": "code",
   "execution_count": 15,
   "id": "5c9c3c15-2a8a-4543-bc5b-8c17b5e42538",
   "metadata": {},
   "outputs": [],
   "source": [
    "df_2.to_csv('../predictions/df_2.csv')"
   ]
  },
  {
   "cell_type": "code",
   "execution_count": 16,
   "id": "52d71934-ad82-432f-aa8d-91cf16a28724",
   "metadata": {},
   "outputs": [
    {
     "data": {
      "text/plain": [
       "array([2, 3, 2, ..., 4, 3, 4])"
      ]
     },
     "execution_count": 16,
     "metadata": {},
     "output_type": "execute_result"
    }
   ],
   "source": [
    "df_2.Efectividad.values"
   ]
  },
  {
   "cell_type": "code",
   "execution_count": 17,
   "id": "fe7b46c8-6289-4cea-83bb-b6c55934393b",
   "metadata": {},
   "outputs": [],
   "source": [
    "# sorted(df_2.columns)"
   ]
  },
  {
   "cell_type": "markdown",
   "id": "75aaf72d-25e0-43a7-b96b-35c74c5e5362",
   "metadata": {},
   "source": [
    "startScore_Server  = [0 15 30 40 50 3 4 6 1 5 7 8 2 'WIN' 9 10 11 12 13]  \n",
    "startScore_Receiver = [0 15 40 50 30 1 2 5 6 3 7 4 8 'LOS' 9 10 11 12 13]\n",
    "\n",
    "I don't understand this variable ... not in a format the machine can understand. Delete for the moment\n",
    "\n",
    "EventID: I don't think the machine can understand this variable for the moment ...   \n",
    "   not clear how to show to the machine (162 events?)... we will show all events as one for the moment"
   ]
  },
  {
   "cell_type": "code",
   "execution_count": 18,
   "id": "98f6b8e3-9848-4a3e-a44a-7e8e55e72a24",
   "metadata": {},
   "outputs": [],
   "source": [
    "### delete vars\n",
    "# df_2.drop(['V (km/h)', 'Dif. (km/h)', 'Point', 'EventID', 'startScore_Server', 'startScore_Receiver'], axis=1, inplace=True)"
   ]
  },
  {
   "cell_type": "code",
   "execution_count": 19,
   "id": "c42f3263-ef47-43d1-bfc6-9e398b70cc41",
   "metadata": {},
   "outputs": [
    {
     "ename": "TypeError",
     "evalue": "object of type 'OneHotEncoder' has no len()",
     "output_type": "error",
     "traceback": [
      "\u001b[0;31m---------------------------------------------------------------------------\u001b[0m",
      "\u001b[0;31mTypeError\u001b[0m                                 Traceback (most recent call last)",
      "Input \u001b[0;32mIn [19]\u001b[0m, in \u001b[0;36m<cell line: 1>\u001b[0;34m()\u001b[0m\n\u001b[0;32m----> 1\u001b[0m \u001b[38;5;28;43mlen\u001b[39;49m\u001b[43m(\u001b[49m\u001b[43mencoder\u001b[49m\u001b[43m)\u001b[49m\n",
      "\u001b[0;31mTypeError\u001b[0m: object of type 'OneHotEncoder' has no len()"
     ]
    }
   ],
   "source": [
    "len(encoder)"
   ]
  },
  {
   "cell_type": "code",
   "execution_count": 20,
   "id": "702d308b-46f1-4b4f-ab70-14509b22bbc0",
   "metadata": {},
   "outputs": [
    {
     "name": "stdout",
     "output_type": "stream",
     "text": [
      "20454\n"
     ]
    }
   ],
   "source": [
    "def one_hot(df, cols_list):\n",
    "    \"\"\"\n",
    "    cols_list=['service', 'gender', ...]\n",
    "    \"\"\"\n",
    "    #perform one-hot encoding on 'team' column\n",
    "    print(len(df))\n",
    "    for i in cols_list:\n",
    "        df_discrete = df[cols_list]\n",
    "        encoder_df = pd.DataFrame(encoder.fit_transform(df_discrete[[i]]).toarray())\n",
    "        ### rename columns\n",
    "        l = [i+'___'+str(x) for x in encoder.categories_[0]]\n",
    "        # print(l)\n",
    "        encoder_df.columns = l # encoder.categories_\n",
    "        # merge one-hot encoded columns back with original DataFrame\n",
    "        df = pd.concat([df, encoder_df], axis=1)\n",
    "    df.drop(cols_list, axis=1, inplace=True)  # DROP OLD COLUMN\n",
    "    return df\n",
    "\n",
    "df_new = one_hot(df_new, ['Efectividad'])"
   ]
  },
  {
   "cell_type": "code",
   "execution_count": 21,
   "id": "4f371d28-f05a-40ed-956d-ea1f872b7f96",
   "metadata": {},
   "outputs": [
    {
     "data": {
      "text/plain": [
       "Efectividad___1    1634.0\n",
       "Efectividad___2    5246.0\n",
       "Efectividad___3    4399.0\n",
       "Efectividad___4    9175.0\n",
       "dtype: float64"
      ]
     },
     "execution_count": 21,
     "metadata": {},
     "output_type": "execute_result"
    }
   ],
   "source": [
    "df_new.sum()"
   ]
  },
  {
   "cell_type": "code",
   "execution_count": 22,
   "id": "c129765d-f13a-48c0-bd64-623c0fcb4d6f",
   "metadata": {},
   "outputs": [
    {
     "data": {
      "text/plain": [
       "(array([0., 1.]), array([1., 0.]), array([0., 1.]))"
      ]
     },
     "execution_count": 22,
     "metadata": {},
     "output_type": "execute_result"
    }
   ],
   "source": [
    "### so it is actually ok, well filtered:\n",
    "df_new.Efectividad___1.unique(), df_new.Efectividad___2.unique(), df_new.Efectividad___3.unique()"
   ]
  },
  {
   "cell_type": "code",
   "execution_count": 23,
   "id": "1bf9d47e-4ec5-45be-8fff-cd6c0a81a98d",
   "metadata": {},
   "outputs": [],
   "source": [
    "df = pd.concat([df_new, df], axis=1) # add one hot encoder to df"
   ]
  },
  {
   "cell_type": "code",
   "execution_count": 24,
   "id": "57bc5b21-ff0a-49f9-b788-faa600ef4c62",
   "metadata": {},
   "outputs": [
    {
     "data": {
      "text/html": [
       "<div>\n",
       "<style scoped>\n",
       "    .dataframe tbody tr th:only-of-type {\n",
       "        vertical-align: middle;\n",
       "    }\n",
       "\n",
       "    .dataframe tbody tr th {\n",
       "        vertical-align: top;\n",
       "    }\n",
       "\n",
       "    .dataframe thead th {\n",
       "        text-align: right;\n",
       "    }\n",
       "</style>\n",
       "<table border=\"1\" class=\"dataframe\">\n",
       "  <thead>\n",
       "    <tr style=\"text-align: right;\">\n",
       "      <th></th>\n",
       "      <th>Efectividad___1</th>\n",
       "      <th>Efectividad___2</th>\n",
       "      <th>Efectividad___3</th>\n",
       "      <th>1º o 2º saque</th>\n",
       "      <th>Lado(1:Iguales;0:Ventaja)</th>\n",
       "      <th>DIRECCIÓN:1 abierto;2 al cuerpo;3 a la T</th>\n",
       "      <th>V(km/h)</th>\n",
       "      <th>[YA]</th>\n",
       "      <th>ZA</th>\n",
       "      <th>Znet</th>\n",
       "      <th>TIME</th>\n",
       "      <th>difV</th>\n",
       "      <th>&amp;(deg)</th>\n",
       "      <th>ANG. IN</th>\n",
       "      <th>dLinea</th>\n",
       "    </tr>\n",
       "  </thead>\n",
       "  <tbody>\n",
       "    <tr>\n",
       "      <th>0</th>\n",
       "      <td>0.0</td>\n",
       "      <td>1.0</td>\n",
       "      <td>0.0</td>\n",
       "      <td>1</td>\n",
       "      <td>1</td>\n",
       "      <td>2</td>\n",
       "      <td>149.292</td>\n",
       "      <td>2.286</td>\n",
       "      <td>3.174</td>\n",
       "      <td>1.149</td>\n",
       "      <td>0.474</td>\n",
       "      <td>8.409960</td>\n",
       "      <td>4.469013</td>\n",
       "      <td>13.350081</td>\n",
       "      <td>1.751</td>\n",
       "    </tr>\n",
       "    <tr>\n",
       "      <th>1</th>\n",
       "      <td>0.0</td>\n",
       "      <td>0.0</td>\n",
       "      <td>1.0</td>\n",
       "      <td>1</td>\n",
       "      <td>0</td>\n",
       "      <td>1</td>\n",
       "      <td>183.276</td>\n",
       "      <td>0.871</td>\n",
       "      <td>2.886</td>\n",
       "      <td>1.179</td>\n",
       "      <td>0.420</td>\n",
       "      <td>9.380318</td>\n",
       "      <td>5.210301</td>\n",
       "      <td>9.329834</td>\n",
       "      <td>0.491</td>\n",
       "    </tr>\n",
       "    <tr>\n",
       "      <th>2</th>\n",
       "      <td>0.0</td>\n",
       "      <td>1.0</td>\n",
       "      <td>0.0</td>\n",
       "      <td>1</td>\n",
       "      <td>1</td>\n",
       "      <td>2</td>\n",
       "      <td>150.732</td>\n",
       "      <td>1.964</td>\n",
       "      <td>2.912</td>\n",
       "      <td>1.284</td>\n",
       "      <td>0.503</td>\n",
       "      <td>7.920631</td>\n",
       "      <td>3.775683</td>\n",
       "      <td>12.681232</td>\n",
       "      <td>1.435</td>\n",
       "    </tr>\n",
       "    <tr>\n",
       "      <th>3</th>\n",
       "      <td>0.0</td>\n",
       "      <td>1.0</td>\n",
       "      <td>0.0</td>\n",
       "      <td>2</td>\n",
       "      <td>0</td>\n",
       "      <td>1</td>\n",
       "      <td>126.792</td>\n",
       "      <td>0.817</td>\n",
       "      <td>3.030</td>\n",
       "      <td>1.525</td>\n",
       "      <td>0.606</td>\n",
       "      <td>8.186052</td>\n",
       "      <td>3.124373</td>\n",
       "      <td>9.846737</td>\n",
       "      <td>1.143</td>\n",
       "    </tr>\n",
       "    <tr>\n",
       "      <th>4</th>\n",
       "      <td>0.0</td>\n",
       "      <td>0.0</td>\n",
       "      <td>1.0</td>\n",
       "      <td>1</td>\n",
       "      <td>1</td>\n",
       "      <td>2</td>\n",
       "      <td>141.372</td>\n",
       "      <td>1.088</td>\n",
       "      <td>2.904</td>\n",
       "      <td>1.239</td>\n",
       "      <td>0.504</td>\n",
       "      <td>8.064863</td>\n",
       "      <td>3.428793</td>\n",
       "      <td>12.756220</td>\n",
       "      <td>1.504</td>\n",
       "    </tr>\n",
       "    <tr>\n",
       "      <th>...</th>\n",
       "      <td>...</td>\n",
       "      <td>...</td>\n",
       "      <td>...</td>\n",
       "      <td>...</td>\n",
       "      <td>...</td>\n",
       "      <td>...</td>\n",
       "      <td>...</td>\n",
       "      <td>...</td>\n",
       "      <td>...</td>\n",
       "      <td>...</td>\n",
       "      <td>...</td>\n",
       "      <td>...</td>\n",
       "      <td>...</td>\n",
       "      <td>...</td>\n",
       "      <td>...</td>\n",
       "    </tr>\n",
       "    <tr>\n",
       "      <th>20449</th>\n",
       "      <td>0.0</td>\n",
       "      <td>1.0</td>\n",
       "      <td>0.0</td>\n",
       "      <td>1</td>\n",
       "      <td>1</td>\n",
       "      <td>3</td>\n",
       "      <td>170.820</td>\n",
       "      <td>1.007</td>\n",
       "      <td>2.719</td>\n",
       "      <td>1.243</td>\n",
       "      <td>0.435</td>\n",
       "      <td>9.253452</td>\n",
       "      <td>6.325629</td>\n",
       "      <td>13.849385</td>\n",
       "      <td>0.078</td>\n",
       "    </tr>\n",
       "    <tr>\n",
       "      <th>20450</th>\n",
       "      <td>0.0</td>\n",
       "      <td>0.0</td>\n",
       "      <td>0.0</td>\n",
       "      <td>2</td>\n",
       "      <td>0</td>\n",
       "      <td>2</td>\n",
       "      <td>150.552</td>\n",
       "      <td>1.427</td>\n",
       "      <td>2.703</td>\n",
       "      <td>1.244</td>\n",
       "      <td>0.492</td>\n",
       "      <td>8.955988</td>\n",
       "      <td>2.099419</td>\n",
       "      <td>9.181022</td>\n",
       "      <td>1.685</td>\n",
       "    </tr>\n",
       "    <tr>\n",
       "      <th>20451</th>\n",
       "      <td>0.0</td>\n",
       "      <td>0.0</td>\n",
       "      <td>0.0</td>\n",
       "      <td>1</td>\n",
       "      <td>0</td>\n",
       "      <td>1</td>\n",
       "      <td>138.276</td>\n",
       "      <td>2.411</td>\n",
       "      <td>2.956</td>\n",
       "      <td>1.455</td>\n",
       "      <td>0.565</td>\n",
       "      <td>7.640005</td>\n",
       "      <td>6.272937</td>\n",
       "      <td>9.388508</td>\n",
       "      <td>0.193</td>\n",
       "    </tr>\n",
       "    <tr>\n",
       "      <th>20452</th>\n",
       "      <td>0.0</td>\n",
       "      <td>0.0</td>\n",
       "      <td>1.0</td>\n",
       "      <td>2</td>\n",
       "      <td>0</td>\n",
       "      <td>3</td>\n",
       "      <td>160.884</td>\n",
       "      <td>1.232</td>\n",
       "      <td>2.729</td>\n",
       "      <td>1.150</td>\n",
       "      <td>0.450</td>\n",
       "      <td>8.483405</td>\n",
       "      <td>3.997884</td>\n",
       "      <td>9.587342</td>\n",
       "      <td>0.623</td>\n",
       "    </tr>\n",
       "    <tr>\n",
       "      <th>20453</th>\n",
       "      <td>0.0</td>\n",
       "      <td>0.0</td>\n",
       "      <td>0.0</td>\n",
       "      <td>1</td>\n",
       "      <td>0</td>\n",
       "      <td>3</td>\n",
       "      <td>174.204</td>\n",
       "      <td>1.095</td>\n",
       "      <td>2.712</td>\n",
       "      <td>1.155</td>\n",
       "      <td>0.424</td>\n",
       "      <td>9.033363</td>\n",
       "      <td>3.373627</td>\n",
       "      <td>9.117211</td>\n",
       "      <td>0.888</td>\n",
       "    </tr>\n",
       "  </tbody>\n",
       "</table>\n",
       "<p>20454 rows × 15 columns</p>\n",
       "</div>"
      ],
      "text/plain": [
       "       Efectividad___1  Efectividad___2  Efectividad___3  1º o 2º saque  \\\n",
       "0                  0.0              1.0              0.0              1   \n",
       "1                  0.0              0.0              1.0              1   \n",
       "2                  0.0              1.0              0.0              1   \n",
       "3                  0.0              1.0              0.0              2   \n",
       "4                  0.0              0.0              1.0              1   \n",
       "...                ...              ...              ...            ...   \n",
       "20449              0.0              1.0              0.0              1   \n",
       "20450              0.0              0.0              0.0              2   \n",
       "20451              0.0              0.0              0.0              1   \n",
       "20452              0.0              0.0              1.0              2   \n",
       "20453              0.0              0.0              0.0              1   \n",
       "\n",
       "       Lado(1:Iguales;0:Ventaja)  DIRECCIÓN:1 abierto;2 al cuerpo;3 a la T  \\\n",
       "0                              1                                         2   \n",
       "1                              0                                         1   \n",
       "2                              1                                         2   \n",
       "3                              0                                         1   \n",
       "4                              1                                         2   \n",
       "...                          ...                                       ...   \n",
       "20449                          1                                         3   \n",
       "20450                          0                                         2   \n",
       "20451                          0                                         1   \n",
       "20452                          0                                         3   \n",
       "20453                          0                                         3   \n",
       "\n",
       "       V(km/h)   [YA]     ZA   Znet   TIME      difV    &(deg)    ANG. IN  \\\n",
       "0      149.292  2.286  3.174  1.149  0.474  8.409960  4.469013  13.350081   \n",
       "1      183.276  0.871  2.886  1.179  0.420  9.380318  5.210301   9.329834   \n",
       "2      150.732  1.964  2.912  1.284  0.503  7.920631  3.775683  12.681232   \n",
       "3      126.792  0.817  3.030  1.525  0.606  8.186052  3.124373   9.846737   \n",
       "4      141.372  1.088  2.904  1.239  0.504  8.064863  3.428793  12.756220   \n",
       "...        ...    ...    ...    ...    ...       ...       ...        ...   \n",
       "20449  170.820  1.007  2.719  1.243  0.435  9.253452  6.325629  13.849385   \n",
       "20450  150.552  1.427  2.703  1.244  0.492  8.955988  2.099419   9.181022   \n",
       "20451  138.276  2.411  2.956  1.455  0.565  7.640005  6.272937   9.388508   \n",
       "20452  160.884  1.232  2.729  1.150  0.450  8.483405  3.997884   9.587342   \n",
       "20453  174.204  1.095  2.712  1.155  0.424  9.033363  3.373627   9.117211   \n",
       "\n",
       "       dLinea  \n",
       "0       1.751  \n",
       "1       0.491  \n",
       "2       1.435  \n",
       "3       1.143  \n",
       "4       1.504  \n",
       "...       ...  \n",
       "20449   0.078  \n",
       "20450   1.685  \n",
       "20451   0.193  \n",
       "20452   0.623  \n",
       "20453   0.888  \n",
       "\n",
       "[20454 rows x 15 columns]"
      ]
     },
     "execution_count": 24,
     "metadata": {},
     "output_type": "execute_result"
    }
   ],
   "source": [
    "df.drop(['Efectividad___4', 'Efectividad'], axis=1, inplace=True)\n",
    "df"
   ]
  },
  {
   "cell_type": "code",
   "execution_count": 25,
   "id": "84bf7d31-1233-4020-a2ce-d3c16e9accea",
   "metadata": {},
   "outputs": [
    {
     "data": {
      "text/plain": [
       "array([[<AxesSubplot:title={'center':'Efectividad___1'}>,\n",
       "        <AxesSubplot:title={'center':'Efectividad___2'}>,\n",
       "        <AxesSubplot:title={'center':'Efectividad___3'}>,\n",
       "        <AxesSubplot:title={'center':'1º o 2º saque'}>],\n",
       "       [<AxesSubplot:title={'center':'Lado(1:Iguales;0:Ventaja)'}>,\n",
       "        <AxesSubplot:title={'center':'DIRECCIÓN:1 abierto;2 al cuerpo;3 a la T'}>,\n",
       "        <AxesSubplot:title={'center':'V(km/h)'}>,\n",
       "        <AxesSubplot:title={'center':'[YA]'}>],\n",
       "       [<AxesSubplot:title={'center':'ZA'}>,\n",
       "        <AxesSubplot:title={'center':'Znet'}>,\n",
       "        <AxesSubplot:title={'center':'TIME'}>,\n",
       "        <AxesSubplot:title={'center':'difV'}>],\n",
       "       [<AxesSubplot:title={'center':'&(deg)'}>,\n",
       "        <AxesSubplot:title={'center':'ANG. IN'}>,\n",
       "        <AxesSubplot:title={'center':'dLinea'}>, <AxesSubplot:>]],\n",
       "      dtype=object)"
      ]
     },
     "execution_count": 25,
     "metadata": {},
     "output_type": "execute_result"
    },
    {
     "data": {
      "image/png": "[encoded data removed]",
      "text/plain": [
       "<Figure size 1008x576 with 16 Axes>"
      ]
     },
     "metadata": {
      "needs_background": "light"
     },
     "output_type": "display_data"
    }
   ],
   "source": [
    "df.hist(figsize=(14,8))"
   ]
  },
  {
   "cell_type": "code",
   "execution_count": 26,
   "id": "74757fa2-120e-4f6e-8b1a-d467d770c5d7",
   "metadata": {},
   "outputs": [
    {
     "data": {
      "text/plain": [
       "<AxesSubplot:>"
      ]
     },
     "execution_count": 26,
     "metadata": {},
     "output_type": "execute_result"
    },
    {
     "data": {
      "image/png": "[encoded data removed]",
      "text/plain": [
       "<Figure size 720x720 with 2 Axes>"
      ]
     },
     "metadata": {},
     "output_type": "display_data"
    }
   ],
   "source": [
    "### Plot Correlation Matrix\n",
    "sn.set(rc={\"figure.figsize\":(10, 10)})\n",
    "sn.heatmap(df.corr().round(decimals=2), annot=True, cmap='RdYlGn') # annot=True ,"
   ]
  },
  {
   "cell_type": "markdown",
   "id": "a47d2124-fe79-45b0-99c8-9b63c316cb14",
   "metadata": {},
   "source": [
    "__________________\n",
    "\n",
    "### Estoy aquí!!!!\n",
    "\n",
    "One liner --> crear una col basada en valores de las efectividades --> 1s y 0s --> usar one hot encoder?\n",
    "\n",
    "Solución: lo único que hay que hacer es drop las otras columnns\n",
    "___________________\n"
   ]
  },
  {
   "cell_type": "code",
   "execution_count": 29,
   "id": "3cb4d2e9-d35f-4433-bef9-0aab4ffbd4af",
   "metadata": {},
   "outputs": [
    {
     "name": "stdout",
     "output_type": "stream",
     "text": [
      "/home/javier/mis_proyectos/tennis/EDA_and_data_preprocessing\n"
     ]
    }
   ],
   "source": [
    "!pwd"
   ]
  },
  {
   "cell_type": "code",
   "execution_count": 41,
   "id": "b6fb11f4-c4d8-4734-8cd0-1847f319d5d7",
   "metadata": {},
   "outputs": [],
   "source": [
    "# df_1 = df[df['Efectividad___1']==1]# .drop(columns=['Efectividad___2', 'Efectividad___3'])\n",
    "df_1 = df.drop(columns=['Efectividad___2', 'Efectividad___3']).rename(columns={'Efectividad___1': 'Efectividad'})\n",
    "df_2 = df.drop(columns=['Efectividad___1', 'Efectividad___3']).rename(columns={'Efectividad___2': 'Efectividad'})\n",
    "df_3 = df.drop(columns=['Efectividad___1', 'Efectividad___2']).rename(columns={'Efectividad___3': 'Efectividad'})\n",
    "\n",
    "len(df_1), len(df_2), len(df_3)\n",
    "\n",
    "df_1.to_csv('../predictions/df_1.csv')\n",
    "df_2.to_csv('../predictions/df_2.csv')\n",
    "df_3.to_csv('../predictions/df_3.csv')"
   ]
  },
  {
   "cell_type": "markdown",
   "id": "880c0357-3a40-4128-a809-035d0110117d",
   "metadata": {},
   "source": [
    "# Aquí acaba la generación de los datasets!\n",
    "___________________"
   ]
  },
  {
   "cell_type": "code",
   "execution_count": 43,
   "id": "c562fdb8-66c1-4c84-87df-01caf65f8c94",
   "metadata": {},
   "outputs": [
    {
     "data": {
      "text/plain": [
       "(1634.0, 5246.0, 4399.0)"
      ]
     },
     "execution_count": 43,
     "metadata": {},
     "output_type": "execute_result"
    }
   ],
   "source": [
    "df_1.Efectividad.sum(), df_2.Efectividad.sum(), df_3.Efectividad.sum()"
   ]
  },
  {
   "cell_type": "code",
   "execution_count": null,
   "id": "453df754-bee2-48aa-9d97-107c07da4cdb",
   "metadata": {},
   "outputs": [],
   "source": []
  },
  {
   "cell_type": "code",
   "execution_count": null,
   "id": "54a320e9-5230-4c67-8829-bef01409f694",
   "metadata": {},
   "outputs": [],
   "source": []
  },
  {
   "cell_type": "code",
   "execution_count": null,
   "id": "e253b82f-61a0-4bbc-9a3f-b4d3abb7dbb4",
   "metadata": {},
   "outputs": [],
   "source": []
  },
  {
   "cell_type": "code",
   "execution_count": 33,
   "id": "12e3229f-2f98-48f6-a8a1-020c575bb715",
   "metadata": {},
   "outputs": [
    {
     "data": {
      "text/plain": [
       "<AxesSubplot:>"
      ]
     },
     "execution_count": 33,
     "metadata": {},
     "output_type": "execute_result"
    },
    {
     "data": {
      "image/png": "[encoded data removed]",
      "text/plain": [
       "<Figure size 1080x360 with 1 Axes>"
      ]
     },
     "metadata": {},
     "output_type": "display_data"
    }
   ],
   "source": [
    "import numpy as np\n",
    "import seaborn as sn\n",
    "sn.set(rc={\"figure.figsize\":(15, 5)})\n",
    "sn.boxplot(data=df_3)"
   ]
  },
  {
   "cell_type": "markdown",
   "id": "67daaa7d-7c20-4f95-956c-f11074bd2fa9",
   "metadata": {},
   "source": [
    "## Filter Outliers"
   ]
  },
  {
   "cell_type": "code",
   "execution_count": 18,
   "id": "f6441fa8-d5d9-4200-81a5-ba3e4815b928",
   "metadata": {},
   "outputs": [],
   "source": [
    "cols = ['Y1(ABS)'] # one or more\n",
    "Q1 = df_positive_corr[cols].quantile(0.25)\n",
    "Q3 = df_positive_corr[cols].quantile(0.99)\n",
    "IQR = Q3 - Q1\n",
    "df_positive_corr = df_positive_corr[~((df_positive_corr[cols] < (Q1 - 1.5 * IQR)) |(df_positive_corr[cols] > (Q3 + 1.5 * IQR))).any(axis=1)]\n",
    "\n",
    "cols = ['Dif. V1-V2'] # one or more\n",
    "Q1 = df_positive_corr[cols].quantile(0.25)\n",
    "Q3 = df_positive_corr[cols].quantile(0.75)\n",
    "IQR = Q3 - Q1\n",
    "df_positive_corr = df_positive_corr[~((df_positive_corr[cols] < (Q1 - 1.5 * IQR)) |(df_positive_corr[cols] > (Q3 + 1.5 * IQR))).any(axis=1)]\n",
    "\n",
    "cols = ['PostV'] # one or more\n",
    "Q1 = df_positive_corr[cols].quantile(0.05)\n",
    "Q3 = df_positive_corr[cols].quantile(0.75)\n",
    "IQR = Q3 - Q1\n",
    "df_positive_corr = df_positive_corr[~((df_positive_corr[cols] < (Q1 - 1.5 * IQR)) |(df_positive_corr[cols] > (Q3 + 1.5 * IQR))).any(axis=1)]"
   ]
  },
  {
   "cell_type": "code",
   "execution_count": 48,
   "id": "80fa24c5-02b4-4af4-a69e-53da583d713e",
   "metadata": {},
   "outputs": [
    {
     "data": {
      "text/plain": [
       "<AxesSubplot:>"
      ]
     },
     "execution_count": 48,
     "metadata": {},
     "output_type": "execute_result"
    },
    {
     "data": {
      "image/png": "[encoded data removed]",
      "text/plain": [
       "<Figure size 1080x360 with 1 Axes>"
      ]
     },
     "metadata": {},
     "output_type": "display_data"
    }
   ],
   "source": [
    "import numpy as np\n",
    "import seaborn as sn\n",
    "sn.set(rc={\"figure.figsize\":(15, 5)})\n",
    "sn.boxplot(data=df_positive_corr)"
   ]
  },
  {
   "cell_type": "code",
   "execution_count": 102,
   "id": "343fd5ca-9d9e-4549-a160-63d7d6608f99",
   "metadata": {},
   "outputs": [],
   "source": [
    "### save as csv\n",
    "### split before preprocessing, to avoid data leakage\n",
    "# XX, yy = df_positive_corr, df_positive_corr.Efectividad\n",
    "XX, yy = df_3, df_3.Efectividad___3\n",
    "XX.drop('Efectividad___3', axis=1, inplace=True)\n",
    "\n",
    "# Creating a dataframe with 80%\n",
    "# values of original dataframe\n",
    "Xtrain = XX.sample(frac = 0.8)\n",
    "Ytrain = yy.sample(frac = 0.8)\n",
    " \n",
    "# Creating dataframe with\n",
    "# rest of the 20% values\n",
    "Xtest = XX.drop(Xtrain.index)\n",
    "Ytest = yy.drop(Ytrain.index)"
   ]
  },
  {
   "cell_type": "code",
   "execution_count": 50,
   "id": "2c4f3e97-8c72-46d2-a35e-b1a653087bb3",
   "metadata": {},
   "outputs": [],
   "source": [
    "Xtrain.to_csv('../predictions/Xtrain.csv')\n",
    "Ytrain.to_csv('../predictions/Ytrain.csv')\n",
    "Xtest.to_csv('../predictions/Xtest.csv')\n",
    "Ytest.to_csv('../predictions/Ytest.csv')"
   ]
  },
  {
   "cell_type": "code",
   "execution_count": 21,
   "id": "fc5c923d-7532-4a55-a85d-7506b2d7c07a",
   "metadata": {},
   "outputs": [
    {
     "name": "stdout",
     "output_type": "stream",
     "text": [
      "/home/javier/mis_proyectos/tennis/EDA\n"
     ]
    }
   ],
   "source": [
    "!pwd"
   ]
  },
  {
   "cell_type": "markdown",
   "id": "d0c2cea6-615b-479f-bffa-18a7f4d45958",
   "metadata": {},
   "source": [
    "### Algorithms:"
   ]
  },
  {
   "cell_type": "code",
   "execution_count": 103,
   "id": "bf1c0050-c609-4159-9665-4fe8396b6413",
   "metadata": {},
   "outputs": [
    {
     "name": "stderr",
     "output_type": "stream",
     "text": [
      "/home/javier/pyenvs/tennis/lib/python3.8/site-packages/sklearn/metrics/_classification.py:1318: UndefinedMetricWarning: Precision and F-score are ill-defined and being set to 0.0 in labels with no predicted samples. Use `zero_division` parameter to control this behavior.\n",
      "  _warn_prf(average, modifier, msg_start, len(result))\n",
      "/home/javier/pyenvs/tennis/lib/python3.8/site-packages/sklearn/metrics/_classification.py:1318: UndefinedMetricWarning: Precision and F-score are ill-defined and being set to 0.0 in labels with no predicted samples. Use `zero_division` parameter to control this behavior.\n",
      "  _warn_prf(average, modifier, msg_start, len(result))\n",
      "/home/javier/pyenvs/tennis/lib/python3.8/site-packages/sklearn/metrics/_classification.py:1318: UndefinedMetricWarning: Precision and F-score are ill-defined and being set to 0.0 in labels with no predicted samples. Use `zero_division` parameter to control this behavior.\n",
      "  _warn_prf(average, modifier, msg_start, len(result))\n"
     ]
    },
    {
     "name": "stdout",
     "output_type": "stream",
     "text": [
      "              precision    recall  f1-score   support\n",
      "\n",
      "         0.0       0.78      1.00      0.88      3210\n",
      "         1.0       0.00      0.00      0.00       881\n",
      "\n",
      "    accuracy                           0.78      4091\n",
      "   macro avg       0.39      0.50      0.44      4091\n",
      "weighted avg       0.62      0.78      0.69      4091\n",
      "\n",
      "\n",
      "               precision    recall  f1-score   support\n",
      "\n",
      "         0.0       0.78      1.00      0.88      3210\n",
      "         1.0       0.00      0.00      0.00       881\n",
      "\n",
      "    accuracy                           0.78      4091\n",
      "   macro avg       0.39      0.50      0.44      4091\n",
      "weighted avg       0.62      0.78      0.69      4091\n",
      "\n"
     ]
    },
    {
     "name": "stderr",
     "output_type": "stream",
     "text": [
      "/home/javier/pyenvs/tennis/lib/python3.8/site-packages/sklearn/metrics/_classification.py:1318: UndefinedMetricWarning: Precision and F-score are ill-defined and being set to 0.0 in labels with no predicted samples. Use `zero_division` parameter to control this behavior.\n",
      "  _warn_prf(average, modifier, msg_start, len(result))\n",
      "/home/javier/pyenvs/tennis/lib/python3.8/site-packages/sklearn/metrics/_classification.py:1318: UndefinedMetricWarning: Precision and F-score are ill-defined and being set to 0.0 in labels with no predicted samples. Use `zero_division` parameter to control this behavior.\n",
      "  _warn_prf(average, modifier, msg_start, len(result))\n",
      "/home/javier/pyenvs/tennis/lib/python3.8/site-packages/sklearn/metrics/_classification.py:1318: UndefinedMetricWarning: Precision and F-score are ill-defined and being set to 0.0 in labels with no predicted samples. Use `zero_division` parameter to control this behavior.\n",
      "  _warn_prf(average, modifier, msg_start, len(result))\n"
     ]
    }
   ],
   "source": [
    "# https://stackabuse.com/implementing-svm-and-kernel-svm-with-pythons-scikit-learn/\n",
    "import numpy as np\n",
    "import matplotlib.pyplot as plt\n",
    "import pandas as pd\n",
    "from sklearn.metrics import classification_report, confusion_matrix\n",
    "from sklearn.model_selection import train_test_split\n",
    "from sklearn.svm import SVC\n",
    "\n",
    "### split before preprocessing, to avoid data leakage\n",
    "# XX, yy = df_positive_corr, df_positive_corr.Efectividad\n",
    "# XX.drop('Efectividad', axis=1, inplace=True)\n",
    "\n",
    "# X, y = XX.values, yy.values # .reshape(-1, 1)\n",
    "# X_train, X_test, y_train, y_test = train_test_split(X, y, test_size = 0.20)\n",
    "\n",
    "# X, y = df_positive_corr.values, df_positive_corr.Efectividad.values # .reshape(-1, 1)\n",
    "# X_train, X_test, y_train, y_test = train_test_split(X, y, test_size = 0.20)\n",
    "\n",
    "svclassifier = SVC(kernel='rbf')\n",
    "svclassifier.fit(Xtrain, Ytrain)\n",
    "\n",
    "Ypred = svclassifier.predict(Xtest)\n",
    "\n",
    "# print(confusion_matrix(y_test, y_pred))\n",
    "print(classification_report(Ytest, Ypred))\n",
    "\n",
    "\n",
    "### try with df_positive_corr_copy  # validate with the original dataset\n",
    "# XX, yy = df_positive_corr_copy, df_positive_corr_copy.Efectividad\n",
    "# XX.drop('Efectividad', axis=1, inplace=True)\n",
    "# X, y = XX.values, yy.values # .reshape(-1, 1)\n",
    "# X_train, X_test, y_train, y_test = train_test_split(X, y, test_size = 0.20)\n",
    "\n",
    "Ypred = svclassifier.predict(Xtest)\n",
    "\n",
    "# print('\\n', confusion_matrix(y_test, y_pred))\n",
    "print('\\n', classification_report(Ytest, Ypred))"
   ]
  },
  {
   "cell_type": "code",
   "execution_count": 104,
   "id": "2bba4227-ec16-4505-ba46-579ecee614c0",
   "metadata": {},
   "outputs": [
    {
     "name": "stdout",
     "output_type": "stream",
     "text": [
      "              precision    recall  f1-score   support\n",
      "\n",
      "         0.0       0.78      1.00      0.88      3210\n",
      "         1.0       0.00      0.00      0.00       881\n",
      "\n",
      "    accuracy                           0.78      4091\n",
      "   macro avg       0.39      0.50      0.44      4091\n",
      "weighted avg       0.62      0.78      0.69      4091\n",
      "\n"
     ]
    },
    {
     "name": "stderr",
     "output_type": "stream",
     "text": [
      "/home/javier/pyenvs/tennis/lib/python3.8/site-packages/sklearn/metrics/_classification.py:1318: UndefinedMetricWarning: Precision and F-score are ill-defined and being set to 0.0 in labels with no predicted samples. Use `zero_division` parameter to control this behavior.\n",
      "  _warn_prf(average, modifier, msg_start, len(result))\n",
      "/home/javier/pyenvs/tennis/lib/python3.8/site-packages/sklearn/metrics/_classification.py:1318: UndefinedMetricWarning: Precision and F-score are ill-defined and being set to 0.0 in labels with no predicted samples. Use `zero_division` parameter to control this behavior.\n",
      "  _warn_prf(average, modifier, msg_start, len(result))\n",
      "/home/javier/pyenvs/tennis/lib/python3.8/site-packages/sklearn/metrics/_classification.py:1318: UndefinedMetricWarning: Precision and F-score are ill-defined and being set to 0.0 in labels with no predicted samples. Use `zero_division` parameter to control this behavior.\n",
      "  _warn_prf(average, modifier, msg_start, len(result))\n"
     ]
    }
   ],
   "source": [
    "### apply zscore to X\n",
    "# XX, yy = df_positive_corr, df_positive_corr.Efectividad\n",
    "# XX.drop('Efectividad', axis=1, inplace=True)\n",
    "\n",
    "from sklearn.preprocessing import MinMaxScaler\n",
    "\n",
    "# X, y = XX.values, yy.values # .reshape(-1, 1)\n",
    "# X_train, X_test, y_train, y_test = train_test_split(X, y, test_size = 0.20)\n",
    "\n",
    "scaler = MinMaxScaler()\n",
    "X_train_scaled = scaler.fit_transform(Xtrain)\n",
    "X_test_scaled = scaler.transform(Xtest)\n",
    "\n",
    "\n",
    "model = SVC(kernel='rbf')\n",
    "model.fit(X_train_scaled, Ytrain)\n",
    "y_pred = model.predict(X_test_scaled)\n",
    "print(classification_report(Ytest, y_pred))"
   ]
  },
  {
   "cell_type": "code",
   "execution_count": null,
   "id": "2baba8e5-3211-4e1a-bd21-9acf71a98dc5",
   "metadata": {},
   "outputs": [],
   "source": []
  },
  {
   "cell_type": "code",
   "execution_count": 56,
   "id": "5b2bf2ce-c26f-4d4d-8221-2cdcf72fa54d",
   "metadata": {},
   "outputs": [],
   "source": [
    "### save final dataset\n",
    "import pickle as pkl\n",
    "\n",
    "#to save it\n",
    "with open(\"train.pkl\", \"wb\") as f:\n",
    "    pkl.dump([X_train_scaled, Ytrain], f)\n",
    "    \n",
    "#to save it\n",
    "with open(\"test.pkl\", \"wb\") as f:\n",
    "    pkl.dump([X_test_scaled, Ytest], f)    \n",
    "\n",
    "# #to load it\n",
    "# with open(\"train.pkl\", \"r\") as f:\n",
    "#     train_x, train_y = pkl.load(f)"
   ]
  },
  {
   "cell_type": "code",
   "execution_count": 57,
   "id": "7c9831c8-4f0f-4287-a2ee-d7478071259e",
   "metadata": {},
   "outputs": [
    {
     "data": {
      "text/plain": [
       "array([[0.32766164, 0.27845036, 0.        , 0.57400722, 0.08333333,\n",
       "        1.        ],\n",
       "       [0.43218279, 0.47215496, 0.        , 0.46740285, 0.19196429,\n",
       "        0.        ],\n",
       "       [0.22848809, 0.49636804, 1.        , 0.4378849 , 0.25744048,\n",
       "        0.        ],\n",
       "       ...,\n",
       "       [0.61837628, 0.47215496, 0.        , 0.57337014, 0.08630952,\n",
       "        0.        ],\n",
       "       [0.17890131, 0.30024213, 0.        , 0.15056275, 0.05133929,\n",
       "        1.        ],\n",
       "       [0.18230433, 0.44794189, 0.        , 0.35102994, 0.25892857,\n",
       "        0.        ]])"
      ]
     },
     "execution_count": 57,
     "metadata": {},
     "output_type": "execute_result"
    }
   ],
   "source": [
    "X_train_scaled"
   ]
  },
  {
   "cell_type": "code",
   "execution_count": 59,
   "id": "8debdfcc-1d71-4a7a-b46a-7d747d626224",
   "metadata": {},
   "outputs": [
    {
     "data": {
      "text/plain": [
       "10798    2\n",
       "9147     2\n",
       "4618     4\n",
       "13722    4\n",
       "12658    4\n",
       "        ..\n",
       "5407     4\n",
       "1728     4\n",
       "8873     1\n",
       "5048     4\n",
       "6180     3\n",
       "Name: Efectividad, Length: 16363, dtype: int64"
      ]
     },
     "execution_count": 59,
     "metadata": {},
     "output_type": "execute_result"
    }
   ],
   "source": [
    "X_train_scaled\n",
    "X_test_scaled\n",
    "Ytest\n",
    "Ytrain"
   ]
  },
  {
   "cell_type": "code",
   "execution_count": null,
   "id": "ee8ff201-af51-4842-a965-994641b5253c",
   "metadata": {},
   "outputs": [],
   "source": []
  },
  {
   "cell_type": "markdown",
   "id": "4495655a-4325-4d71-a921-4c8ab8ba7765",
   "metadata": {},
   "source": [
    "## Try all possible algorithms and compare! \n",
    "Here starts the fun part "
   ]
  },
  {
   "cell_type": "markdown",
   "id": "d847b8eb-2f97-4608-9685-283a8c77f135",
   "metadata": {},
   "source": [
    "## Lessons learnt - TODOES:  \n",
    "- use df_3, not the top correlated df  \n",
    "- using V vs Efectividad gives almos tthe same results!  \n",
    "- Try all algorithms with all 3 X options!!  \n",
    "    - V vs Efectividad\n",
    "    - df_3 vs Efectividad\n",
    "    - Max_correlated_vars_df vs Efectividad"
   ]
  },
  {
   "cell_type": "code",
   "execution_count": 60,
   "id": "3c91461f-400f-41cd-a4af-f58d4a299ae1",
   "metadata": {},
   "outputs": [
    {
     "ename": "ValueError",
     "evalue": "X has 6 features, but SVC is expecting 13 features as input.",
     "output_type": "error",
     "traceback": [
      "\u001b[0;31m---------------------------------------------------------------------------\u001b[0m",
      "\u001b[0;31mValueError\u001b[0m                                Traceback (most recent call last)",
      "Input \u001b[0;32mIn [60]\u001b[0m, in \u001b[0;36m<cell line: 19>\u001b[0;34m()\u001b[0m\n\u001b[1;32m     16\u001b[0m model \u001b[38;5;241m=\u001b[39m pickle\u001b[38;5;241m.\u001b[39mload(\u001b[38;5;28mopen\u001b[39m(\u001b[38;5;124m\"\u001b[39m\u001b[38;5;124mmodel.pkl\u001b[39m\u001b[38;5;124m\"\u001b[39m, \u001b[38;5;124m\"\u001b[39m\u001b[38;5;124mrb\u001b[39m\u001b[38;5;124m\"\u001b[39m))\n\u001b[1;32m     18\u001b[0m \u001b[38;5;66;03m## use model to predict\u001b[39;00m\n\u001b[0;32m---> 19\u001b[0m y_pred \u001b[38;5;241m=\u001b[39m \u001b[43mmodel\u001b[49m\u001b[38;5;241;43m.\u001b[39;49m\u001b[43mpredict\u001b[49m\u001b[43m(\u001b[49m\u001b[43mX_test_scaled\u001b[49m\u001b[43m)\u001b[49m\n\u001b[1;32m     20\u001b[0m \u001b[38;5;28mprint\u001b[39m(classification_report(y_test, y_pred))\n",
      "File \u001b[0;32m~/pyenvs/tennis/lib/python3.8/site-packages/sklearn/svm/_base.py:791\u001b[0m, in \u001b[0;36mBaseSVC.predict\u001b[0;34m(self, X)\u001b[0m\n\u001b[1;32m    789\u001b[0m     y \u001b[38;5;241m=\u001b[39m np\u001b[38;5;241m.\u001b[39margmax(\u001b[38;5;28mself\u001b[39m\u001b[38;5;241m.\u001b[39mdecision_function(X), axis\u001b[38;5;241m=\u001b[39m\u001b[38;5;241m1\u001b[39m)\n\u001b[1;32m    790\u001b[0m \u001b[38;5;28;01melse\u001b[39;00m:\n\u001b[0;32m--> 791\u001b[0m     y \u001b[38;5;241m=\u001b[39m \u001b[38;5;28;43msuper\u001b[39;49m\u001b[43m(\u001b[49m\u001b[43m)\u001b[49m\u001b[38;5;241;43m.\u001b[39;49m\u001b[43mpredict\u001b[49m\u001b[43m(\u001b[49m\u001b[43mX\u001b[49m\u001b[43m)\u001b[49m\n\u001b[1;32m    792\u001b[0m \u001b[38;5;28;01mreturn\u001b[39;00m \u001b[38;5;28mself\u001b[39m\u001b[38;5;241m.\u001b[39mclasses_\u001b[38;5;241m.\u001b[39mtake(np\u001b[38;5;241m.\u001b[39masarray(y, dtype\u001b[38;5;241m=\u001b[39mnp\u001b[38;5;241m.\u001b[39mintp))\n",
      "File \u001b[0;32m~/pyenvs/tennis/lib/python3.8/site-packages/sklearn/svm/_base.py:414\u001b[0m, in \u001b[0;36mBaseLibSVM.predict\u001b[0;34m(self, X)\u001b[0m\n\u001b[1;32m    398\u001b[0m \u001b[38;5;28;01mdef\u001b[39;00m \u001b[38;5;21mpredict\u001b[39m(\u001b[38;5;28mself\u001b[39m, X):\n\u001b[1;32m    399\u001b[0m     \u001b[38;5;124;03m\"\"\"Perform regression on samples in X.\u001b[39;00m\n\u001b[1;32m    400\u001b[0m \n\u001b[1;32m    401\u001b[0m \u001b[38;5;124;03m    For an one-class model, +1 (inlier) or -1 (outlier) is returned.\u001b[39;00m\n\u001b[0;32m   (...)\u001b[0m\n\u001b[1;32m    412\u001b[0m \u001b[38;5;124;03m        The predicted values.\u001b[39;00m\n\u001b[1;32m    413\u001b[0m \u001b[38;5;124;03m    \"\"\"\u001b[39;00m\n\u001b[0;32m--> 414\u001b[0m     X \u001b[38;5;241m=\u001b[39m \u001b[38;5;28;43mself\u001b[39;49m\u001b[38;5;241;43m.\u001b[39;49m\u001b[43m_validate_for_predict\u001b[49m\u001b[43m(\u001b[49m\u001b[43mX\u001b[49m\u001b[43m)\u001b[49m\n\u001b[1;32m    415\u001b[0m     predict \u001b[38;5;241m=\u001b[39m \u001b[38;5;28mself\u001b[39m\u001b[38;5;241m.\u001b[39m_sparse_predict \u001b[38;5;28;01mif\u001b[39;00m \u001b[38;5;28mself\u001b[39m\u001b[38;5;241m.\u001b[39m_sparse \u001b[38;5;28;01melse\u001b[39;00m \u001b[38;5;28mself\u001b[39m\u001b[38;5;241m.\u001b[39m_dense_predict\n\u001b[1;32m    416\u001b[0m     \u001b[38;5;28;01mreturn\u001b[39;00m predict(X)\n",
      "File \u001b[0;32m~/pyenvs/tennis/lib/python3.8/site-packages/sklearn/svm/_base.py:592\u001b[0m, in \u001b[0;36mBaseLibSVM._validate_for_predict\u001b[0;34m(self, X)\u001b[0m\n\u001b[1;32m    589\u001b[0m check_is_fitted(\u001b[38;5;28mself\u001b[39m)\n\u001b[1;32m    591\u001b[0m \u001b[38;5;28;01mif\u001b[39;00m \u001b[38;5;129;01mnot\u001b[39;00m callable(\u001b[38;5;28mself\u001b[39m\u001b[38;5;241m.\u001b[39mkernel):\n\u001b[0;32m--> 592\u001b[0m     X \u001b[38;5;241m=\u001b[39m \u001b[38;5;28;43mself\u001b[39;49m\u001b[38;5;241;43m.\u001b[39;49m\u001b[43m_validate_data\u001b[49m\u001b[43m(\u001b[49m\n\u001b[1;32m    593\u001b[0m \u001b[43m        \u001b[49m\u001b[43mX\u001b[49m\u001b[43m,\u001b[49m\n\u001b[1;32m    594\u001b[0m \u001b[43m        \u001b[49m\u001b[43maccept_sparse\u001b[49m\u001b[38;5;241;43m=\u001b[39;49m\u001b[38;5;124;43m\"\u001b[39;49m\u001b[38;5;124;43mcsr\u001b[39;49m\u001b[38;5;124;43m\"\u001b[39;49m\u001b[43m,\u001b[49m\n\u001b[1;32m    595\u001b[0m \u001b[43m        \u001b[49m\u001b[43mdtype\u001b[49m\u001b[38;5;241;43m=\u001b[39;49m\u001b[43mnp\u001b[49m\u001b[38;5;241;43m.\u001b[39;49m\u001b[43mfloat64\u001b[49m\u001b[43m,\u001b[49m\n\u001b[1;32m    596\u001b[0m \u001b[43m        \u001b[49m\u001b[43morder\u001b[49m\u001b[38;5;241;43m=\u001b[39;49m\u001b[38;5;124;43m\"\u001b[39;49m\u001b[38;5;124;43mC\u001b[39;49m\u001b[38;5;124;43m\"\u001b[39;49m\u001b[43m,\u001b[49m\n\u001b[1;32m    597\u001b[0m \u001b[43m        \u001b[49m\u001b[43maccept_large_sparse\u001b[49m\u001b[38;5;241;43m=\u001b[39;49m\u001b[38;5;28;43;01mFalse\u001b[39;49;00m\u001b[43m,\u001b[49m\n\u001b[1;32m    598\u001b[0m \u001b[43m        \u001b[49m\u001b[43mreset\u001b[49m\u001b[38;5;241;43m=\u001b[39;49m\u001b[38;5;28;43;01mFalse\u001b[39;49;00m\u001b[43m,\u001b[49m\n\u001b[1;32m    599\u001b[0m \u001b[43m    \u001b[49m\u001b[43m)\u001b[49m\n\u001b[1;32m    601\u001b[0m \u001b[38;5;28;01mif\u001b[39;00m \u001b[38;5;28mself\u001b[39m\u001b[38;5;241m.\u001b[39m_sparse \u001b[38;5;129;01mand\u001b[39;00m \u001b[38;5;129;01mnot\u001b[39;00m sp\u001b[38;5;241m.\u001b[39misspmatrix(X):\n\u001b[1;32m    602\u001b[0m     X \u001b[38;5;241m=\u001b[39m sp\u001b[38;5;241m.\u001b[39mcsr_matrix(X)\n",
      "File \u001b[0;32m~/pyenvs/tennis/lib/python3.8/site-packages/sklearn/base.py:585\u001b[0m, in \u001b[0;36mBaseEstimator._validate_data\u001b[0;34m(self, X, y, reset, validate_separately, **check_params)\u001b[0m\n\u001b[1;32m    582\u001b[0m     out \u001b[38;5;241m=\u001b[39m X, y\n\u001b[1;32m    584\u001b[0m \u001b[38;5;28;01mif\u001b[39;00m \u001b[38;5;129;01mnot\u001b[39;00m no_val_X \u001b[38;5;129;01mand\u001b[39;00m check_params\u001b[38;5;241m.\u001b[39mget(\u001b[38;5;124m\"\u001b[39m\u001b[38;5;124mensure_2d\u001b[39m\u001b[38;5;124m\"\u001b[39m, \u001b[38;5;28;01mTrue\u001b[39;00m):\n\u001b[0;32m--> 585\u001b[0m     \u001b[38;5;28;43mself\u001b[39;49m\u001b[38;5;241;43m.\u001b[39;49m\u001b[43m_check_n_features\u001b[49m\u001b[43m(\u001b[49m\u001b[43mX\u001b[49m\u001b[43m,\u001b[49m\u001b[43m \u001b[49m\u001b[43mreset\u001b[49m\u001b[38;5;241;43m=\u001b[39;49m\u001b[43mreset\u001b[49m\u001b[43m)\u001b[49m\n\u001b[1;32m    587\u001b[0m \u001b[38;5;28;01mreturn\u001b[39;00m out\n",
      "File \u001b[0;32m~/pyenvs/tennis/lib/python3.8/site-packages/sklearn/base.py:400\u001b[0m, in \u001b[0;36mBaseEstimator._check_n_features\u001b[0;34m(self, X, reset)\u001b[0m\n\u001b[1;32m    397\u001b[0m     \u001b[38;5;28;01mreturn\u001b[39;00m\n\u001b[1;32m    399\u001b[0m \u001b[38;5;28;01mif\u001b[39;00m n_features \u001b[38;5;241m!=\u001b[39m \u001b[38;5;28mself\u001b[39m\u001b[38;5;241m.\u001b[39mn_features_in_:\n\u001b[0;32m--> 400\u001b[0m     \u001b[38;5;28;01mraise\u001b[39;00m \u001b[38;5;167;01mValueError\u001b[39;00m(\n\u001b[1;32m    401\u001b[0m         \u001b[38;5;124mf\u001b[39m\u001b[38;5;124m\"\u001b[39m\u001b[38;5;124mX has \u001b[39m\u001b[38;5;132;01m{\u001b[39;00mn_features\u001b[38;5;132;01m}\u001b[39;00m\u001b[38;5;124m features, but \u001b[39m\u001b[38;5;132;01m{\u001b[39;00m\u001b[38;5;28mself\u001b[39m\u001b[38;5;241m.\u001b[39m\u001b[38;5;18m__class__\u001b[39m\u001b[38;5;241m.\u001b[39m\u001b[38;5;18m__name__\u001b[39m\u001b[38;5;132;01m}\u001b[39;00m\u001b[38;5;124m \u001b[39m\u001b[38;5;124m\"\u001b[39m\n\u001b[1;32m    402\u001b[0m         \u001b[38;5;124mf\u001b[39m\u001b[38;5;124m\"\u001b[39m\u001b[38;5;124mis expecting \u001b[39m\u001b[38;5;132;01m{\u001b[39;00m\u001b[38;5;28mself\u001b[39m\u001b[38;5;241m.\u001b[39mn_features_in_\u001b[38;5;132;01m}\u001b[39;00m\u001b[38;5;124m features as input.\u001b[39m\u001b[38;5;124m\"\u001b[39m\n\u001b[1;32m    403\u001b[0m     )\n",
      "\u001b[0;31mValueError\u001b[0m: X has 6 features, but SVC is expecting 13 features as input."
     ]
    }
   ],
   "source": [
    "import pickle\n",
    "\n",
    "# https://stackabuse.com/implementing-svm-and-kernel-svm-with-pythons-scikit-learn/\n",
    "import numpy as np\n",
    "import matplotlib.pyplot as plt\n",
    "import pandas as pd\n",
    "from sklearn.metrics import classification_report, confusion_matrix\n",
    "from sklearn.model_selection import train_test_split\n",
    "from sklearn.svm import SVC\n",
    "\n",
    "### Load Data:\n",
    "X_train_scaled, y_train = pickle.load(open(\"train.pkl\", \"rb\"))  # X_train_scaled, y_train\n",
    "X_test_scaled, y_test = pickle.load(open(\"test.pkl\", \"rb\"))     # \n",
    "\n",
    "### load the model\n",
    "model = pickle.load(open(\"model.pkl\", \"rb\"))\n",
    "\n",
    "## use model to predict\n",
    "y_pred = model.predict(X_test_scaled)\n",
    "print(classification_report(y_test, y_pred))"
   ]
  },
  {
   "cell_type": "code",
   "execution_count": 106,
   "id": "4c8b36bf-40cc-466d-9150-d0f2ea703aad",
   "metadata": {},
   "outputs": [
    {
     "name": "stdout",
     "output_type": "stream",
     "text": [
      "              precision    recall  f1-score   support\n",
      "\n",
      "         0.0       0.78      1.00      0.88      3210\n",
      "         1.0       0.00      0.00      0.00       881\n",
      "\n",
      "    accuracy                           0.78      4091\n",
      "   macro avg       0.39      0.50      0.44      4091\n",
      "weighted avg       0.62      0.78      0.69      4091\n",
      "\n"
     ]
    },
    {
     "name": "stderr",
     "output_type": "stream",
     "text": [
      "/home/javier/pyenvs/tennis/lib/python3.8/site-packages/sklearn/metrics/_classification.py:1318: UndefinedMetricWarning: Precision and F-score are ill-defined and being set to 0.0 in labels with no predicted samples. Use `zero_division` parameter to control this behavior.\n",
      "  _warn_prf(average, modifier, msg_start, len(result))\n",
      "/home/javier/pyenvs/tennis/lib/python3.8/site-packages/sklearn/metrics/_classification.py:1318: UndefinedMetricWarning: Precision and F-score are ill-defined and being set to 0.0 in labels with no predicted samples. Use `zero_division` parameter to control this behavior.\n",
      "  _warn_prf(average, modifier, msg_start, len(result))\n",
      "/home/javier/pyenvs/tennis/lib/python3.8/site-packages/sklearn/metrics/_classification.py:1318: UndefinedMetricWarning: Precision and F-score are ill-defined and being set to 0.0 in labels with no predicted samples. Use `zero_division` parameter to control this behavior.\n",
      "  _warn_prf(average, modifier, msg_start, len(result))\n"
     ]
    }
   ],
   "source": [
    "model = SVC(kernel='rbf')\n",
    "model.fit(X_train_scaled, Ytrain)\n",
    "y_pred = model.predict(X_test_scaled)\n",
    "print(classification_report(Ytest, y_pred))"
   ]
  },
  {
   "cell_type": "code",
   "execution_count": 108,
   "id": "6cb76bd1-e620-4476-aa06-664eb4e0664e",
   "metadata": {},
   "outputs": [
    {
     "name": "stderr",
     "output_type": "stream",
     "text": [
      "/home/javier/pyenvs/tennis/lib/python3.8/site-packages/sklearn/metrics/_classification.py:1318: UndefinedMetricWarning: Precision and F-score are ill-defined and being set to 0.0 in labels with no predicted samples. Use `zero_division` parameter to control this behavior.\n",
      "  _warn_prf(average, modifier, msg_start, len(result))\n",
      "/home/javier/pyenvs/tennis/lib/python3.8/site-packages/sklearn/metrics/_classification.py:1318: UndefinedMetricWarning: Precision and F-score are ill-defined and being set to 0.0 in labels with no predicted samples. Use `zero_division` parameter to control this behavior.\n",
      "  _warn_prf(average, modifier, msg_start, len(result))\n",
      "/home/javier/pyenvs/tennis/lib/python3.8/site-packages/sklearn/metrics/_classification.py:1318: UndefinedMetricWarning: Precision and F-score are ill-defined and being set to 0.0 in labels with no predicted samples. Use `zero_division` parameter to control this behavior.\n",
      "  _warn_prf(average, modifier, msg_start, len(result))\n"
     ]
    },
    {
     "data": {
      "text/plain": [
       "0.7846492300171107"
      ]
     },
     "execution_count": 108,
     "metadata": {},
     "output_type": "execute_result"
    }
   ],
   "source": [
    "### Let's play with some Hyperparameters Cross-Validation search:\n",
    "# C: Regularization parameter   -   float, default=1.0   -  Lambda in formulation\n",
    "# gamma='scale' (default) is passed then it uses 1 / (n_features * X.var()) as value of gamma,\n",
    "\n",
    "classification_report(Ytest, y_pred, output_dict=True)['accuracy']"
   ]
  },
  {
   "cell_type": "code",
   "execution_count": 63,
   "id": "c6ff0393-1e59-4d67-8f37-f134b312f3b0",
   "metadata": {},
   "outputs": [
    {
     "data": {
      "text/plain": [
       "0.09999614561020503"
      ]
     },
     "execution_count": 63,
     "metadata": {},
     "output_type": "execute_result"
    }
   ],
   "source": [
    "X_train_scaled.var()"
   ]
  },
  {
   "cell_type": "code",
   "execution_count": 64,
   "id": "8451a0b4-9993-4e09-9640-1180e0a4652f",
   "metadata": {},
   "outputs": [
    {
     "data": {
      "text/plain": [
       "1.6667309089727316"
      ]
     },
     "execution_count": 64,
     "metadata": {},
     "output_type": "execute_result"
    }
   ],
   "source": [
    "gamma = 1 / (X_train_scaled.shape[1]*X_train_scaled.var())  # gamma = 1 / (n_features * X_train_scaled.var()) \n",
    "gamma  ### default gamma"
   ]
  },
  {
   "cell_type": "code",
   "execution_count": 65,
   "id": "fbe54367-ad9e-496e-b415-cb5ea5b17180",
   "metadata": {},
   "outputs": [],
   "source": [
    "### create the values for the grid\n",
    "C_search     = [0.01, 0.1, 0.5, 0.75, 1,   1.50, 2.0]\n",
    "gamma_search = [0.01, 0.1, 0.5, 0.75, 1,   1.25, 1.5]"
   ]
  },
  {
   "cell_type": "code",
   "execution_count": 44,
   "id": "7c94795c-9d10-446d-90ab-41ca846922c4",
   "metadata": {},
   "outputs": [],
   "source": [
    "# from tqdm import tqdm\n",
    "# results_dicto = []\n",
    "# \n",
    "# for c in tqdm(C_search, desc='Iter. over Regularization parameter & kernel gammas'):\n",
    "#     for g in gamma_search:\n",
    "#         m = SVC(kernel='rbf', C=c, gamma=g)  # model  # tol = cost function tolerance\n",
    "#         m.fit(X_train_scaled, y_train)\n",
    "#         y_pred = m.predict(X_test_scaled)\n",
    "#         cls_acc = classification_report(y_test, y_pred, output_dict=True)['accuracy']\n",
    "#         results = {'lambda': m.C, 'gamma': m.gamma, 'accuracy': cls_acc}\n",
    "#         results_dicto.append(results)\n",
    "# \n",
    "# print()\n",
    "# results_dicto"
   ]
  },
  {
   "cell_type": "code",
   "execution_count": 45,
   "id": "ff9f7b27-44f7-42a4-bd18-640a6cc3d3c1",
   "metadata": {},
   "outputs": [
    {
     "data": {
      "text/plain": [
       "(0.8746723850369311, 2.0, 1.5)"
      ]
     },
     "execution_count": 45,
     "metadata": {},
     "output_type": "execute_result"
    }
   ],
   "source": [
    "max([x['accuracy'] for x in nested_dicto]), m.C, m.gamma"
   ]
  },
  {
   "cell_type": "code",
   "execution_count": null,
   "id": "acec756e-4cdb-492c-b58b-21f8ad70c9cb",
   "metadata": {},
   "outputs": [],
   "source": []
  },
  {
   "cell_type": "code",
   "execution_count": 109,
   "id": "cbc167b1-28de-49d7-a1b1-d5d04f94f878",
   "metadata": {},
   "outputs": [],
   "source": [
    "from numpy import mean\n",
    "from sklearn.datasets import make_classification\n",
    "from sklearn.model_selection import cross_val_score\n",
    "from sklearn.model_selection import RepeatedStratifiedKFold\n",
    "from xgboost import XGBClassifier"
   ]
  },
  {
   "cell_type": "code",
   "execution_count": 110,
   "id": "2f74e6dd-3413-4d92-a1cc-59d2563a7ef0",
   "metadata": {},
   "outputs": [],
   "source": [
    "y_test = Ytest"
   ]
  },
  {
   "cell_type": "code",
   "execution_count": 112,
   "id": "480ce43d-55a4-4083-974a-247b16783664",
   "metadata": {},
   "outputs": [
    {
     "name": "stderr",
     "output_type": "stream",
     "text": [
      "/home/javier/pyenvs/tennis/lib/python3.8/site-packages/xgboost/sklearn.py:1146: UserWarning: The use of label encoder in XGBClassifier is deprecated and will be removed in a future release. To remove this warning, do the following: 1) Pass option use_label_encoder=False when constructing XGBClassifier object; and 2) Encode your labels (y) as integers starting with 0, i.e. 0, 1, 2, ..., [num_class - 1].\n",
      "  warnings.warn(label_encoder_deprecation_msg, UserWarning)\n"
     ]
    },
    {
     "name": "stdout",
     "output_type": "stream",
     "text": [
      "[12:38:36] WARNING: ../src/learner.cc:1095: Starting in XGBoost 1.3.0, the default evaluation metric used with the objective 'binary:logistic' was changed from 'error' to 'logloss'. Explicitly set eval_metric if you'd like to restore the old behavior.\n",
      "              precision    recall  f1-score   support\n",
      "\n",
      "         0.0       0.78      0.98      0.87      3210\n",
      "         1.0       0.20      0.02      0.04       881\n",
      "\n",
      "    accuracy                           0.77      4091\n",
      "   macro avg       0.49      0.50      0.45      4091\n",
      "weighted avg       0.66      0.77      0.69      4091\n",
      "\n"
     ]
    }
   ],
   "source": [
    "\"\"\"\n",
    "X_train_scaled, y_train\n",
    "X_test_scaled, y_test\n",
    "\"\"\"\n",
    "model = XGBClassifier()\n",
    "model.fit(X_train_scaled,Ytrain)\n",
    "\n",
    "y_pred = model.predict(X_test_scaled)\n",
    "print(classification_report(y_test, y_pred))"
   ]
  },
  {
   "cell_type": "code",
   "execution_count": null,
   "id": "b5511aab-f309-44c2-984d-676d2d656da8",
   "metadata": {},
   "outputs": [],
   "source": []
  },
  {
   "cell_type": "code",
   "execution_count": 69,
   "id": "a8fcb2a7-13c1-420e-b283-029ae394d247",
   "metadata": {},
   "outputs": [
    {
     "name": "stdout",
     "output_type": "stream",
     "text": [
      "Fitting 5 folds for each of 5 candidates, totalling 25 fits\n"
     ]
    },
    {
     "ename": "KeyboardInterrupt",
     "evalue": "",
     "output_type": "error",
     "traceback": [
      "\u001b[0;31m---------------------------------------------------------------------------\u001b[0m",
      "\u001b[0;31mKeyboardInterrupt\u001b[0m                         Traceback (most recent call last)",
      "Input \u001b[0;32mIn [69]\u001b[0m, in \u001b[0;36m<cell line: 27>\u001b[0;34m()\u001b[0m\n\u001b[1;32m     16\u001b[0m kfold_5 \u001b[38;5;241m=\u001b[39m KFold(n_splits\u001b[38;5;241m=\u001b[39mnumFolds)\n\u001b[1;32m     18\u001b[0m clf \u001b[38;5;241m=\u001b[39m RandomizedSearchCV(clf_xgb, \n\u001b[1;32m     19\u001b[0m                          param_distributions \u001b[38;5;241m=\u001b[39m param_dist,\n\u001b[1;32m     20\u001b[0m                          cv \u001b[38;5;241m=\u001b[39m kfold_5,  \n\u001b[0;32m   (...)\u001b[0m\n\u001b[1;32m     24\u001b[0m                          verbose \u001b[38;5;241m=\u001b[39m \u001b[38;5;241m3\u001b[39m, \n\u001b[1;32m     25\u001b[0m                          n_jobs \u001b[38;5;241m=\u001b[39m \u001b[38;5;241m-\u001b[39m\u001b[38;5;241m1\u001b[39m)\n\u001b[0;32m---> 27\u001b[0m \u001b[43mclf\u001b[49m\u001b[38;5;241;43m.\u001b[39;49m\u001b[43mfit\u001b[49m\u001b[43m(\u001b[49m\u001b[43mX_train_scaled\u001b[49m\u001b[43m,\u001b[49m\u001b[43m \u001b[49m\u001b[43my_train\u001b[49m\u001b[43m)\u001b[49m\n",
      "File \u001b[0;32m~/pyenvs/tennis/lib/python3.8/site-packages/sklearn/model_selection/_search.py:891\u001b[0m, in \u001b[0;36mBaseSearchCV.fit\u001b[0;34m(self, X, y, groups, **fit_params)\u001b[0m\n\u001b[1;32m    885\u001b[0m     results \u001b[38;5;241m=\u001b[39m \u001b[38;5;28mself\u001b[39m\u001b[38;5;241m.\u001b[39m_format_results(\n\u001b[1;32m    886\u001b[0m         all_candidate_params, n_splits, all_out, all_more_results\n\u001b[1;32m    887\u001b[0m     )\n\u001b[1;32m    889\u001b[0m     \u001b[38;5;28;01mreturn\u001b[39;00m results\n\u001b[0;32m--> 891\u001b[0m \u001b[38;5;28;43mself\u001b[39;49m\u001b[38;5;241;43m.\u001b[39;49m\u001b[43m_run_search\u001b[49m\u001b[43m(\u001b[49m\u001b[43mevaluate_candidates\u001b[49m\u001b[43m)\u001b[49m\n\u001b[1;32m    893\u001b[0m \u001b[38;5;66;03m# multimetric is determined here because in the case of a callable\u001b[39;00m\n\u001b[1;32m    894\u001b[0m \u001b[38;5;66;03m# self.scoring the return type is only known after calling\u001b[39;00m\n\u001b[1;32m    895\u001b[0m first_test_score \u001b[38;5;241m=\u001b[39m all_out[\u001b[38;5;241m0\u001b[39m][\u001b[38;5;124m\"\u001b[39m\u001b[38;5;124mtest_scores\u001b[39m\u001b[38;5;124m\"\u001b[39m]\n",
      "File \u001b[0;32m~/pyenvs/tennis/lib/python3.8/site-packages/sklearn/model_selection/_search.py:1766\u001b[0m, in \u001b[0;36mRandomizedSearchCV._run_search\u001b[0;34m(self, evaluate_candidates)\u001b[0m\n\u001b[1;32m   1764\u001b[0m \u001b[38;5;28;01mdef\u001b[39;00m \u001b[38;5;21m_run_search\u001b[39m(\u001b[38;5;28mself\u001b[39m, evaluate_candidates):\n\u001b[1;32m   1765\u001b[0m     \u001b[38;5;124;03m\"\"\"Search n_iter candidates from param_distributions\"\"\"\u001b[39;00m\n\u001b[0;32m-> 1766\u001b[0m     \u001b[43mevaluate_candidates\u001b[49m\u001b[43m(\u001b[49m\n\u001b[1;32m   1767\u001b[0m \u001b[43m        \u001b[49m\u001b[43mParameterSampler\u001b[49m\u001b[43m(\u001b[49m\n\u001b[1;32m   1768\u001b[0m \u001b[43m            \u001b[49m\u001b[38;5;28;43mself\u001b[39;49m\u001b[38;5;241;43m.\u001b[39;49m\u001b[43mparam_distributions\u001b[49m\u001b[43m,\u001b[49m\u001b[43m \u001b[49m\u001b[38;5;28;43mself\u001b[39;49m\u001b[38;5;241;43m.\u001b[39;49m\u001b[43mn_iter\u001b[49m\u001b[43m,\u001b[49m\u001b[43m \u001b[49m\u001b[43mrandom_state\u001b[49m\u001b[38;5;241;43m=\u001b[39;49m\u001b[38;5;28;43mself\u001b[39;49m\u001b[38;5;241;43m.\u001b[39;49m\u001b[43mrandom_state\u001b[49m\n\u001b[1;32m   1769\u001b[0m \u001b[43m        \u001b[49m\u001b[43m)\u001b[49m\n\u001b[1;32m   1770\u001b[0m \u001b[43m    \u001b[49m\u001b[43m)\u001b[49m\n",
      "File \u001b[0;32m~/pyenvs/tennis/lib/python3.8/site-packages/sklearn/model_selection/_search.py:838\u001b[0m, in \u001b[0;36mBaseSearchCV.fit.<locals>.evaluate_candidates\u001b[0;34m(candidate_params, cv, more_results)\u001b[0m\n\u001b[1;32m    830\u001b[0m \u001b[38;5;28;01mif\u001b[39;00m \u001b[38;5;28mself\u001b[39m\u001b[38;5;241m.\u001b[39mverbose \u001b[38;5;241m>\u001b[39m \u001b[38;5;241m0\u001b[39m:\n\u001b[1;32m    831\u001b[0m     \u001b[38;5;28mprint\u001b[39m(\n\u001b[1;32m    832\u001b[0m         \u001b[38;5;124m\"\u001b[39m\u001b[38;5;124mFitting \u001b[39m\u001b[38;5;132;01m{0}\u001b[39;00m\u001b[38;5;124m folds for each of \u001b[39m\u001b[38;5;132;01m{1}\u001b[39;00m\u001b[38;5;124m candidates,\u001b[39m\u001b[38;5;124m\"\u001b[39m\n\u001b[1;32m    833\u001b[0m         \u001b[38;5;124m\"\u001b[39m\u001b[38;5;124m totalling \u001b[39m\u001b[38;5;132;01m{2}\u001b[39;00m\u001b[38;5;124m fits\u001b[39m\u001b[38;5;124m\"\u001b[39m\u001b[38;5;241m.\u001b[39mformat(\n\u001b[1;32m    834\u001b[0m             n_splits, n_candidates, n_candidates \u001b[38;5;241m*\u001b[39m n_splits\n\u001b[1;32m    835\u001b[0m         )\n\u001b[1;32m    836\u001b[0m     )\n\u001b[0;32m--> 838\u001b[0m out \u001b[38;5;241m=\u001b[39m \u001b[43mparallel\u001b[49m\u001b[43m(\u001b[49m\n\u001b[1;32m    839\u001b[0m \u001b[43m    \u001b[49m\u001b[43mdelayed\u001b[49m\u001b[43m(\u001b[49m\u001b[43m_fit_and_score\u001b[49m\u001b[43m)\u001b[49m\u001b[43m(\u001b[49m\n\u001b[1;32m    840\u001b[0m \u001b[43m        \u001b[49m\u001b[43mclone\u001b[49m\u001b[43m(\u001b[49m\u001b[43mbase_estimator\u001b[49m\u001b[43m)\u001b[49m\u001b[43m,\u001b[49m\n\u001b[1;32m    841\u001b[0m \u001b[43m        \u001b[49m\u001b[43mX\u001b[49m\u001b[43m,\u001b[49m\n\u001b[1;32m    842\u001b[0m \u001b[43m        \u001b[49m\u001b[43my\u001b[49m\u001b[43m,\u001b[49m\n\u001b[1;32m    843\u001b[0m \u001b[43m        \u001b[49m\u001b[43mtrain\u001b[49m\u001b[38;5;241;43m=\u001b[39;49m\u001b[43mtrain\u001b[49m\u001b[43m,\u001b[49m\n\u001b[1;32m    844\u001b[0m \u001b[43m        \u001b[49m\u001b[43mtest\u001b[49m\u001b[38;5;241;43m=\u001b[39;49m\u001b[43mtest\u001b[49m\u001b[43m,\u001b[49m\n\u001b[1;32m    845\u001b[0m \u001b[43m        \u001b[49m\u001b[43mparameters\u001b[49m\u001b[38;5;241;43m=\u001b[39;49m\u001b[43mparameters\u001b[49m\u001b[43m,\u001b[49m\n\u001b[1;32m    846\u001b[0m \u001b[43m        \u001b[49m\u001b[43msplit_progress\u001b[49m\u001b[38;5;241;43m=\u001b[39;49m\u001b[43m(\u001b[49m\u001b[43msplit_idx\u001b[49m\u001b[43m,\u001b[49m\u001b[43m \u001b[49m\u001b[43mn_splits\u001b[49m\u001b[43m)\u001b[49m\u001b[43m,\u001b[49m\n\u001b[1;32m    847\u001b[0m \u001b[43m        \u001b[49m\u001b[43mcandidate_progress\u001b[49m\u001b[38;5;241;43m=\u001b[39;49m\u001b[43m(\u001b[49m\u001b[43mcand_idx\u001b[49m\u001b[43m,\u001b[49m\u001b[43m \u001b[49m\u001b[43mn_candidates\u001b[49m\u001b[43m)\u001b[49m\u001b[43m,\u001b[49m\n\u001b[1;32m    848\u001b[0m \u001b[43m        \u001b[49m\u001b[38;5;241;43m*\u001b[39;49m\u001b[38;5;241;43m*\u001b[39;49m\u001b[43mfit_and_score_kwargs\u001b[49m\u001b[43m,\u001b[49m\n\u001b[1;32m    849\u001b[0m \u001b[43m    \u001b[49m\u001b[43m)\u001b[49m\n\u001b[1;32m    850\u001b[0m \u001b[43m    \u001b[49m\u001b[38;5;28;43;01mfor\u001b[39;49;00m\u001b[43m \u001b[49m\u001b[43m(\u001b[49m\u001b[43mcand_idx\u001b[49m\u001b[43m,\u001b[49m\u001b[43m \u001b[49m\u001b[43mparameters\u001b[49m\u001b[43m)\u001b[49m\u001b[43m,\u001b[49m\u001b[43m \u001b[49m\u001b[43m(\u001b[49m\u001b[43msplit_idx\u001b[49m\u001b[43m,\u001b[49m\u001b[43m \u001b[49m\u001b[43m(\u001b[49m\u001b[43mtrain\u001b[49m\u001b[43m,\u001b[49m\u001b[43m \u001b[49m\u001b[43mtest\u001b[49m\u001b[43m)\u001b[49m\u001b[43m)\u001b[49m\u001b[43m \u001b[49m\u001b[38;5;129;43;01min\u001b[39;49;00m\u001b[43m \u001b[49m\u001b[43mproduct\u001b[49m\u001b[43m(\u001b[49m\n\u001b[1;32m    851\u001b[0m \u001b[43m        \u001b[49m\u001b[38;5;28;43menumerate\u001b[39;49m\u001b[43m(\u001b[49m\u001b[43mcandidate_params\u001b[49m\u001b[43m)\u001b[49m\u001b[43m,\u001b[49m\u001b[43m \u001b[49m\u001b[38;5;28;43menumerate\u001b[39;49m\u001b[43m(\u001b[49m\u001b[43mcv\u001b[49m\u001b[38;5;241;43m.\u001b[39;49m\u001b[43msplit\u001b[49m\u001b[43m(\u001b[49m\u001b[43mX\u001b[49m\u001b[43m,\u001b[49m\u001b[43m \u001b[49m\u001b[43my\u001b[49m\u001b[43m,\u001b[49m\u001b[43m \u001b[49m\u001b[43mgroups\u001b[49m\u001b[43m)\u001b[49m\u001b[43m)\u001b[49m\n\u001b[1;32m    852\u001b[0m \u001b[43m    \u001b[49m\u001b[43m)\u001b[49m\n\u001b[1;32m    853\u001b[0m \u001b[43m\u001b[49m\u001b[43m)\u001b[49m\n\u001b[1;32m    855\u001b[0m \u001b[38;5;28;01mif\u001b[39;00m \u001b[38;5;28mlen\u001b[39m(out) \u001b[38;5;241m<\u001b[39m \u001b[38;5;241m1\u001b[39m:\n\u001b[1;32m    856\u001b[0m     \u001b[38;5;28;01mraise\u001b[39;00m \u001b[38;5;167;01mValueError\u001b[39;00m(\n\u001b[1;32m    857\u001b[0m         \u001b[38;5;124m\"\u001b[39m\u001b[38;5;124mNo fits were performed. \u001b[39m\u001b[38;5;124m\"\u001b[39m\n\u001b[1;32m    858\u001b[0m         \u001b[38;5;124m\"\u001b[39m\u001b[38;5;124mWas the CV iterator empty? \u001b[39m\u001b[38;5;124m\"\u001b[39m\n\u001b[1;32m    859\u001b[0m         \u001b[38;5;124m\"\u001b[39m\u001b[38;5;124mWere there no candidates?\u001b[39m\u001b[38;5;124m\"\u001b[39m\n\u001b[1;32m    860\u001b[0m     )\n",
      "File \u001b[0;32m~/pyenvs/tennis/lib/python3.8/site-packages/joblib/parallel.py:1056\u001b[0m, in \u001b[0;36mParallel.__call__\u001b[0;34m(self, iterable)\u001b[0m\n\u001b[1;32m   1053\u001b[0m     \u001b[38;5;28mself\u001b[39m\u001b[38;5;241m.\u001b[39m_iterating \u001b[38;5;241m=\u001b[39m \u001b[38;5;28;01mFalse\u001b[39;00m\n\u001b[1;32m   1055\u001b[0m \u001b[38;5;28;01mwith\u001b[39;00m \u001b[38;5;28mself\u001b[39m\u001b[38;5;241m.\u001b[39m_backend\u001b[38;5;241m.\u001b[39mretrieval_context():\n\u001b[0;32m-> 1056\u001b[0m     \u001b[38;5;28;43mself\u001b[39;49m\u001b[38;5;241;43m.\u001b[39;49m\u001b[43mretrieve\u001b[49m\u001b[43m(\u001b[49m\u001b[43m)\u001b[49m\n\u001b[1;32m   1057\u001b[0m \u001b[38;5;66;03m# Make sure that we get a last message telling us we are done\u001b[39;00m\n\u001b[1;32m   1058\u001b[0m elapsed_time \u001b[38;5;241m=\u001b[39m time\u001b[38;5;241m.\u001b[39mtime() \u001b[38;5;241m-\u001b[39m \u001b[38;5;28mself\u001b[39m\u001b[38;5;241m.\u001b[39m_start_time\n",
      "File \u001b[0;32m~/pyenvs/tennis/lib/python3.8/site-packages/joblib/parallel.py:935\u001b[0m, in \u001b[0;36mParallel.retrieve\u001b[0;34m(self)\u001b[0m\n\u001b[1;32m    933\u001b[0m \u001b[38;5;28;01mtry\u001b[39;00m:\n\u001b[1;32m    934\u001b[0m     \u001b[38;5;28;01mif\u001b[39;00m \u001b[38;5;28mgetattr\u001b[39m(\u001b[38;5;28mself\u001b[39m\u001b[38;5;241m.\u001b[39m_backend, \u001b[38;5;124m'\u001b[39m\u001b[38;5;124msupports_timeout\u001b[39m\u001b[38;5;124m'\u001b[39m, \u001b[38;5;28;01mFalse\u001b[39;00m):\n\u001b[0;32m--> 935\u001b[0m         \u001b[38;5;28mself\u001b[39m\u001b[38;5;241m.\u001b[39m_output\u001b[38;5;241m.\u001b[39mextend(\u001b[43mjob\u001b[49m\u001b[38;5;241;43m.\u001b[39;49m\u001b[43mget\u001b[49m\u001b[43m(\u001b[49m\u001b[43mtimeout\u001b[49m\u001b[38;5;241;43m=\u001b[39;49m\u001b[38;5;28;43mself\u001b[39;49m\u001b[38;5;241;43m.\u001b[39;49m\u001b[43mtimeout\u001b[49m\u001b[43m)\u001b[49m)\n\u001b[1;32m    936\u001b[0m     \u001b[38;5;28;01melse\u001b[39;00m:\n\u001b[1;32m    937\u001b[0m         \u001b[38;5;28mself\u001b[39m\u001b[38;5;241m.\u001b[39m_output\u001b[38;5;241m.\u001b[39mextend(job\u001b[38;5;241m.\u001b[39mget())\n",
      "File \u001b[0;32m~/pyenvs/tennis/lib/python3.8/site-packages/joblib/_parallel_backends.py:542\u001b[0m, in \u001b[0;36mLokyBackend.wrap_future_result\u001b[0;34m(future, timeout)\u001b[0m\n\u001b[1;32m    539\u001b[0m \u001b[38;5;124;03m\"\"\"Wrapper for Future.result to implement the same behaviour as\u001b[39;00m\n\u001b[1;32m    540\u001b[0m \u001b[38;5;124;03mAsyncResults.get from multiprocessing.\"\"\"\u001b[39;00m\n\u001b[1;32m    541\u001b[0m \u001b[38;5;28;01mtry\u001b[39;00m:\n\u001b[0;32m--> 542\u001b[0m     \u001b[38;5;28;01mreturn\u001b[39;00m \u001b[43mfuture\u001b[49m\u001b[38;5;241;43m.\u001b[39;49m\u001b[43mresult\u001b[49m\u001b[43m(\u001b[49m\u001b[43mtimeout\u001b[49m\u001b[38;5;241;43m=\u001b[39;49m\u001b[43mtimeout\u001b[49m\u001b[43m)\u001b[49m\n\u001b[1;32m    543\u001b[0m \u001b[38;5;28;01mexcept\u001b[39;00m CfTimeoutError \u001b[38;5;28;01mas\u001b[39;00m e:\n\u001b[1;32m    544\u001b[0m     \u001b[38;5;28;01mraise\u001b[39;00m \u001b[38;5;167;01mTimeoutError\u001b[39;00m \u001b[38;5;28;01mfrom\u001b[39;00m \u001b[38;5;21;01me\u001b[39;00m\n",
      "File \u001b[0;32m/usr/lib/python3.8/concurrent/futures/_base.py:439\u001b[0m, in \u001b[0;36mFuture.result\u001b[0;34m(self, timeout)\u001b[0m\n\u001b[1;32m    436\u001b[0m \u001b[38;5;28;01melif\u001b[39;00m \u001b[38;5;28mself\u001b[39m\u001b[38;5;241m.\u001b[39m_state \u001b[38;5;241m==\u001b[39m FINISHED:\n\u001b[1;32m    437\u001b[0m     \u001b[38;5;28;01mreturn\u001b[39;00m \u001b[38;5;28mself\u001b[39m\u001b[38;5;241m.\u001b[39m__get_result()\n\u001b[0;32m--> 439\u001b[0m \u001b[38;5;28;43mself\u001b[39;49m\u001b[38;5;241;43m.\u001b[39;49m\u001b[43m_condition\u001b[49m\u001b[38;5;241;43m.\u001b[39;49m\u001b[43mwait\u001b[49m\u001b[43m(\u001b[49m\u001b[43mtimeout\u001b[49m\u001b[43m)\u001b[49m\n\u001b[1;32m    441\u001b[0m \u001b[38;5;28;01mif\u001b[39;00m \u001b[38;5;28mself\u001b[39m\u001b[38;5;241m.\u001b[39m_state \u001b[38;5;129;01min\u001b[39;00m [CANCELLED, CANCELLED_AND_NOTIFIED]:\n\u001b[1;32m    442\u001b[0m     \u001b[38;5;28;01mraise\u001b[39;00m CancelledError()\n",
      "File \u001b[0;32m/usr/lib/python3.8/threading.py:302\u001b[0m, in \u001b[0;36mCondition.wait\u001b[0;34m(self, timeout)\u001b[0m\n\u001b[1;32m    300\u001b[0m \u001b[38;5;28;01mtry\u001b[39;00m:    \u001b[38;5;66;03m# restore state no matter what (e.g., KeyboardInterrupt)\u001b[39;00m\n\u001b[1;32m    301\u001b[0m     \u001b[38;5;28;01mif\u001b[39;00m timeout \u001b[38;5;129;01mis\u001b[39;00m \u001b[38;5;28;01mNone\u001b[39;00m:\n\u001b[0;32m--> 302\u001b[0m         \u001b[43mwaiter\u001b[49m\u001b[38;5;241;43m.\u001b[39;49m\u001b[43macquire\u001b[49m\u001b[43m(\u001b[49m\u001b[43m)\u001b[49m\n\u001b[1;32m    303\u001b[0m         gotit \u001b[38;5;241m=\u001b[39m \u001b[38;5;28;01mTrue\u001b[39;00m\n\u001b[1;32m    304\u001b[0m     \u001b[38;5;28;01melse\u001b[39;00m:\n",
      "\u001b[0;31mKeyboardInterrupt\u001b[0m: "
     ]
    }
   ],
   "source": [
    "from scipy import stats\n",
    "from sklearn.model_selection import KFold\n",
    "from sklearn.model_selection import RandomizedSearchCV\n",
    "import xgboost as xgb\n",
    "\n",
    "clf_xgb = xgb.XGBClassifier(objective = 'binary:logistic')\n",
    "param_dist = {'n_estimators': stats.randint(150, 1000),\n",
    "              'learning_rate': stats.uniform(0.01, 0.59),\n",
    "              'subsample': stats.uniform(0.3, 0.6),\n",
    "              'max_depth': [3, 4, 5, 6, 7, 8, 9],\n",
    "              'colsample_bytree': stats.uniform(0.5, 0.4),\n",
    "              'min_child_weight': [1, 2, 3, 4]\n",
    "             }\n",
    "\n",
    "numFolds = 5\n",
    "kfold_5 = KFold(n_splits=numFolds)\n",
    "\n",
    "clf = RandomizedSearchCV(clf_xgb, \n",
    "                         param_distributions = param_dist,\n",
    "                         cv = kfold_5,  \n",
    "                         n_iter = 5, # you want 5 here not 25 if I understand you correctly \n",
    "                         scoring = 'roc_auc', \n",
    "                         error_score = 0, \n",
    "                         verbose = 3, \n",
    "                         n_jobs = -1)\n",
    "\n",
    "clf.fit(X_train_scaled, y_train)\n"
   ]
  },
  {
   "cell_type": "code",
   "execution_count": 113,
   "id": "681c3aaf-bb4a-4312-baeb-f16a74bb1f0a",
   "metadata": {},
   "outputs": [
    {
     "ename": "NameError",
     "evalue": "name 'clf' is not defined",
     "output_type": "error",
     "traceback": [
      "\u001b[0;31m---------------------------------------------------------------------------\u001b[0m",
      "\u001b[0;31mNameError\u001b[0m                                 Traceback (most recent call last)",
      "Input \u001b[0;32mIn [113]\u001b[0m, in \u001b[0;36m<cell line: 1>\u001b[0;34m()\u001b[0m\n\u001b[0;32m----> 1\u001b[0m y_pred \u001b[38;5;241m=\u001b[39m \u001b[43mclf\u001b[49m\u001b[38;5;241m.\u001b[39mpredict(X_test_scaled)\n\u001b[1;32m      2\u001b[0m \u001b[38;5;28mprint\u001b[39m(classification_report(y_test, y_pred))\n",
      "\u001b[0;31mNameError\u001b[0m: name 'clf' is not defined"
     ]
    }
   ],
   "source": [
    "y_pred = clf.predict(X_test_scaled)\n",
    "print(classification_report(y_test, y_pred))"
   ]
  },
  {
   "cell_type": "markdown",
   "id": "db6cd3d9-9bd9-4e5a-9f59-205a3f34c4a9",
   "metadata": {},
   "source": [
    "### Try so autoML frameworks"
   ]
  },
  {
   "cell_type": "code",
   "execution_count": 3,
   "id": "850f1d0c-75b6-41e4-a5b5-8729a4d26162",
   "metadata": {},
   "outputs": [],
   "source": [
    "# ### not working on jupyter\n",
    "# import autosklearn.classification\n",
    "# cls = autosklearn.classificationcls.fit(X_train_scaled, y_train)\n",
    "# y_pred = cls.predict(X_test_scaled)\n",
    "# print(classification_report(y_test, y_pred))\n",
    "\n",
    "### not working on jupyter"
   ]
  },
  {
   "cell_type": "code",
   "execution_count": 115,
   "id": "8684bcda-d3cb-4b4d-98e1-5d711baedf75",
   "metadata": {},
   "outputs": [
    {
     "name": "stdout",
     "output_type": "stream",
     "text": [
      "              precision    recall  f1-score   support\n",
      "\n",
      "         0.0       0.78      1.00      0.88      3210\n",
      "         1.0       0.00      0.00      0.00       881\n",
      "\n",
      "    accuracy                           0.78      4091\n",
      "   macro avg       0.39      0.50      0.44      4091\n",
      "weighted avg       0.62      0.78      0.69      4091\n",
      "\n"
     ]
    },
    {
     "name": "stderr",
     "output_type": "stream",
     "text": [
      "/home/javier/pyenvs/tennis/lib/python3.8/site-packages/sklearn/metrics/_classification.py:1318: UndefinedMetricWarning: Precision and F-score are ill-defined and being set to 0.0 in labels with no predicted samples. Use `zero_division` parameter to control this behavior.\n",
      "  _warn_prf(average, modifier, msg_start, len(result))\n",
      "/home/javier/pyenvs/tennis/lib/python3.8/site-packages/sklearn/metrics/_classification.py:1318: UndefinedMetricWarning: Precision and F-score are ill-defined and being set to 0.0 in labels with no predicted samples. Use `zero_division` parameter to control this behavior.\n",
      "  _warn_prf(average, modifier, msg_start, len(result))\n",
      "/home/javier/pyenvs/tennis/lib/python3.8/site-packages/sklearn/metrics/_classification.py:1318: UndefinedMetricWarning: Precision and F-score are ill-defined and being set to 0.0 in labels with no predicted samples. Use `zero_division` parameter to control this behavior.\n",
      "  _warn_prf(average, modifier, msg_start, len(result))\n"
     ]
    }
   ],
   "source": [
    "from sklearn.ensemble import RandomForestClassifier\n",
    "from sklearn.datasets import make_classification\n",
    "\n",
    "model = RandomForestClassifier(max_depth=2, random_state=0)\n",
    "model.fit(X_train_scaled, Ytrain)   # X_train_scaled, y_train\n",
    "y_pred = model.predict(X_test_scaled)\n",
    "print(classification_report(y_test, y_pred))"
   ]
  },
  {
   "cell_type": "code",
   "execution_count": 117,
   "id": "69860cd8-398a-42f7-a217-5c7e5e266b61",
   "metadata": {},
   "outputs": [
    {
     "name": "stdout",
     "output_type": "stream",
     "text": [
      "[0. 0. 0. ... 0. 0. 0.]\n",
      "0.7841603519921779\n",
      "              precision    recall  f1-score   support\n",
      "\n",
      "         0.0       0.78      1.00      0.88      3210\n",
      "         1.0       0.38      0.00      0.01       881\n",
      "\n",
      "    accuracy                           0.78      4091\n",
      "   macro avg       0.58      0.50      0.44      4091\n",
      "weighted avg       0.70      0.78      0.69      4091\n",
      "\n"
     ]
    }
   ],
   "source": [
    "\"\"\"\n",
    "X_train_scaled, y_train\n",
    "X_test_scaled, y_test\n",
    "\"\"\"\n",
    "\n",
    "import lightgbm as lgb\n",
    "from lightgbm import LGBMClassifier\n",
    " \n",
    "# Skipping Data Exploration\n",
    "# Dummification of Diagnosis Column (1-Benign, 0-Malignant Cancer)\n",
    "# data['diagnosis']= pd.get_dummies(data['diagnosis'])\n",
    " \n",
    "# Creating an object for model and fitting it on training data set\n",
    "model = LGBMClassifier()\n",
    "model.fit(X_train_scaled, Ytrain)\n",
    " \n",
    "# Predicting the Target variable\n",
    "pred = model.predict(X_test_scaled)\n",
    "print(pred)\n",
    "accuracy = model.score(X_test_scaled, y_test)\n",
    "print(accuracy)\n",
    "\n",
    "y_pred = model.predict(X_test_scaled)\n",
    "print(classification_report(y_test, y_pred))"
   ]
  },
  {
   "cell_type": "markdown",
   "id": "a426e28d-e8ca-497d-9633-3b1021b92872",
   "metadata": {},
   "source": [
    "### TODO:\n",
    "1. Salvar datasets! Ace, 1 golpe o más, 2 o más golpes\n",
    "2. utilizar Autogluon para entrenar 3 modelos diferentes\n",
    "3. Profundizar --> class imbalance --> 1. data resampling, 2. data augmentation, 3. Wegihted Loss (focal Loss!)"
   ]
  }
 ],
 "metadata": {
  "kernelspec": {
   "display_name": "Python 3 (ipykernel)",
   "language": "python",
   "name": "python3"
  },
  "language_info": {
   "codemirror_mode": {
    "name": "ipython",
    "version": 3
   },
   "file_extension": ".py",
   "mimetype": "text/x-python",
   "name": "python",
   "nbconvert_exporter": "python",
   "pygments_lexer": "ipython3",
   "version": "3.8.10"
  }
 },
 "nbformat": 4,
 "nbformat_minor": 5
}
