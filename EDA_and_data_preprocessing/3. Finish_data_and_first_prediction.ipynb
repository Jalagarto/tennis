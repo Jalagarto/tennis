{
 "cells": [
  {
   "cell_type": "code",
   "execution_count": 1,
   "id": "026b80f2-bd9b-4c65-b387-1856e4be002d",
   "metadata": {},
   "outputs": [],
   "source": [
    "import pandas as pd\n",
    "import matplotlib.pyplot as plt\n",
    "import seaborn as sn\n",
    "# pd.set_option('max_columns', None)  # show all columns\n",
    "from sklearn.preprocessing import OneHotEncoder\n",
    "#creating instance of one-hot-encoder\n",
    "encoder = OneHotEncoder(handle_unknown='ignore')"
   ]
  },
  {
   "cell_type": "code",
   "execution_count": 2,
   "id": "cbca3c5f-46b8-422b-8dc4-a4945f617f4a",
   "metadata": {},
   "outputs": [
    {
     "ename": "FileNotFoundError",
     "evalue": "[Errno 2] No such file or directory: '../BJK_corregido.xlsx'",
     "output_type": "error",
     "traceback": [
      "\u001b[0;31m---------------------------------------------------------------------------\u001b[0m",
      "\u001b[0;31mFileNotFoundError\u001b[0m                         Traceback (most recent call last)",
      "Input \u001b[0;32mIn [2]\u001b[0m, in \u001b[0;36m<cell line: 1>\u001b[0;34m()\u001b[0m\n\u001b[0;32m----> 1\u001b[0m df \u001b[38;5;241m=\u001b[39m \u001b[43mpd\u001b[49m\u001b[38;5;241;43m.\u001b[39;49m\u001b[43mread_excel\u001b[49m\u001b[43m(\u001b[49m\u001b[38;5;124;43m'\u001b[39;49m\u001b[38;5;124;43m../BJK_corregido.xlsx\u001b[39;49m\u001b[38;5;124;43m'\u001b[39;49m\u001b[43m,\u001b[49m\u001b[43m \u001b[49m\u001b[43mengine\u001b[49m\u001b[38;5;241;43m=\u001b[39;49m\u001b[38;5;124;43m'\u001b[39;49m\u001b[38;5;124;43mopenpyxl\u001b[39;49m\u001b[38;5;124;43m'\u001b[39;49m\u001b[43m)\u001b[49m\n",
      "File \u001b[0;32m~/pyenvs/tennis/lib/python3.8/site-packages/pandas/util/_decorators.py:311\u001b[0m, in \u001b[0;36mdeprecate_nonkeyword_arguments.<locals>.decorate.<locals>.wrapper\u001b[0;34m(*args, **kwargs)\u001b[0m\n\u001b[1;32m    305\u001b[0m \u001b[38;5;28;01mif\u001b[39;00m \u001b[38;5;28mlen\u001b[39m(args) \u001b[38;5;241m>\u001b[39m num_allow_args:\n\u001b[1;32m    306\u001b[0m     warnings\u001b[38;5;241m.\u001b[39mwarn(\n\u001b[1;32m    307\u001b[0m         msg\u001b[38;5;241m.\u001b[39mformat(arguments\u001b[38;5;241m=\u001b[39marguments),\n\u001b[1;32m    308\u001b[0m         \u001b[38;5;167;01mFutureWarning\u001b[39;00m,\n\u001b[1;32m    309\u001b[0m         stacklevel\u001b[38;5;241m=\u001b[39mstacklevel,\n\u001b[1;32m    310\u001b[0m     )\n\u001b[0;32m--> 311\u001b[0m \u001b[38;5;28;01mreturn\u001b[39;00m \u001b[43mfunc\u001b[49m\u001b[43m(\u001b[49m\u001b[38;5;241;43m*\u001b[39;49m\u001b[43margs\u001b[49m\u001b[43m,\u001b[49m\u001b[43m \u001b[49m\u001b[38;5;241;43m*\u001b[39;49m\u001b[38;5;241;43m*\u001b[39;49m\u001b[43mkwargs\u001b[49m\u001b[43m)\u001b[49m\n",
      "File \u001b[0;32m~/pyenvs/tennis/lib/python3.8/site-packages/pandas/io/excel/_base.py:364\u001b[0m, in \u001b[0;36mread_excel\u001b[0;34m(io, sheet_name, header, names, index_col, usecols, squeeze, dtype, engine, converters, true_values, false_values, skiprows, nrows, na_values, keep_default_na, na_filter, verbose, parse_dates, date_parser, thousands, comment, skipfooter, convert_float, mangle_dupe_cols, storage_options)\u001b[0m\n\u001b[1;32m    362\u001b[0m \u001b[38;5;28;01mif\u001b[39;00m \u001b[38;5;129;01mnot\u001b[39;00m \u001b[38;5;28misinstance\u001b[39m(io, ExcelFile):\n\u001b[1;32m    363\u001b[0m     should_close \u001b[38;5;241m=\u001b[39m \u001b[38;5;28;01mTrue\u001b[39;00m\n\u001b[0;32m--> 364\u001b[0m     io \u001b[38;5;241m=\u001b[39m \u001b[43mExcelFile\u001b[49m\u001b[43m(\u001b[49m\u001b[43mio\u001b[49m\u001b[43m,\u001b[49m\u001b[43m \u001b[49m\u001b[43mstorage_options\u001b[49m\u001b[38;5;241;43m=\u001b[39;49m\u001b[43mstorage_options\u001b[49m\u001b[43m,\u001b[49m\u001b[43m \u001b[49m\u001b[43mengine\u001b[49m\u001b[38;5;241;43m=\u001b[39;49m\u001b[43mengine\u001b[49m\u001b[43m)\u001b[49m\n\u001b[1;32m    365\u001b[0m \u001b[38;5;28;01melif\u001b[39;00m engine \u001b[38;5;129;01mand\u001b[39;00m engine \u001b[38;5;241m!=\u001b[39m io\u001b[38;5;241m.\u001b[39mengine:\n\u001b[1;32m    366\u001b[0m     \u001b[38;5;28;01mraise\u001b[39;00m \u001b[38;5;167;01mValueError\u001b[39;00m(\n\u001b[1;32m    367\u001b[0m         \u001b[38;5;124m\"\u001b[39m\u001b[38;5;124mEngine should not be specified when passing \u001b[39m\u001b[38;5;124m\"\u001b[39m\n\u001b[1;32m    368\u001b[0m         \u001b[38;5;124m\"\u001b[39m\u001b[38;5;124man ExcelFile - ExcelFile already has the engine set\u001b[39m\u001b[38;5;124m\"\u001b[39m\n\u001b[1;32m    369\u001b[0m     )\n",
      "File \u001b[0;32m~/pyenvs/tennis/lib/python3.8/site-packages/pandas/io/excel/_base.py:1233\u001b[0m, in \u001b[0;36mExcelFile.__init__\u001b[0;34m(self, path_or_buffer, engine, storage_options)\u001b[0m\n\u001b[1;32m   1230\u001b[0m \u001b[38;5;28mself\u001b[39m\u001b[38;5;241m.\u001b[39mengine \u001b[38;5;241m=\u001b[39m engine\n\u001b[1;32m   1231\u001b[0m \u001b[38;5;28mself\u001b[39m\u001b[38;5;241m.\u001b[39mstorage_options \u001b[38;5;241m=\u001b[39m storage_options\n\u001b[0;32m-> 1233\u001b[0m \u001b[38;5;28mself\u001b[39m\u001b[38;5;241m.\u001b[39m_reader \u001b[38;5;241m=\u001b[39m \u001b[38;5;28;43mself\u001b[39;49m\u001b[38;5;241;43m.\u001b[39;49m\u001b[43m_engines\u001b[49m\u001b[43m[\u001b[49m\u001b[43mengine\u001b[49m\u001b[43m]\u001b[49m\u001b[43m(\u001b[49m\u001b[38;5;28;43mself\u001b[39;49m\u001b[38;5;241;43m.\u001b[39;49m\u001b[43m_io\u001b[49m\u001b[43m,\u001b[49m\u001b[43m \u001b[49m\u001b[43mstorage_options\u001b[49m\u001b[38;5;241;43m=\u001b[39;49m\u001b[43mstorage_options\u001b[49m\u001b[43m)\u001b[49m\n",
      "File \u001b[0;32m~/pyenvs/tennis/lib/python3.8/site-packages/pandas/io/excel/_openpyxl.py:522\u001b[0m, in \u001b[0;36mOpenpyxlReader.__init__\u001b[0;34m(self, filepath_or_buffer, storage_options)\u001b[0m\n\u001b[1;32m    511\u001b[0m \u001b[38;5;124;03m\"\"\"\u001b[39;00m\n\u001b[1;32m    512\u001b[0m \u001b[38;5;124;03mReader using openpyxl engine.\u001b[39;00m\n\u001b[1;32m    513\u001b[0m \n\u001b[0;32m   (...)\u001b[0m\n\u001b[1;32m    519\u001b[0m \u001b[38;5;124;03m    passed to fsspec for appropriate URLs (see ``_get_filepath_or_buffer``)\u001b[39;00m\n\u001b[1;32m    520\u001b[0m \u001b[38;5;124;03m\"\"\"\u001b[39;00m\n\u001b[1;32m    521\u001b[0m import_optional_dependency(\u001b[38;5;124m\"\u001b[39m\u001b[38;5;124mopenpyxl\u001b[39m\u001b[38;5;124m\"\u001b[39m)\n\u001b[0;32m--> 522\u001b[0m \u001b[38;5;28;43msuper\u001b[39;49m\u001b[43m(\u001b[49m\u001b[43m)\u001b[49m\u001b[38;5;241;43m.\u001b[39;49m\u001b[38;5;21;43m__init__\u001b[39;49m\u001b[43m(\u001b[49m\u001b[43mfilepath_or_buffer\u001b[49m\u001b[43m,\u001b[49m\u001b[43m \u001b[49m\u001b[43mstorage_options\u001b[49m\u001b[38;5;241;43m=\u001b[39;49m\u001b[43mstorage_options\u001b[49m\u001b[43m)\u001b[49m\n",
      "File \u001b[0;32m~/pyenvs/tennis/lib/python3.8/site-packages/pandas/io/excel/_base.py:410\u001b[0m, in \u001b[0;36mBaseExcelReader.__init__\u001b[0;34m(self, filepath_or_buffer, storage_options)\u001b[0m\n\u001b[1;32m    406\u001b[0m \u001b[38;5;28mself\u001b[39m\u001b[38;5;241m.\u001b[39mhandles \u001b[38;5;241m=\u001b[39m IOHandles(\n\u001b[1;32m    407\u001b[0m     handle\u001b[38;5;241m=\u001b[39mfilepath_or_buffer, compression\u001b[38;5;241m=\u001b[39m{\u001b[38;5;124m\"\u001b[39m\u001b[38;5;124mmethod\u001b[39m\u001b[38;5;124m\"\u001b[39m: \u001b[38;5;28;01mNone\u001b[39;00m}\n\u001b[1;32m    408\u001b[0m )\n\u001b[1;32m    409\u001b[0m \u001b[38;5;28;01mif\u001b[39;00m \u001b[38;5;129;01mnot\u001b[39;00m \u001b[38;5;28misinstance\u001b[39m(filepath_or_buffer, (ExcelFile, \u001b[38;5;28mself\u001b[39m\u001b[38;5;241m.\u001b[39m_workbook_class)):\n\u001b[0;32m--> 410\u001b[0m     \u001b[38;5;28mself\u001b[39m\u001b[38;5;241m.\u001b[39mhandles \u001b[38;5;241m=\u001b[39m \u001b[43mget_handle\u001b[49m\u001b[43m(\u001b[49m\n\u001b[1;32m    411\u001b[0m \u001b[43m        \u001b[49m\u001b[43mfilepath_or_buffer\u001b[49m\u001b[43m,\u001b[49m\u001b[43m \u001b[49m\u001b[38;5;124;43m\"\u001b[39;49m\u001b[38;5;124;43mrb\u001b[39;49m\u001b[38;5;124;43m\"\u001b[39;49m\u001b[43m,\u001b[49m\u001b[43m \u001b[49m\u001b[43mstorage_options\u001b[49m\u001b[38;5;241;43m=\u001b[39;49m\u001b[43mstorage_options\u001b[49m\u001b[43m,\u001b[49m\u001b[43m \u001b[49m\u001b[43mis_text\u001b[49m\u001b[38;5;241;43m=\u001b[39;49m\u001b[38;5;28;43;01mFalse\u001b[39;49;00m\n\u001b[1;32m    412\u001b[0m \u001b[43m    \u001b[49m\u001b[43m)\u001b[49m\n\u001b[1;32m    414\u001b[0m \u001b[38;5;28;01mif\u001b[39;00m \u001b[38;5;28misinstance\u001b[39m(\u001b[38;5;28mself\u001b[39m\u001b[38;5;241m.\u001b[39mhandles\u001b[38;5;241m.\u001b[39mhandle, \u001b[38;5;28mself\u001b[39m\u001b[38;5;241m.\u001b[39m_workbook_class):\n\u001b[1;32m    415\u001b[0m     \u001b[38;5;28mself\u001b[39m\u001b[38;5;241m.\u001b[39mbook \u001b[38;5;241m=\u001b[39m \u001b[38;5;28mself\u001b[39m\u001b[38;5;241m.\u001b[39mhandles\u001b[38;5;241m.\u001b[39mhandle\n",
      "File \u001b[0;32m~/pyenvs/tennis/lib/python3.8/site-packages/pandas/io/common.py:711\u001b[0m, in \u001b[0;36mget_handle\u001b[0;34m(path_or_buf, mode, encoding, compression, memory_map, is_text, errors, storage_options)\u001b[0m\n\u001b[1;32m    702\u001b[0m         handle \u001b[38;5;241m=\u001b[39m \u001b[38;5;28mopen\u001b[39m(\n\u001b[1;32m    703\u001b[0m             handle,\n\u001b[1;32m    704\u001b[0m             ioargs\u001b[38;5;241m.\u001b[39mmode,\n\u001b[0;32m   (...)\u001b[0m\n\u001b[1;32m    707\u001b[0m             newline\u001b[38;5;241m=\u001b[39m\u001b[38;5;124m\"\u001b[39m\u001b[38;5;124m\"\u001b[39m,\n\u001b[1;32m    708\u001b[0m         )\n\u001b[1;32m    709\u001b[0m     \u001b[38;5;28;01melse\u001b[39;00m:\n\u001b[1;32m    710\u001b[0m         \u001b[38;5;66;03m# Binary mode\u001b[39;00m\n\u001b[0;32m--> 711\u001b[0m         handle \u001b[38;5;241m=\u001b[39m \u001b[38;5;28;43mopen\u001b[39;49m\u001b[43m(\u001b[49m\u001b[43mhandle\u001b[49m\u001b[43m,\u001b[49m\u001b[43m \u001b[49m\u001b[43mioargs\u001b[49m\u001b[38;5;241;43m.\u001b[39;49m\u001b[43mmode\u001b[49m\u001b[43m)\u001b[49m\n\u001b[1;32m    712\u001b[0m     handles\u001b[38;5;241m.\u001b[39mappend(handle)\n\u001b[1;32m    714\u001b[0m \u001b[38;5;66;03m# Convert BytesIO or file objects passed with an encoding\u001b[39;00m\n",
      "\u001b[0;31mFileNotFoundError\u001b[0m: [Errno 2] No such file or directory: '../BJK_corregido.xlsx'"
     ]
    }
   ],
   "source": [
    "df = pd.read_excel('../BJK_corregido.xlsx', engine='openpyxl')"
   ]
  },
  {
   "cell_type": "code",
   "execution_count": null,
   "id": "f3b14328-7320-4d5c-bc76-eb6dc77cbe30",
   "metadata": {},
   "outputs": [],
   "source": [
    "df_2 = pd.read_excel('../BJK_corregido.xlsx', engine='openpyxl')  # to make changes"
   ]
  },
  {
   "cell_type": "markdown",
   "id": "960d8557-d8d1-4a5c-acb7-6ed5e80ad363",
   "metadata": {},
   "source": [
    "### Prepare data:\n",
    "Discrete vars:  \n",
    "- ```[setNumber, gameNumber, pointNumber, serveNumber, shotCount, efectividad,\n",
    "1º o 2º saque, seve_class, Lado(1:iguales, 0:ventaja), DIRECCIÓN, X1,...]```\n",
    "\n",
    "Discrete vars to delete (only one value) --> no information!  \n",
    "```[Point,```\n",
    "\n",
    "Continuous vars:  \n",
    "- ```v(m/s), v(km/h), timeHIT,Y1, Y1(ABS), Z1(h), timeNET, TimeN-TimeH,\n",
    "timeBounce, TimeB-TimeH,PreVx, PreVy, PreVz, PreV, PostVx, PostVy,\n",
    "PostVz, PostV, Dif. V1-V2, Dif(km/h)```\n",
    "\n",
    "\n",
    "Vars to delete (duplicated or all the same):\n",
    "- ```v(km/h), Dif. (km/h), Point,```"
   ]
  },
  {
   "cell_type": "code",
   "execution_count": 4,
   "id": "7adc7942-8015-4d22-bc57-ecce779ba28a",
   "metadata": {},
   "outputs": [
    {
     "name": "stdout",
     "output_type": "stream",
     "text": [
      "25076 / 29193\n"
     ]
    }
   ],
   "source": [
    "### Check how many rows have empty values or NaNs\n",
    "print(df_2.isnull().sum().sum(), '/', len(df_2))  ### too many, we can't just delete rows with empty values --> interpolate"
   ]
  },
  {
   "cell_type": "code",
   "execution_count": 5,
   "id": "22803341-dc2a-470b-839b-96c4637247fe",
   "metadata": {},
   "outputs": [],
   "source": [
    "### interpolate NaN with none-linearities\n",
    "for i in df_2.columns:\n",
    "    df_2[i] = df_2[i].interpolate(method='polynomial', order=2)"
   ]
  },
  {
   "cell_type": "code",
   "execution_count": 6,
   "id": "3d479439-688d-4e06-a1f2-033b155f29bc",
   "metadata": {},
   "outputs": [
    {
     "name": "stdout",
     "output_type": "stream",
     "text": [
      "0 / 29193\n"
     ]
    }
   ],
   "source": [
    "print(df_2.isnull().sum().sum(), '/', len(df_2))"
   ]
  },
  {
   "cell_type": "code",
   "execution_count": 7,
   "id": "08700a6d-8480-4ed5-bb00-0261b20b3d5f",
   "metadata": {},
   "outputs": [
    {
     "data": {
      "text/html": [
       "<div>\n",
       "<style scoped>\n",
       "    .dataframe tbody tr th:only-of-type {\n",
       "        vertical-align: middle;\n",
       "    }\n",
       "\n",
       "    .dataframe tbody tr th {\n",
       "        vertical-align: top;\n",
       "    }\n",
       "\n",
       "    .dataframe thead th {\n",
       "        text-align: right;\n",
       "    }\n",
       "</style>\n",
       "<table border=\"1\" class=\"dataframe\">\n",
       "  <thead>\n",
       "    <tr style=\"text-align: right;\">\n",
       "      <th></th>\n",
       "      <th>Sexo</th>\n",
       "      <th>setNumber</th>\n",
       "      <th>gameNumber</th>\n",
       "      <th>Point</th>\n",
       "      <th>pointNumber</th>\n",
       "      <th>serveNumber</th>\n",
       "      <th>shotCount</th>\n",
       "      <th>Efectividad</th>\n",
       "      <th>1º o 2º saque</th>\n",
       "      <th>Lado(1:Iguales;0:Ventaja)</th>\n",
       "      <th>...</th>\n",
       "      <th>PreVx</th>\n",
       "      <th>PreVy</th>\n",
       "      <th>PreVz</th>\n",
       "      <th>PreV</th>\n",
       "      <th>PostVx</th>\n",
       "      <th>PostVy</th>\n",
       "      <th>PostVz</th>\n",
       "      <th>PostV</th>\n",
       "      <th>Dif. V1-V2</th>\n",
       "      <th>Dif. (km/h)</th>\n",
       "    </tr>\n",
       "  </thead>\n",
       "  <tbody>\n",
       "    <tr>\n",
       "      <th>count</th>\n",
       "      <td>29193.000000</td>\n",
       "      <td>29193.000000</td>\n",
       "      <td>29193.000000</td>\n",
       "      <td>29193.0</td>\n",
       "      <td>29193.000000</td>\n",
       "      <td>29193.000000</td>\n",
       "      <td>29193.000000</td>\n",
       "      <td>29193.000000</td>\n",
       "      <td>29193.000000</td>\n",
       "      <td>29193.000000</td>\n",
       "      <td>...</td>\n",
       "      <td>29193.000000</td>\n",
       "      <td>29193.000000</td>\n",
       "      <td>29193.000000</td>\n",
       "      <td>29193.000000</td>\n",
       "      <td>29193.000000</td>\n",
       "      <td>29193.000000</td>\n",
       "      <td>29193.000000</td>\n",
       "      <td>29193.000000</td>\n",
       "      <td>29193.000000</td>\n",
       "      <td>29193.000000</td>\n",
       "    </tr>\n",
       "    <tr>\n",
       "      <th>mean</th>\n",
       "      <td>1.259583</td>\n",
       "      <td>2.311479</td>\n",
       "      <td>6.132806</td>\n",
       "      <td>1.0</td>\n",
       "      <td>4.141746</td>\n",
       "      <td>1.000171</td>\n",
       "      <td>2.864831</td>\n",
       "      <td>0.290823</td>\n",
       "      <td>1.312609</td>\n",
       "      <td>0.519371</td>\n",
       "      <td>...</td>\n",
       "      <td>-0.035221</td>\n",
       "      <td>0.022399</td>\n",
       "      <td>-7.833186</td>\n",
       "      <td>32.964256</td>\n",
       "      <td>-0.030041</td>\n",
       "      <td>0.014209</td>\n",
       "      <td>7.301335</td>\n",
       "      <td>28.297817</td>\n",
       "      <td>-310.485986</td>\n",
       "      <td>-1117.749549</td>\n",
       "    </tr>\n",
       "    <tr>\n",
       "      <th>std</th>\n",
       "      <td>0.438413</td>\n",
       "      <td>1.183707</td>\n",
       "      <td>4.177688</td>\n",
       "      <td>0.0</td>\n",
       "      <td>2.833941</td>\n",
       "      <td>0.013086</td>\n",
       "      <td>2.453197</td>\n",
       "      <td>0.454150</td>\n",
       "      <td>0.463564</td>\n",
       "      <td>0.499633</td>\n",
       "      <td>...</td>\n",
       "      <td>31.428890</td>\n",
       "      <td>7.680863</td>\n",
       "      <td>0.630473</td>\n",
       "      <td>4.674563</td>\n",
       "      <td>23.382625</td>\n",
       "      <td>5.692349</td>\n",
       "      <td>7.833497</td>\n",
       "      <td>27.015457</td>\n",
       "      <td>663.169262</td>\n",
       "      <td>2387.409344</td>\n",
       "    </tr>\n",
       "    <tr>\n",
       "      <th>min</th>\n",
       "      <td>1.000000</td>\n",
       "      <td>1.000000</td>\n",
       "      <td>1.000000</td>\n",
       "      <td>1.0</td>\n",
       "      <td>1.000000</td>\n",
       "      <td>1.000000</td>\n",
       "      <td>1.000000</td>\n",
       "      <td>0.000000</td>\n",
       "      <td>1.000000</td>\n",
       "      <td>0.000000</td>\n",
       "      <td>...</td>\n",
       "      <td>-45.184000</td>\n",
       "      <td>-15.984000</td>\n",
       "      <td>-10.674000</td>\n",
       "      <td>6.877954</td>\n",
       "      <td>-49.672000</td>\n",
       "      <td>-27.634000</td>\n",
       "      <td>-25.036000</td>\n",
       "      <td>2.655802</td>\n",
       "      <td>-2111.689611</td>\n",
       "      <td>-7602.082598</td>\n",
       "    </tr>\n",
       "    <tr>\n",
       "      <th>25%</th>\n",
       "      <td>1.000000</td>\n",
       "      <td>1.000000</td>\n",
       "      <td>3.000000</td>\n",
       "      <td>1.0</td>\n",
       "      <td>2.000000</td>\n",
       "      <td>1.000000</td>\n",
       "      <td>1.000000</td>\n",
       "      <td>0.000000</td>\n",
       "      <td>1.000000</td>\n",
       "      <td>0.000000</td>\n",
       "      <td>...</td>\n",
       "      <td>-31.097000</td>\n",
       "      <td>-6.954000</td>\n",
       "      <td>-8.275000</td>\n",
       "      <td>29.547628</td>\n",
       "      <td>-22.891000</td>\n",
       "      <td>-5.148000</td>\n",
       "      <td>6.129000</td>\n",
       "      <td>21.530544</td>\n",
       "      <td>6.868554</td>\n",
       "      <td>24.726796</td>\n",
       "    </tr>\n",
       "    <tr>\n",
       "      <th>50%</th>\n",
       "      <td>1.000000</td>\n",
       "      <td>2.000000</td>\n",
       "      <td>6.000000</td>\n",
       "      <td>1.0</td>\n",
       "      <td>4.000000</td>\n",
       "      <td>1.000000</td>\n",
       "      <td>2.000000</td>\n",
       "      <td>0.000000</td>\n",
       "      <td>1.000000</td>\n",
       "      <td>1.000000</td>\n",
       "      <td>...</td>\n",
       "      <td>18.837000</td>\n",
       "      <td>0.179000</td>\n",
       "      <td>-7.884000</td>\n",
       "      <td>33.115124</td>\n",
       "      <td>12.051000</td>\n",
       "      <td>0.059000</td>\n",
       "      <td>6.543000</td>\n",
       "      <td>24.827912</td>\n",
       "      <td>8.280708</td>\n",
       "      <td>29.810547</td>\n",
       "    </tr>\n",
       "    <tr>\n",
       "      <th>75%</th>\n",
       "      <td>2.000000</td>\n",
       "      <td>3.000000</td>\n",
       "      <td>8.000000</td>\n",
       "      <td>1.0</td>\n",
       "      <td>5.000000</td>\n",
       "      <td>1.000000</td>\n",
       "      <td>4.000000</td>\n",
       "      <td>1.000000</td>\n",
       "      <td>2.000000</td>\n",
       "      <td>1.000000</td>\n",
       "      <td>...</td>\n",
       "      <td>31.048000</td>\n",
       "      <td>6.978000</td>\n",
       "      <td>-7.399000</td>\n",
       "      <td>36.529200</td>\n",
       "      <td>22.815000</td>\n",
       "      <td>5.170000</td>\n",
       "      <td>6.915000</td>\n",
       "      <td>28.152357</td>\n",
       "      <td>9.129681</td>\n",
       "      <td>32.866850</td>\n",
       "    </tr>\n",
       "    <tr>\n",
       "      <th>max</th>\n",
       "      <td>2.000000</td>\n",
       "      <td>5.000000</td>\n",
       "      <td>46.000000</td>\n",
       "      <td>1.0</td>\n",
       "      <td>27.000000</td>\n",
       "      <td>2.000000</td>\n",
       "      <td>26.000000</td>\n",
       "      <td>1.000000</td>\n",
       "      <td>2.000000</td>\n",
       "      <td>1.000000</td>\n",
       "      <td>...</td>\n",
       "      <td>46.920000</td>\n",
       "      <td>16.162000</td>\n",
       "      <td>-2.862000</td>\n",
       "      <td>49.014722</td>\n",
       "      <td>47.529000</td>\n",
       "      <td>21.311000</td>\n",
       "      <td>96.834206</td>\n",
       "      <td>329.357567</td>\n",
       "      <td>135.018454</td>\n",
       "      <td>486.066435</td>\n",
       "    </tr>\n",
       "  </tbody>\n",
       "</table>\n",
       "<p>8 rows × 32 columns</p>\n",
       "</div>"
      ],
      "text/plain": [
       "               Sexo     setNumber    gameNumber    Point   pointNumber  \\\n",
       "count  29193.000000  29193.000000  29193.000000  29193.0  29193.000000   \n",
       "mean       1.259583      2.311479      6.132806      1.0      4.141746   \n",
       "std        0.438413      1.183707      4.177688      0.0      2.833941   \n",
       "min        1.000000      1.000000      1.000000      1.0      1.000000   \n",
       "25%        1.000000      1.000000      3.000000      1.0      2.000000   \n",
       "50%        1.000000      2.000000      6.000000      1.0      4.000000   \n",
       "75%        2.000000      3.000000      8.000000      1.0      5.000000   \n",
       "max        2.000000      5.000000     46.000000      1.0     27.000000   \n",
       "\n",
       "        serveNumber     shotCount   Efectividad  1º o 2º saque  \\\n",
       "count  29193.000000  29193.000000  29193.000000   29193.000000   \n",
       "mean       1.000171      2.864831      0.290823       1.312609   \n",
       "std        0.013086      2.453197      0.454150       0.463564   \n",
       "min        1.000000      1.000000      0.000000       1.000000   \n",
       "25%        1.000000      1.000000      0.000000       1.000000   \n",
       "50%        1.000000      2.000000      0.000000       1.000000   \n",
       "75%        1.000000      4.000000      1.000000       2.000000   \n",
       "max        2.000000     26.000000      1.000000       2.000000   \n",
       "\n",
       "       Lado(1:Iguales;0:Ventaja)  ...         PreVx         PreVy  \\\n",
       "count               29193.000000  ...  29193.000000  29193.000000   \n",
       "mean                    0.519371  ...     -0.035221      0.022399   \n",
       "std                     0.499633  ...     31.428890      7.680863   \n",
       "min                     0.000000  ...    -45.184000    -15.984000   \n",
       "25%                     0.000000  ...    -31.097000     -6.954000   \n",
       "50%                     1.000000  ...     18.837000      0.179000   \n",
       "75%                     1.000000  ...     31.048000      6.978000   \n",
       "max                     1.000000  ...     46.920000     16.162000   \n",
       "\n",
       "              PreVz          PreV        PostVx        PostVy        PostVz  \\\n",
       "count  29193.000000  29193.000000  29193.000000  29193.000000  29193.000000   \n",
       "mean      -7.833186     32.964256     -0.030041      0.014209      7.301335   \n",
       "std        0.630473      4.674563     23.382625      5.692349      7.833497   \n",
       "min      -10.674000      6.877954    -49.672000    -27.634000    -25.036000   \n",
       "25%       -8.275000     29.547628    -22.891000     -5.148000      6.129000   \n",
       "50%       -7.884000     33.115124     12.051000      0.059000      6.543000   \n",
       "75%       -7.399000     36.529200     22.815000      5.170000      6.915000   \n",
       "max       -2.862000     49.014722     47.529000     21.311000     96.834206   \n",
       "\n",
       "              PostV    Dif. V1-V2   Dif. (km/h)  \n",
       "count  29193.000000  29193.000000  29193.000000  \n",
       "mean      28.297817   -310.485986  -1117.749549  \n",
       "std       27.015457    663.169262   2387.409344  \n",
       "min        2.655802  -2111.689611  -7602.082598  \n",
       "25%       21.530544      6.868554     24.726796  \n",
       "50%       24.827912      8.280708     29.810547  \n",
       "75%       28.152357      9.129681     32.866850  \n",
       "max      329.357567    135.018454    486.066435  \n",
       "\n",
       "[8 rows x 32 columns]"
      ]
     },
     "execution_count": 7,
     "metadata": {},
     "output_type": "execute_result"
    }
   ],
   "source": [
    "df_2.describe()"
   ]
  },
  {
   "cell_type": "code",
   "execution_count": 45,
   "id": "5c9c3c15-2a8a-4543-bc5b-8c17b5e42538",
   "metadata": {},
   "outputs": [],
   "source": [
    "df_2.to_csv('../predictions/df_2.csv')"
   ]
  },
  {
   "cell_type": "code",
   "execution_count": 46,
   "id": "52d71934-ad82-432f-aa8d-91cf16a28724",
   "metadata": {},
   "outputs": [
    {
     "data": {
      "text/plain": [
       "array([1, 0, 1, ..., 0, 0, 0])"
      ]
     },
     "execution_count": 46,
     "metadata": {},
     "output_type": "execute_result"
    }
   ],
   "source": [
    "df_2.Efectividad.values"
   ]
  },
  {
   "cell_type": "code",
   "execution_count": 4,
   "id": "fe7b46c8-6289-4cea-83bb-b6c55934393b",
   "metadata": {},
   "outputs": [],
   "source": [
    "# sorted(df_2.columns)"
   ]
  },
  {
   "cell_type": "markdown",
   "id": "75aaf72d-25e0-43a7-b96b-35c74c5e5362",
   "metadata": {},
   "source": [
    "startScore_Server  = [0 15 30 40 50 3 4 6 1 5 7 8 2 'WIN' 9 10 11 12 13]  \n",
    "startScore_Receiver = [0 15 40 50 30 1 2 5 6 3 7 4 8 'LOS' 9 10 11 12 13]\n",
    "\n",
    "I don't understand this variable ... not in a format the machine can understand. Delete for the moment\n",
    "\n",
    "EventID: I don't think the machine can understand this variable for the moment ...   \n",
    "   not clear how to show to the machine (162 events?)... we will show all events as one for the moment"
   ]
  },
  {
   "cell_type": "code",
   "execution_count": 44,
   "id": "98f6b8e3-9848-4a3e-a44a-7e8e55e72a24",
   "metadata": {},
   "outputs": [],
   "source": [
    "### delete vars\n",
    "df_2.drop(['V (km/h)', 'Dif. (km/h)', 'Point', 'EventID', 'startScore_Server', 'startScore_Receiver'], axis=1, inplace=True)"
   ]
  },
  {
   "cell_type": "code",
   "execution_count": null,
   "id": "c42f3263-ef47-43d1-bfc6-9e398b70cc41",
   "metadata": {},
   "outputs": [],
   "source": []
  },
  {
   "cell_type": "code",
   "execution_count": 9,
   "id": "e35ff568-9a29-41e8-9bc1-662eea0e2ea0",
   "metadata": {},
   "outputs": [
    {
     "data": {
      "text/plain": [
       "['serve_class']"
      ]
     },
     "execution_count": 9,
     "metadata": {},
     "output_type": "execute_result"
    }
   ],
   "source": [
    "### Ordinal vars can usually be kept sa they are, since we assume that their order is the right order\n",
    "discrete_ordinal = [\"setNumber\", \n",
    "                 \"gameNumber\", \n",
    "                 \"pointNumber\", \n",
    "                 \"serveNumber\", \n",
    "                 \"shotCount\", \n",
    "                 \"Efectividad\",\n",
    "                 \"1º o 2º saque\", \n",
    "                 \"Lado(1:Iguales;0:Ventaja)\", \n",
    "                 \"DIRECCIÓN:1 abierto;2 al cuerpo;3 a la T\"]\n",
    "\n",
    "### discrete one_hot encoding are vars that are strings or not ordinal, so they need to be unfolded into binary vars\n",
    "discrete_one_hot = [\"serve_class\"]\n",
    "\n",
    "discrete_one_hot"
   ]
  },
  {
   "cell_type": "code",
   "execution_count": 10,
   "id": "702d308b-46f1-4b4f-ab70-14509b22bbc0",
   "metadata": {},
   "outputs": [],
   "source": [
    "def one_hot(df, cols_list):\n",
    "    \"\"\"\n",
    "    cols_list=['service', 'gender', ...]\n",
    "    \"\"\"\n",
    "    #perform one-hot encoding on 'team' column\n",
    "    for i in cols_list:\n",
    "        print(f\"one hot on '{i}'\")\n",
    "        df_discrete = df[cols_list]\n",
    "        encoder_df = pd.DataFrame(encoder.fit_transform(df_discrete[[i]]).toarray())\n",
    "        ### rename columns\n",
    "        print('encoder.categories_: ', encoder.categories_[0].tolist())\n",
    "        l = [i+'___'+str(x) for x in encoder.categories_[0]]\n",
    "        # print(l)\n",
    "        encoder_df.columns = l # encoder.categories_\n",
    "        # merge one-hot encoded columns back with original DataFrame\n",
    "        df = pd.concat([df, encoder_df], axis=1)\n",
    "    df.drop(cols_list, axis=1, inplace=True)\n",
    "    return df"
   ]
  },
  {
   "cell_type": "code",
   "execution_count": null,
   "id": "74757fa2-120e-4f6e-8b1a-d467d770c5d7",
   "metadata": {},
   "outputs": [],
   "source": []
  },
  {
   "cell_type": "code",
   "execution_count": 11,
   "id": "b6fb11f4-c4d8-4734-8cd0-1847f319d5d7",
   "metadata": {},
   "outputs": [
    {
     "name": "stdout",
     "output_type": "stream",
     "text": [
      "one hot on 'serve_class'\n",
      "encoder.categories_:  ['ACE', 'FAULT', 'NOT RETURNED', 'RETURNED']\n"
     ]
    }
   ],
   "source": [
    "df_3 = one_hot(df_2, discrete_one_hot)"
   ]
  },
  {
   "cell_type": "code",
   "execution_count": 12,
   "id": "14990414-4e7d-4cd0-9477-5eaf6fe52b76",
   "metadata": {},
   "outputs": [
    {
     "data": {
      "text/html": [
       "<div>\n",
       "<style scoped>\n",
       "    .dataframe tbody tr th:only-of-type {\n",
       "        vertical-align: middle;\n",
       "    }\n",
       "\n",
       "    .dataframe tbody tr th {\n",
       "        vertical-align: top;\n",
       "    }\n",
       "\n",
       "    .dataframe thead th {\n",
       "        text-align: right;\n",
       "    }\n",
       "</style>\n",
       "<table border=\"1\" class=\"dataframe\">\n",
       "  <thead>\n",
       "    <tr style=\"text-align: right;\">\n",
       "      <th></th>\n",
       "      <th>Sexo</th>\n",
       "      <th>setNumber</th>\n",
       "      <th>gameNumber</th>\n",
       "      <th>pointNumber</th>\n",
       "      <th>serveNumber</th>\n",
       "      <th>shotCount</th>\n",
       "      <th>Efectividad</th>\n",
       "      <th>1º o 2º saque</th>\n",
       "      <th>Lado(1:Iguales;0:Ventaja)</th>\n",
       "      <th>DIRECCIÓN:1 abierto;2 al cuerpo;3 a la T</th>\n",
       "      <th>...</th>\n",
       "      <th>PreV</th>\n",
       "      <th>PostVx</th>\n",
       "      <th>PostVy</th>\n",
       "      <th>PostVz</th>\n",
       "      <th>PostV</th>\n",
       "      <th>Dif. V1-V2</th>\n",
       "      <th>serve_class___ACE</th>\n",
       "      <th>serve_class___FAULT</th>\n",
       "      <th>serve_class___NOT RETURNED</th>\n",
       "      <th>serve_class___RETURNED</th>\n",
       "    </tr>\n",
       "  </thead>\n",
       "  <tbody>\n",
       "    <tr>\n",
       "      <th>0</th>\n",
       "      <td>1</td>\n",
       "      <td>1</td>\n",
       "      <td>1</td>\n",
       "      <td>1</td>\n",
       "      <td>1</td>\n",
       "      <td>2</td>\n",
       "      <td>1</td>\n",
       "      <td>1</td>\n",
       "      <td>1</td>\n",
       "      <td>2</td>\n",
       "      <td>...</td>\n",
       "      <td>31.203651</td>\n",
       "      <td>21.263</td>\n",
       "      <td>5.684</td>\n",
       "      <td>6.380</td>\n",
       "      <td>22.915659</td>\n",
       "      <td>8.287992</td>\n",
       "      <td>0.0</td>\n",
       "      <td>0.0</td>\n",
       "      <td>1.0</td>\n",
       "      <td>0.0</td>\n",
       "    </tr>\n",
       "    <tr>\n",
       "      <th>1</th>\n",
       "      <td>1</td>\n",
       "      <td>1</td>\n",
       "      <td>1</td>\n",
       "      <td>2</td>\n",
       "      <td>1</td>\n",
       "      <td>4</td>\n",
       "      <td>0</td>\n",
       "      <td>1</td>\n",
       "      <td>0</td>\n",
       "      <td>1</td>\n",
       "      <td>...</td>\n",
       "      <td>35.767428</td>\n",
       "      <td>24.944</td>\n",
       "      <td>-5.850</td>\n",
       "      <td>6.801</td>\n",
       "      <td>26.508098</td>\n",
       "      <td>9.259331</td>\n",
       "      <td>0.0</td>\n",
       "      <td>0.0</td>\n",
       "      <td>0.0</td>\n",
       "      <td>1.0</td>\n",
       "    </tr>\n",
       "    <tr>\n",
       "      <th>2</th>\n",
       "      <td>1</td>\n",
       "      <td>1</td>\n",
       "      <td>1</td>\n",
       "      <td>3</td>\n",
       "      <td>1</td>\n",
       "      <td>2</td>\n",
       "      <td>1</td>\n",
       "      <td>1</td>\n",
       "      <td>1</td>\n",
       "      <td>2</td>\n",
       "      <td>...</td>\n",
       "      <td>30.302482</td>\n",
       "      <td>21.009</td>\n",
       "      <td>5.585</td>\n",
       "      <td>7.058</td>\n",
       "      <td>22.855758</td>\n",
       "      <td>7.446724</td>\n",
       "      <td>0.0</td>\n",
       "      <td>0.0</td>\n",
       "      <td>1.0</td>\n",
       "      <td>0.0</td>\n",
       "    </tr>\n",
       "    <tr>\n",
       "      <th>3</th>\n",
       "      <td>1</td>\n",
       "      <td>1</td>\n",
       "      <td>1</td>\n",
       "      <td>4</td>\n",
       "      <td>1</td>\n",
       "      <td>1</td>\n",
       "      <td>1</td>\n",
       "      <td>2</td>\n",
       "      <td>0</td>\n",
       "      <td>1</td>\n",
       "      <td>...</td>\n",
       "      <td>24.999723</td>\n",
       "      <td>15.163</td>\n",
       "      <td>-3.431</td>\n",
       "      <td>6.906</td>\n",
       "      <td>17.011207</td>\n",
       "      <td>7.988516</td>\n",
       "      <td>0.0</td>\n",
       "      <td>1.0</td>\n",
       "      <td>0.0</td>\n",
       "      <td>0.0</td>\n",
       "    </tr>\n",
       "    <tr>\n",
       "      <th>4</th>\n",
       "      <td>1</td>\n",
       "      <td>1</td>\n",
       "      <td>2</td>\n",
       "      <td>1</td>\n",
       "      <td>1</td>\n",
       "      <td>4</td>\n",
       "      <td>0</td>\n",
       "      <td>1</td>\n",
       "      <td>1</td>\n",
       "      <td>2</td>\n",
       "      <td>...</td>\n",
       "      <td>27.657937</td>\n",
       "      <td>18.158</td>\n",
       "      <td>2.731</td>\n",
       "      <td>6.956</td>\n",
       "      <td>19.635612</td>\n",
       "      <td>8.022325</td>\n",
       "      <td>0.0</td>\n",
       "      <td>0.0</td>\n",
       "      <td>0.0</td>\n",
       "      <td>1.0</td>\n",
       "    </tr>\n",
       "    <tr>\n",
       "      <th>...</th>\n",
       "      <td>...</td>\n",
       "      <td>...</td>\n",
       "      <td>...</td>\n",
       "      <td>...</td>\n",
       "      <td>...</td>\n",
       "      <td>...</td>\n",
       "      <td>...</td>\n",
       "      <td>...</td>\n",
       "      <td>...</td>\n",
       "      <td>...</td>\n",
       "      <td>...</td>\n",
       "      <td>...</td>\n",
       "      <td>...</td>\n",
       "      <td>...</td>\n",
       "      <td>...</td>\n",
       "      <td>...</td>\n",
       "      <td>...</td>\n",
       "      <td>...</td>\n",
       "      <td>...</td>\n",
       "      <td>...</td>\n",
       "      <td>...</td>\n",
       "    </tr>\n",
       "    <tr>\n",
       "      <th>29188</th>\n",
       "      <td>1</td>\n",
       "      <td>3</td>\n",
       "      <td>9</td>\n",
       "      <td>1</td>\n",
       "      <td>1</td>\n",
       "      <td>2</td>\n",
       "      <td>0</td>\n",
       "      <td>1</td>\n",
       "      <td>1</td>\n",
       "      <td>3</td>\n",
       "      <td>...</td>\n",
       "      <td>33.999023</td>\n",
       "      <td>-23.728</td>\n",
       "      <td>-2.379</td>\n",
       "      <td>6.608</td>\n",
       "      <td>24.745571</td>\n",
       "      <td>9.253452</td>\n",
       "      <td>0.0</td>\n",
       "      <td>0.0</td>\n",
       "      <td>1.0</td>\n",
       "      <td>0.0</td>\n",
       "    </tr>\n",
       "    <tr>\n",
       "      <th>29189</th>\n",
       "      <td>1</td>\n",
       "      <td>3</td>\n",
       "      <td>9</td>\n",
       "      <td>3</td>\n",
       "      <td>1</td>\n",
       "      <td>1</td>\n",
       "      <td>0</td>\n",
       "      <td>2</td>\n",
       "      <td>0</td>\n",
       "      <td>2</td>\n",
       "      <td>...</td>\n",
       "      <td>29.762144</td>\n",
       "      <td>-19.062</td>\n",
       "      <td>-4.510</td>\n",
       "      <td>7.014</td>\n",
       "      <td>20.806156</td>\n",
       "      <td>8.955988</td>\n",
       "      <td>0.0</td>\n",
       "      <td>1.0</td>\n",
       "      <td>0.0</td>\n",
       "      <td>0.0</td>\n",
       "    </tr>\n",
       "    <tr>\n",
       "      <th>29190</th>\n",
       "      <td>1</td>\n",
       "      <td>3</td>\n",
       "      <td>9</td>\n",
       "      <td>4</td>\n",
       "      <td>1</td>\n",
       "      <td>3</td>\n",
       "      <td>0</td>\n",
       "      <td>1</td>\n",
       "      <td>0</td>\n",
       "      <td>1</td>\n",
       "      <td>...</td>\n",
       "      <td>27.476137</td>\n",
       "      <td>-17.347</td>\n",
       "      <td>6.608</td>\n",
       "      <td>6.992</td>\n",
       "      <td>19.836132</td>\n",
       "      <td>7.640005</td>\n",
       "      <td>0.0</td>\n",
       "      <td>0.0</td>\n",
       "      <td>0.0</td>\n",
       "      <td>1.0</td>\n",
       "    </tr>\n",
       "    <tr>\n",
       "      <th>29191</th>\n",
       "      <td>1</td>\n",
       "      <td>3</td>\n",
       "      <td>9</td>\n",
       "      <td>5</td>\n",
       "      <td>1</td>\n",
       "      <td>1</td>\n",
       "      <td>0</td>\n",
       "      <td>2</td>\n",
       "      <td>0</td>\n",
       "      <td>3</td>\n",
       "      <td>...</td>\n",
       "      <td>31.018599</td>\n",
       "      <td>-21.329</td>\n",
       "      <td>-2.954</td>\n",
       "      <td>6.647</td>\n",
       "      <td>22.535194</td>\n",
       "      <td>8.483405</td>\n",
       "      <td>0.0</td>\n",
       "      <td>1.0</td>\n",
       "      <td>0.0</td>\n",
       "      <td>0.0</td>\n",
       "    </tr>\n",
       "    <tr>\n",
       "      <th>29192</th>\n",
       "      <td>1</td>\n",
       "      <td>3</td>\n",
       "      <td>9</td>\n",
       "      <td>6</td>\n",
       "      <td>1</td>\n",
       "      <td>7</td>\n",
       "      <td>0</td>\n",
       "      <td>1</td>\n",
       "      <td>0</td>\n",
       "      <td>3</td>\n",
       "      <td>...</td>\n",
       "      <td>34.641607</td>\n",
       "      <td>-24.677</td>\n",
       "      <td>1.907</td>\n",
       "      <td>6.572</td>\n",
       "      <td>25.608244</td>\n",
       "      <td>9.033363</td>\n",
       "      <td>0.0</td>\n",
       "      <td>0.0</td>\n",
       "      <td>0.0</td>\n",
       "      <td>1.0</td>\n",
       "    </tr>\n",
       "  </tbody>\n",
       "</table>\n",
       "<p>29193 rows × 33 columns</p>\n",
       "</div>"
      ],
      "text/plain": [
       "       Sexo  setNumber  gameNumber  pointNumber  serveNumber  shotCount  \\\n",
       "0         1          1           1            1            1          2   \n",
       "1         1          1           1            2            1          4   \n",
       "2         1          1           1            3            1          2   \n",
       "3         1          1           1            4            1          1   \n",
       "4         1          1           2            1            1          4   \n",
       "...     ...        ...         ...          ...          ...        ...   \n",
       "29188     1          3           9            1            1          2   \n",
       "29189     1          3           9            3            1          1   \n",
       "29190     1          3           9            4            1          3   \n",
       "29191     1          3           9            5            1          1   \n",
       "29192     1          3           9            6            1          7   \n",
       "\n",
       "       Efectividad  1º o 2º saque  Lado(1:Iguales;0:Ventaja)  \\\n",
       "0                1              1                          1   \n",
       "1                0              1                          0   \n",
       "2                1              1                          1   \n",
       "3                1              2                          0   \n",
       "4                0              1                          1   \n",
       "...            ...            ...                        ...   \n",
       "29188            0              1                          1   \n",
       "29189            0              2                          0   \n",
       "29190            0              1                          0   \n",
       "29191            0              2                          0   \n",
       "29192            0              1                          0   \n",
       "\n",
       "       DIRECCIÓN:1 abierto;2 al cuerpo;3 a la T  ...       PreV  PostVx  \\\n",
       "0                                             2  ...  31.203651  21.263   \n",
       "1                                             1  ...  35.767428  24.944   \n",
       "2                                             2  ...  30.302482  21.009   \n",
       "3                                             1  ...  24.999723  15.163   \n",
       "4                                             2  ...  27.657937  18.158   \n",
       "...                                         ...  ...        ...     ...   \n",
       "29188                                         3  ...  33.999023 -23.728   \n",
       "29189                                         2  ...  29.762144 -19.062   \n",
       "29190                                         1  ...  27.476137 -17.347   \n",
       "29191                                         3  ...  31.018599 -21.329   \n",
       "29192                                         3  ...  34.641607 -24.677   \n",
       "\n",
       "       PostVy  PostVz      PostV  Dif. V1-V2  serve_class___ACE  \\\n",
       "0       5.684   6.380  22.915659    8.287992                0.0   \n",
       "1      -5.850   6.801  26.508098    9.259331                0.0   \n",
       "2       5.585   7.058  22.855758    7.446724                0.0   \n",
       "3      -3.431   6.906  17.011207    7.988516                0.0   \n",
       "4       2.731   6.956  19.635612    8.022325                0.0   \n",
       "...       ...     ...        ...         ...                ...   \n",
       "29188  -2.379   6.608  24.745571    9.253452                0.0   \n",
       "29189  -4.510   7.014  20.806156    8.955988                0.0   \n",
       "29190   6.608   6.992  19.836132    7.640005                0.0   \n",
       "29191  -2.954   6.647  22.535194    8.483405                0.0   \n",
       "29192   1.907   6.572  25.608244    9.033363                0.0   \n",
       "\n",
       "       serve_class___FAULT  serve_class___NOT RETURNED  serve_class___RETURNED  \n",
       "0                      0.0                         1.0                     0.0  \n",
       "1                      0.0                         0.0                     1.0  \n",
       "2                      0.0                         1.0                     0.0  \n",
       "3                      1.0                         0.0                     0.0  \n",
       "4                      0.0                         0.0                     1.0  \n",
       "...                    ...                         ...                     ...  \n",
       "29188                  0.0                         1.0                     0.0  \n",
       "29189                  1.0                         0.0                     0.0  \n",
       "29190                  0.0                         0.0                     1.0  \n",
       "29191                  1.0                         0.0                     0.0  \n",
       "29192                  0.0                         0.0                     1.0  \n",
       "\n",
       "[29193 rows x 33 columns]"
      ]
     },
     "execution_count": 12,
     "metadata": {},
     "output_type": "execute_result"
    }
   ],
   "source": [
    "df_3"
   ]
  },
  {
   "cell_type": "code",
   "execution_count": 13,
   "id": "a7d2c2dd-f644-4772-bbaf-93ff314fd6b0",
   "metadata": {},
   "outputs": [],
   "source": [
    "corr = df_3.corr(method='pearson').Efectividad.sort_values(ascending=False)\n",
    "correlated_cols = list(corr[corr>0].index)"
   ]
  },
  {
   "cell_type": "code",
   "execution_count": 14,
   "id": "df3ff217-32ae-40f6-b5db-f353824a9b9e",
   "metadata": {},
   "outputs": [
    {
     "data": {
      "text/plain": [
       "['Efectividad',\n",
       " 'serve_class___NOT RETURNED',\n",
       " 'serve_class___ACE',\n",
       " 'PreV',\n",
       " 'V (m/s)',\n",
       " 'Y1(ABS)',\n",
       " 'Dif. V1-V2',\n",
       " 'Z1 (h)',\n",
       " 'setNumber',\n",
       " 'X1',\n",
       " 'PostV',\n",
       " 'Lado(1:Iguales;0:Ventaja)',\n",
       " 'serveNumber',\n",
       " 'Y1']"
      ]
     },
     "execution_count": 14,
     "metadata": {},
     "output_type": "execute_result"
    }
   ],
   "source": [
    "correlated_cols"
   ]
  },
  {
   "cell_type": "code",
   "execution_count": 15,
   "id": "c6c81242-135d-48b9-b06c-8e5422ad85b0",
   "metadata": {},
   "outputs": [
    {
     "data": {
      "text/plain": [
       "Efectividad                                 1.000000\n",
       "serve_class___NOT RETURNED                  0.588071\n",
       "serve_class___ACE                           0.298286\n",
       "PreV                                        0.196316\n",
       "V (m/s)                                     0.192850\n",
       "Y1(ABS)                                     0.096717\n",
       "Dif. V1-V2                                  0.094357\n",
       "Z1 (h)                                      0.061928\n",
       "setNumber                                   0.031322\n",
       "X1                                          0.014339\n",
       "PostV                                       0.013231\n",
       "Lado(1:Iguales;0:Ventaja)                   0.013065\n",
       "serveNumber                                 0.008910\n",
       "Y1                                          0.000038\n",
       "PreVy                                      -0.000053\n",
       "PostVy                                     -0.000458\n",
       "gameNumber                                 -0.001562\n",
       "PostVx                                     -0.015682\n",
       "PreVx                                      -0.015765\n",
       "DIRECCIÓN:1 abierto;2 al cuerpo;3 a la T   -0.016788\n",
       "timeHIT                                    -0.018465\n",
       "PostVz                                     -0.019761\n",
       "timeNET                                    -0.027635\n",
       "timeBounce                                 -0.031437\n",
       "pointNumber                                -0.046936\n",
       "Sexo                                       -0.111980\n",
       "PreVz                                      -0.120170\n",
       "serve_class___FAULT                        -0.122977\n",
       "1º o 2º saque                              -0.123834\n",
       "TimeB-TimeH                                -0.167671\n",
       "TimeN-TimeH                                -0.182059\n",
       "shotCount                                  -0.314279\n",
       "serve_class___RETURNED                     -0.464228\n",
       "Name: Efectividad, dtype: float64"
      ]
     },
     "execution_count": 15,
     "metadata": {},
     "output_type": "execute_result"
    }
   ],
   "source": [
    "corr"
   ]
  },
  {
   "cell_type": "markdown",
   "id": "7cb7f4e0-3b2a-4fc2-8b2b-10fde556ffcf",
   "metadata": {},
   "source": [
    "#### **Conclusión:**\n",
    "las correlaciones positivas son las que están correlacionadas con efectividad = 1,\n",
    "pero las negativas pueden estar correlacionadas con efectividad nula, la cual es info válida tb.\n",
    "\n",
    "Vamos a preparar dos datasets, uno con las positivas y otro con todas, Entrenar un par de modelos y sacar conclusiones.\n",
    "\n",
    "Also, for the moment we are goind to delete the eventID --> 162 different events ... "
   ]
  },
  {
   "cell_type": "code",
   "execution_count": 16,
   "id": "a1a89847-3dfa-4ca9-aaae-8211ffee0ef2",
   "metadata": {},
   "outputs": [],
   "source": [
    "df_positive_corr = df_3[correlated_cols]\n",
    "# df_positive_corr.head()"
   ]
  },
  {
   "cell_type": "code",
   "execution_count": 17,
   "id": "85f36f37-0b5f-4203-a1a1-f4f5100ef04c",
   "metadata": {},
   "outputs": [],
   "source": [
    "df_positive_corr_copy = df_positive_corr"
   ]
  },
  {
   "cell_type": "markdown",
   "id": "67daaa7d-7c20-4f95-956c-f11074bd2fa9",
   "metadata": {},
   "source": [
    "## Filter Outliers"
   ]
  },
  {
   "cell_type": "code",
   "execution_count": 18,
   "id": "f6441fa8-d5d9-4200-81a5-ba3e4815b928",
   "metadata": {},
   "outputs": [],
   "source": [
    "cols = ['Y1(ABS)'] # one or more\n",
    "Q1 = df_positive_corr[cols].quantile(0.25)\n",
    "Q3 = df_positive_corr[cols].quantile(0.99)\n",
    "IQR = Q3 - Q1\n",
    "df_positive_corr = df_positive_corr[~((df_positive_corr[cols] < (Q1 - 1.5 * IQR)) |(df_positive_corr[cols] > (Q3 + 1.5 * IQR))).any(axis=1)]\n",
    "\n",
    "cols = ['Dif. V1-V2'] # one or more\n",
    "Q1 = df_positive_corr[cols].quantile(0.25)\n",
    "Q3 = df_positive_corr[cols].quantile(0.75)\n",
    "IQR = Q3 - Q1\n",
    "df_positive_corr = df_positive_corr[~((df_positive_corr[cols] < (Q1 - 1.5 * IQR)) |(df_positive_corr[cols] > (Q3 + 1.5 * IQR))).any(axis=1)]\n",
    "\n",
    "cols = ['PostV'] # one or more\n",
    "Q1 = df_positive_corr[cols].quantile(0.05)\n",
    "Q3 = df_positive_corr[cols].quantile(0.75)\n",
    "IQR = Q3 - Q1\n",
    "df_positive_corr = df_positive_corr[~((df_positive_corr[cols] < (Q1 - 1.5 * IQR)) |(df_positive_corr[cols] > (Q3 + 1.5 * IQR))).any(axis=1)]"
   ]
  },
  {
   "cell_type": "code",
   "execution_count": 20,
   "id": "80fa24c5-02b4-4af4-a69e-53da583d713e",
   "metadata": {},
   "outputs": [
    {
     "data": {
      "text/plain": [
       "<AxesSubplot:>"
      ]
     },
     "execution_count": 20,
     "metadata": {},
     "output_type": "execute_result"
    },
    {
     "data": {
      "image/png": "[encoded data removed]",
      "text/plain": [
       "<Figure size 1080x360 with 1 Axes>"
      ]
     },
     "metadata": {},
     "output_type": "display_data"
    }
   ],
   "source": [
    "import numpy as np\n",
    "import seaborn as sn\n",
    "sn.set(rc={\"figure.figsize\":(15, 5)})\n",
    "sn.boxplot(data=df_positive_corr)"
   ]
  },
  {
   "cell_type": "code",
   "execution_count": 22,
   "id": "343fd5ca-9d9e-4549-a160-63d7d6608f99",
   "metadata": {},
   "outputs": [],
   "source": [
    "### save as csv\n",
    "### split before preprocessing, to avoid data leakage\n",
    "XX, yy = df_positive_corr, df_positive_corr.Efectividad\n",
    "XX.drop('Efectividad', axis=1, inplace=True)\n",
    "\n",
    "# Creating a dataframe with 80%\n",
    "# values of original dataframe\n",
    "Xtrain = XX.sample(frac = 0.8)\n",
    "Ytrain = yy.sample(frac = 0.8)\n",
    " \n",
    "# Creating dataframe with\n",
    "# rest of the 20% values\n",
    "Xtest = XX.drop(Xtrain.index)\n",
    "Ytest = yy.drop(Ytrain.index)"
   ]
  },
  {
   "cell_type": "code",
   "execution_count": 23,
   "id": "2c4f3e97-8c72-46d2-a35e-b1a653087bb3",
   "metadata": {},
   "outputs": [],
   "source": [
    "Xtrain.to_csv('../predictions/Xtrain.csv')\n",
    "Ytrain.to_csv('../predictions/Ytrain.csv')\n",
    "Xtest.to_csv('../predictions/Xtest.csv')\n",
    "Ytest.to_csv('../predictions/Ytest.csv')"
   ]
  },
  {
   "cell_type": "code",
   "execution_count": 21,
   "id": "fc5c923d-7532-4a55-a85d-7506b2d7c07a",
   "metadata": {},
   "outputs": [
    {
     "name": "stdout",
     "output_type": "stream",
     "text": [
      "/home/javier/mis_proyectos/tennis/EDA\n"
     ]
    }
   ],
   "source": [
    "!pwd"
   ]
  },
  {
   "cell_type": "markdown",
   "id": "d0c2cea6-615b-479f-bffa-18a7f4d45958",
   "metadata": {},
   "source": [
    "### Algorithms:"
   ]
  },
  {
   "cell_type": "code",
   "execution_count": 219,
   "id": "bf1c0050-c609-4159-9665-4fe8396b6413",
   "metadata": {},
   "outputs": [
    {
     "name": "stdout",
     "output_type": "stream",
     "text": [
      "              precision    recall  f1-score   support\n",
      "\n",
      "           0       0.82      0.96      0.89      2901\n",
      "           1       0.86      0.53      0.66      1296\n",
      "\n",
      "    accuracy                           0.83      4197\n",
      "   macro avg       0.84      0.75      0.77      4197\n",
      "weighted avg       0.83      0.83      0.81      4197\n",
      "\n"
     ]
    },
    {
     "name": "stderr",
     "output_type": "stream",
     "text": [
      "/home/javier/python_venvs/tennis/lib/python3.8/site-packages/pandas/core/frame.py:4305: SettingWithCopyWarning: \n",
      "A value is trying to be set on a copy of a slice from a DataFrame\n",
      "\n",
      "See the caveats in the documentation: https://pandas.pydata.org/pandas-docs/stable/user_guide/indexing.html#returning-a-view-versus-a-copy\n",
      "  return super().drop(\n"
     ]
    },
    {
     "name": "stdout",
     "output_type": "stream",
     "text": [
      "\n",
      "               precision    recall  f1-score   support\n",
      "\n",
      "           0       0.80      0.98      0.88      4131\n",
      "           1       0.88      0.43      0.57      1708\n",
      "\n",
      "    accuracy                           0.81      5839\n",
      "   macro avg       0.84      0.70      0.73      5839\n",
      "weighted avg       0.83      0.81      0.79      5839\n",
      "\n"
     ]
    }
   ],
   "source": [
    "# https://stackabuse.com/implementing-svm-and-kernel-svm-with-pythons-scikit-learn/\n",
    "import numpy as np\n",
    "import matplotlib.pyplot as plt\n",
    "import pandas as pd\n",
    "from sklearn.metrics import classification_report, confusion_matrix\n",
    "from sklearn.model_selection import train_test_split\n",
    "from sklearn.svm import SVC\n",
    "\n",
    "### split before preprocessing, to avoid data leakage\n",
    "XX, yy = df_positive_corr, df_positive_corr.Efectividad\n",
    "XX.drop('Efectividad', axis=1, inplace=True)\n",
    "\n",
    "X, y = XX.values, yy.values # .reshape(-1, 1)\n",
    "X_train, X_test, y_train, y_test = train_test_split(X, y, test_size = 0.20)\n",
    "\n",
    "# X, y = df_positive_corr.values, df_positive_corr.Efectividad.values # .reshape(-1, 1)\n",
    "# X_train, X_test, y_train, y_test = train_test_split(X, y, test_size = 0.20)\n",
    "\n",
    "svclassifier = SVC(kernel='rbf')\n",
    "svclassifier.fit(X_train, y_train)\n",
    "\n",
    "y_pred = svclassifier.predict(X_test)\n",
    "\n",
    "# print(confusion_matrix(y_test, y_pred))\n",
    "print(classification_report(y_test, y_pred))\n",
    "\n",
    "\n",
    "### try with df_positive_corr_copy  # validate with the original dataset\n",
    "XX, yy = df_positive_corr_copy, df_positive_corr_copy.Efectividad\n",
    "XX.drop('Efectividad', axis=1, inplace=True)\n",
    "X, y = XX.values, yy.values # .reshape(-1, 1)\n",
    "X_train, X_test, y_train, y_test = train_test_split(X, y, test_size = 0.20)\n",
    "\n",
    "y_pred = svclassifier.predict(X_test)\n",
    "\n",
    "# print('\\n', confusion_matrix(y_test, y_pred))\n",
    "print('\\n', classification_report(y_test, y_pred))"
   ]
  },
  {
   "cell_type": "code",
   "execution_count": 247,
   "id": "2bba4227-ec16-4505-ba46-579ecee614c0",
   "metadata": {},
   "outputs": [
    {
     "name": "stdout",
     "output_type": "stream",
     "text": [
      "              precision    recall  f1-score   support\n",
      "\n",
      "           0       0.88      0.95      0.91      2914\n",
      "           1       0.87      0.70      0.77      1283\n",
      "\n",
      "    accuracy                           0.87      4197\n",
      "   macro avg       0.87      0.82      0.84      4197\n",
      "weighted avg       0.87      0.87      0.87      4197\n",
      "\n",
      "\n",
      "              precision    recall  f1-score   support\n",
      "\n",
      "           0       0.88      0.95      0.91      2914\n",
      "           1       0.87      0.70      0.77      1283\n",
      "\n",
      "    accuracy                           0.87      4197\n",
      "   macro avg       0.87      0.82      0.84      4197\n",
      "weighted avg       0.87      0.87      0.87      4197\n",
      "\n"
     ]
    }
   ],
   "source": [
    "### apply zscore to X\n",
    "XX, yy = df_positive_corr, df_positive_corr.Efectividad\n",
    "XX.drop('Efectividad', axis=1, inplace=True)\n",
    "\n",
    "from sklearn.preprocessing import MinMaxScaler\n",
    "\n",
    "X, y = XX.values, yy.values # .reshape(-1, 1)\n",
    "X_train, X_test, y_train, y_test = train_test_split(X, y, test_size = 0.20)\n",
    "\n",
    "scaler = MinMaxScaler()\n",
    "X_train_scaled = scaler.fit_transform(X_train)\n",
    "X_test_scaled = scaler.transform(X_test)\n",
    "\n",
    "model = SVC(kernel='rbf')\n",
    "model.fit(X_train_scaled, y_train)\n",
    "y_pred = model.predict(X_test_scaled)\n",
    "print(classification_report(y_test, y_pred))"
   ]
  },
  {
   "cell_type": "code",
   "execution_count": null,
   "id": "2baba8e5-3211-4e1a-bd21-9acf71a98dc5",
   "metadata": {},
   "outputs": [],
   "source": []
  },
  {
   "cell_type": "code",
   "execution_count": 254,
   "id": "5b2bf2ce-c26f-4d4d-8221-2cdcf72fa54d",
   "metadata": {},
   "outputs": [],
   "source": [
    "### save final dataset\n",
    "import pickle as pkl\n",
    "\n",
    "#to save it\n",
    "with open(\"train.pkl\", \"wb\") as f:\n",
    "    pkl.dump([X_train_scaled, y_train], f)\n",
    "    \n",
    "#to save it\n",
    "with open(\"test.pkl\", \"wb\") as f:\n",
    "    pkl.dump([X_test_scaled, y_test], f)    \n",
    "\n",
    "# #to load it\n",
    "# with open(\"train.pkl\", \"r\") as f:\n",
    "#     train_x, train_y = pkl.load(f)"
   ]
  },
  {
   "cell_type": "code",
   "execution_count": 251,
   "id": "7c9831c8-4f0f-4287-a2ee-d7478071259e",
   "metadata": {},
   "outputs": [
    {
     "data": {
      "text/plain": [
       "array([[0.        , 1.        , 0.71307178, ..., 0.        , 0.        ,\n",
       "        0.54797702],\n",
       "       [1.        , 0.        , 0.64719847, ..., 0.        , 0.        ,\n",
       "        0.32037648],\n",
       "       [0.        , 0.        , 0.6212989 , ..., 1.        , 0.        ,\n",
       "        0.63292996],\n",
       "       ...,\n",
       "       [0.        , 0.        , 0.48127286, ..., 0.        , 0.        ,\n",
       "        0.62681824],\n",
       "       [0.        , 0.        , 0.63497713, ..., 0.        , 0.        ,\n",
       "        0.20682068],\n",
       "       [1.        , 0.        , 0.62260005, ..., 1.        , 0.        ,\n",
       "        0.23297885]])"
      ]
     },
     "execution_count": 251,
     "metadata": {},
     "output_type": "execute_result"
    }
   ],
   "source": [
    "X_train_scaled"
   ]
  },
  {
   "cell_type": "code",
   "execution_count": null,
   "id": "8debdfcc-1d71-4a7a-b46a-7d747d626224",
   "metadata": {},
   "outputs": [],
   "source": [
    "X_train_scaled\n",
    "X_test_scaled\n",
    "y_test\n",
    "y_train"
   ]
  },
  {
   "cell_type": "code",
   "execution_count": null,
   "id": "ee8ff201-af51-4842-a965-994641b5253c",
   "metadata": {},
   "outputs": [],
   "source": []
  },
  {
   "cell_type": "markdown",
   "id": "4495655a-4325-4d71-a921-4c8ab8ba7765",
   "metadata": {},
   "source": [
    "## Try all possible algorithms and compare! \n",
    "Here starts the fun part "
   ]
  },
  {
   "cell_type": "markdown",
   "id": "d847b8eb-2f97-4608-9685-283a8c77f135",
   "metadata": {},
   "source": [
    "## Lessons learnt - TODOES:  \n",
    "- use df_3, not the top correlated df  \n",
    "- using V vs Efectividad gives almos tthe same results!  \n",
    "- Try all algorithms with all 3 X options!!  \n",
    "    - V vs Efectividad\n",
    "    - df_3 vs Efectividad\n",
    "    - Max_correlated_vars_df vs Efectividad"
   ]
  },
  {
   "cell_type": "code",
   "execution_count": 36,
   "id": "3c91461f-400f-41cd-a4af-f58d4a299ae1",
   "metadata": {},
   "outputs": [
    {
     "name": "stdout",
     "output_type": "stream",
     "text": [
      "              precision    recall  f1-score   support\n",
      "\n",
      "           0       0.88      0.95      0.91      2914\n",
      "           1       0.87      0.70      0.77      1283\n",
      "\n",
      "    accuracy                           0.87      4197\n",
      "   macro avg       0.87      0.82      0.84      4197\n",
      "weighted avg       0.87      0.87      0.87      4197\n",
      "\n"
     ]
    }
   ],
   "source": [
    "import pickle\n",
    "\n",
    "# https://stackabuse.com/implementing-svm-and-kernel-svm-with-pythons-scikit-learn/\n",
    "import numpy as np\n",
    "import matplotlib.pyplot as plt\n",
    "import pandas as pd\n",
    "from sklearn.metrics import classification_report, confusion_matrix\n",
    "from sklearn.model_selection import train_test_split\n",
    "from sklearn.svm import SVC\n",
    "\n",
    "### Load Data:\n",
    "X_train_scaled, y_train = pickle.load(open(\"train.pkl\", \"rb\"))  # X_train_scaled, y_train\n",
    "X_test_scaled, y_test = pickle.load(open(\"test.pkl\", \"rb\"))     # \n",
    "\n",
    "### load the model\n",
    "model = pickle.load(open(\"model.pkl\", \"rb\"))\n",
    "\n",
    "## use model to predict\n",
    "y_pred = model.predict(X_test_scaled)\n",
    "print(classification_report(y_test, y_pred))"
   ]
  },
  {
   "cell_type": "code",
   "execution_count": 25,
   "id": "4c8b36bf-40cc-466d-9150-d0f2ea703aad",
   "metadata": {},
   "outputs": [
    {
     "name": "stdout",
     "output_type": "stream",
     "text": [
      "              precision    recall  f1-score   support\n",
      "\n",
      "           0       0.88      0.95      0.91      2914\n",
      "           1       0.87      0.70      0.77      1283\n",
      "\n",
      "    accuracy                           0.87      4197\n",
      "   macro avg       0.87      0.82      0.84      4197\n",
      "weighted avg       0.87      0.87      0.87      4197\n",
      "\n"
     ]
    }
   ],
   "source": [
    "model = SVC(kernel='rbf')\n",
    "model.fit(X_train_scaled, y_train)\n",
    "y_pred = model.predict(X_test_scaled)\n",
    "print(classification_report(y_test, y_pred))"
   ]
  },
  {
   "cell_type": "code",
   "execution_count": 26,
   "id": "6cb76bd1-e620-4476-aa06-664eb4e0664e",
   "metadata": {},
   "outputs": [
    {
     "data": {
      "text/plain": [
       "0.8746723850369311"
      ]
     },
     "execution_count": 26,
     "metadata": {},
     "output_type": "execute_result"
    }
   ],
   "source": [
    "### Let's play with some Hyperparameters Cross-Validation search:\n",
    "# C: Regularization parameter   -   float, default=1.0   -  Lambda in formulation\n",
    "# gamma='scale' (default) is passed then it uses 1 / (n_features * X.var()) as value of gamma,\n",
    "\n",
    "classification_report(y_test, y_pred, output_dict=True)['accuracy']"
   ]
  },
  {
   "cell_type": "code",
   "execution_count": 18,
   "id": "c6ff0393-1e59-4d67-8f37-f134b312f3b0",
   "metadata": {},
   "outputs": [
    {
     "data": {
      "text/plain": [
       "0.11528814428713272"
      ]
     },
     "execution_count": 18,
     "metadata": {},
     "output_type": "execute_result"
    }
   ],
   "source": [
    "X_train_scaled.var()"
   ]
  },
  {
   "cell_type": "code",
   "execution_count": 25,
   "id": "8451a0b4-9993-4e09-9640-1180e0a4652f",
   "metadata": {},
   "outputs": [
    {
     "data": {
      "text/plain": [
       "0.6672245216428754"
      ]
     },
     "execution_count": 25,
     "metadata": {},
     "output_type": "execute_result"
    }
   ],
   "source": [
    "gamma = 1 / (X_train_scaled.shape[1]*X_train_scaled.var())  # gamma = 1 / (n_features * X_train_scaled.var()) \n",
    "gamma  ### default gamma"
   ]
  },
  {
   "cell_type": "code",
   "execution_count": 26,
   "id": "fbe54367-ad9e-496e-b415-cb5ea5b17180",
   "metadata": {},
   "outputs": [],
   "source": [
    "### create the values for the grid\n",
    "C_search     = [0.01, 0.1, 0.5, 0.75, 1,   1.50, 2.0]\n",
    "gamma_search = [0.01, 0.1, 0.5, 0.75, 1,   1.25, 1.5]"
   ]
  },
  {
   "cell_type": "code",
   "execution_count": 44,
   "id": "7c94795c-9d10-446d-90ab-41ca846922c4",
   "metadata": {},
   "outputs": [],
   "source": [
    "# from tqdm import tqdm\n",
    "# results_dicto = []\n",
    "# \n",
    "# for c in tqdm(C_search, desc='Iter. over Regularization parameter & kernel gammas'):\n",
    "#     for g in gamma_search:\n",
    "#         m = SVC(kernel='rbf', C=c, gamma=g)  # model  # tol = cost function tolerance\n",
    "#         m.fit(X_train_scaled, y_train)\n",
    "#         y_pred = m.predict(X_test_scaled)\n",
    "#         cls_acc = classification_report(y_test, y_pred, output_dict=True)['accuracy']\n",
    "#         results = {'lambda': m.C, 'gamma': m.gamma, 'accuracy': cls_acc}\n",
    "#         results_dicto.append(results)\n",
    "# \n",
    "# print()\n",
    "# results_dicto"
   ]
  },
  {
   "cell_type": "code",
   "execution_count": 45,
   "id": "ff9f7b27-44f7-42a4-bd18-640a6cc3d3c1",
   "metadata": {},
   "outputs": [
    {
     "data": {
      "text/plain": [
       "(0.8746723850369311, 2.0, 1.5)"
      ]
     },
     "execution_count": 45,
     "metadata": {},
     "output_type": "execute_result"
    }
   ],
   "source": [
    "max([x['accuracy'] for x in nested_dicto]), m.C, m.gamma"
   ]
  },
  {
   "cell_type": "code",
   "execution_count": null,
   "id": "acec756e-4cdb-492c-b58b-21f8ad70c9cb",
   "metadata": {},
   "outputs": [],
   "source": []
  },
  {
   "cell_type": "code",
   "execution_count": 27,
   "id": "cbc167b1-28de-49d7-a1b1-d5d04f94f878",
   "metadata": {},
   "outputs": [
    {
     "name": "stderr",
     "output_type": "stream",
     "text": [
      "/home/javier/python_venvs/tennis/lib/python3.8/site-packages/xgboost/compat.py:31: FutureWarning: pandas.Int64Index is deprecated and will be removed from pandas in a future version. Use pandas.Index with the appropriate dtype instead.\n",
      "  from pandas import MultiIndex, Int64Index\n"
     ]
    }
   ],
   "source": [
    "from numpy import mean\n",
    "from sklearn.datasets import make_classification\n",
    "from sklearn.model_selection import cross_val_score\n",
    "from sklearn.model_selection import RepeatedStratifiedKFold\n",
    "from xgboost import XGBClassifier"
   ]
  },
  {
   "cell_type": "code",
   "execution_count": 28,
   "id": "480ce43d-55a4-4083-974a-247b16783664",
   "metadata": {},
   "outputs": [
    {
     "name": "stderr",
     "output_type": "stream",
     "text": [
      "/home/javier/python_venvs/tennis/lib/python3.8/site-packages/xgboost/sklearn.py:1146: UserWarning: The use of label encoder in XGBClassifier is deprecated and will be removed in a future release. To remove this warning, do the following: 1) Pass option use_label_encoder=False when constructing XGBClassifier object; and 2) Encode your labels (y) as integers starting with 0, i.e. 0, 1, 2, ..., [num_class - 1].\n",
      "  warnings.warn(label_encoder_deprecation_msg, UserWarning)\n"
     ]
    },
    {
     "name": "stdout",
     "output_type": "stream",
     "text": [
      "[21:54:39] WARNING: ../src/learner.cc:1095: Starting in XGBoost 1.3.0, the default evaluation metric used with the objective 'binary:logistic' was changed from 'error' to 'logloss'. Explicitly set eval_metric if you'd like to restore the old behavior.\n",
      "              precision    recall  f1-score   support\n",
      "\n",
      "           0       0.88      0.95      0.91      2914\n",
      "           1       0.86      0.70      0.77      1283\n",
      "\n",
      "    accuracy                           0.87      4197\n",
      "   macro avg       0.87      0.82      0.84      4197\n",
      "weighted avg       0.87      0.87      0.87      4197\n",
      "\n"
     ]
    }
   ],
   "source": [
    "\"\"\"\n",
    "X_train_scaled, y_train\n",
    "X_test_scaled, y_test\n",
    "\"\"\"\n",
    "model = XGBClassifier()\n",
    "model.fit(X_train_scaled,y_train)\n",
    "\n",
    "y_pred = model.predict(X_test_scaled)\n",
    "print(classification_report(y_test, y_pred))"
   ]
  },
  {
   "cell_type": "code",
   "execution_count": null,
   "id": "b5511aab-f309-44c2-984d-676d2d656da8",
   "metadata": {},
   "outputs": [],
   "source": []
  },
  {
   "cell_type": "code",
   "execution_count": 30,
   "id": "a8fcb2a7-13c1-420e-b283-029ae394d247",
   "metadata": {},
   "outputs": [
    {
     "name": "stdout",
     "output_type": "stream",
     "text": [
      "Fitting 5 folds for each of 5 candidates, totalling 25 fits\n"
     ]
    },
    {
     "ename": "KeyboardInterrupt",
     "evalue": "",
     "output_type": "error",
     "traceback": [
      "\u001b[0;31m---------------------------------------------------------------------------\u001b[0m",
      "\u001b[0;31mKeyboardInterrupt\u001b[0m                         Traceback (most recent call last)",
      "\u001b[0;32m/tmp/ipykernel_8837/2351785135.py\u001b[0m in \u001b[0;36m<module>\u001b[0;34m\u001b[0m\n\u001b[1;32m     25\u001b[0m                          n_jobs = -1)\n\u001b[1;32m     26\u001b[0m \u001b[0;34m\u001b[0m\u001b[0m\n\u001b[0;32m---> 27\u001b[0;31m \u001b[0mclf\u001b[0m\u001b[0;34m.\u001b[0m\u001b[0mfit\u001b[0m\u001b[0;34m(\u001b[0m\u001b[0mX_train_scaled\u001b[0m\u001b[0;34m,\u001b[0m \u001b[0my_train\u001b[0m\u001b[0;34m)\u001b[0m\u001b[0;34m\u001b[0m\u001b[0;34m\u001b[0m\u001b[0m\n\u001b[0m",
      "\u001b[0;32m~/python_venvs/tennis/lib/python3.8/site-packages/sklearn/model_selection/_search.py\u001b[0m in \u001b[0;36mfit\u001b[0;34m(self, X, y, groups, **fit_params)\u001b[0m\n\u001b[1;32m    889\u001b[0m                 \u001b[0;32mreturn\u001b[0m \u001b[0mresults\u001b[0m\u001b[0;34m\u001b[0m\u001b[0;34m\u001b[0m\u001b[0m\n\u001b[1;32m    890\u001b[0m \u001b[0;34m\u001b[0m\u001b[0m\n\u001b[0;32m--> 891\u001b[0;31m             \u001b[0mself\u001b[0m\u001b[0;34m.\u001b[0m\u001b[0m_run_search\u001b[0m\u001b[0;34m(\u001b[0m\u001b[0mevaluate_candidates\u001b[0m\u001b[0;34m)\u001b[0m\u001b[0;34m\u001b[0m\u001b[0;34m\u001b[0m\u001b[0m\n\u001b[0m\u001b[1;32m    892\u001b[0m \u001b[0;34m\u001b[0m\u001b[0m\n\u001b[1;32m    893\u001b[0m             \u001b[0;31m# multimetric is determined here because in the case of a callable\u001b[0m\u001b[0;34m\u001b[0m\u001b[0;34m\u001b[0m\u001b[0;34m\u001b[0m\u001b[0m\n",
      "\u001b[0;32m~/python_venvs/tennis/lib/python3.8/site-packages/sklearn/model_selection/_search.py\u001b[0m in \u001b[0;36m_run_search\u001b[0;34m(self, evaluate_candidates)\u001b[0m\n\u001b[1;32m   1764\u001b[0m     \u001b[0;32mdef\u001b[0m \u001b[0m_run_search\u001b[0m\u001b[0;34m(\u001b[0m\u001b[0mself\u001b[0m\u001b[0;34m,\u001b[0m \u001b[0mevaluate_candidates\u001b[0m\u001b[0;34m)\u001b[0m\u001b[0;34m:\u001b[0m\u001b[0;34m\u001b[0m\u001b[0;34m\u001b[0m\u001b[0m\n\u001b[1;32m   1765\u001b[0m         \u001b[0;34m\"\"\"Search n_iter candidates from param_distributions\"\"\"\u001b[0m\u001b[0;34m\u001b[0m\u001b[0;34m\u001b[0m\u001b[0m\n\u001b[0;32m-> 1766\u001b[0;31m         evaluate_candidates(\n\u001b[0m\u001b[1;32m   1767\u001b[0m             ParameterSampler(\n\u001b[1;32m   1768\u001b[0m                 \u001b[0mself\u001b[0m\u001b[0;34m.\u001b[0m\u001b[0mparam_distributions\u001b[0m\u001b[0;34m,\u001b[0m \u001b[0mself\u001b[0m\u001b[0;34m.\u001b[0m\u001b[0mn_iter\u001b[0m\u001b[0;34m,\u001b[0m \u001b[0mrandom_state\u001b[0m\u001b[0;34m=\u001b[0m\u001b[0mself\u001b[0m\u001b[0;34m.\u001b[0m\u001b[0mrandom_state\u001b[0m\u001b[0;34m\u001b[0m\u001b[0;34m\u001b[0m\u001b[0m\n",
      "\u001b[0;32m~/python_venvs/tennis/lib/python3.8/site-packages/sklearn/model_selection/_search.py\u001b[0m in \u001b[0;36mevaluate_candidates\u001b[0;34m(candidate_params, cv, more_results)\u001b[0m\n\u001b[1;32m    836\u001b[0m                     )\n\u001b[1;32m    837\u001b[0m \u001b[0;34m\u001b[0m\u001b[0m\n\u001b[0;32m--> 838\u001b[0;31m                 out = parallel(\n\u001b[0m\u001b[1;32m    839\u001b[0m                     delayed(_fit_and_score)(\n\u001b[1;32m    840\u001b[0m                         \u001b[0mclone\u001b[0m\u001b[0;34m(\u001b[0m\u001b[0mbase_estimator\u001b[0m\u001b[0;34m)\u001b[0m\u001b[0;34m,\u001b[0m\u001b[0;34m\u001b[0m\u001b[0;34m\u001b[0m\u001b[0m\n",
      "\u001b[0;32m~/python_venvs/tennis/lib/python3.8/site-packages/joblib/parallel.py\u001b[0m in \u001b[0;36m__call__\u001b[0;34m(self, iterable)\u001b[0m\n\u001b[1;32m   1054\u001b[0m \u001b[0;34m\u001b[0m\u001b[0m\n\u001b[1;32m   1055\u001b[0m             \u001b[0;32mwith\u001b[0m \u001b[0mself\u001b[0m\u001b[0;34m.\u001b[0m\u001b[0m_backend\u001b[0m\u001b[0;34m.\u001b[0m\u001b[0mretrieval_context\u001b[0m\u001b[0;34m(\u001b[0m\u001b[0;34m)\u001b[0m\u001b[0;34m:\u001b[0m\u001b[0;34m\u001b[0m\u001b[0;34m\u001b[0m\u001b[0m\n\u001b[0;32m-> 1056\u001b[0;31m                 \u001b[0mself\u001b[0m\u001b[0;34m.\u001b[0m\u001b[0mretrieve\u001b[0m\u001b[0;34m(\u001b[0m\u001b[0;34m)\u001b[0m\u001b[0;34m\u001b[0m\u001b[0;34m\u001b[0m\u001b[0m\n\u001b[0m\u001b[1;32m   1057\u001b[0m             \u001b[0;31m# Make sure that we get a last message telling us we are done\u001b[0m\u001b[0;34m\u001b[0m\u001b[0;34m\u001b[0m\u001b[0;34m\u001b[0m\u001b[0m\n\u001b[1;32m   1058\u001b[0m             \u001b[0melapsed_time\u001b[0m \u001b[0;34m=\u001b[0m \u001b[0mtime\u001b[0m\u001b[0;34m.\u001b[0m\u001b[0mtime\u001b[0m\u001b[0;34m(\u001b[0m\u001b[0;34m)\u001b[0m \u001b[0;34m-\u001b[0m \u001b[0mself\u001b[0m\u001b[0;34m.\u001b[0m\u001b[0m_start_time\u001b[0m\u001b[0;34m\u001b[0m\u001b[0;34m\u001b[0m\u001b[0m\n",
      "\u001b[0;32m~/python_venvs/tennis/lib/python3.8/site-packages/joblib/parallel.py\u001b[0m in \u001b[0;36mretrieve\u001b[0;34m(self)\u001b[0m\n\u001b[1;32m    933\u001b[0m             \u001b[0;32mtry\u001b[0m\u001b[0;34m:\u001b[0m\u001b[0;34m\u001b[0m\u001b[0;34m\u001b[0m\u001b[0m\n\u001b[1;32m    934\u001b[0m                 \u001b[0;32mif\u001b[0m \u001b[0mgetattr\u001b[0m\u001b[0;34m(\u001b[0m\u001b[0mself\u001b[0m\u001b[0;34m.\u001b[0m\u001b[0m_backend\u001b[0m\u001b[0;34m,\u001b[0m \u001b[0;34m'supports_timeout'\u001b[0m\u001b[0;34m,\u001b[0m \u001b[0;32mFalse\u001b[0m\u001b[0;34m)\u001b[0m\u001b[0;34m:\u001b[0m\u001b[0;34m\u001b[0m\u001b[0;34m\u001b[0m\u001b[0m\n\u001b[0;32m--> 935\u001b[0;31m                     \u001b[0mself\u001b[0m\u001b[0;34m.\u001b[0m\u001b[0m_output\u001b[0m\u001b[0;34m.\u001b[0m\u001b[0mextend\u001b[0m\u001b[0;34m(\u001b[0m\u001b[0mjob\u001b[0m\u001b[0;34m.\u001b[0m\u001b[0mget\u001b[0m\u001b[0;34m(\u001b[0m\u001b[0mtimeout\u001b[0m\u001b[0;34m=\u001b[0m\u001b[0mself\u001b[0m\u001b[0;34m.\u001b[0m\u001b[0mtimeout\u001b[0m\u001b[0;34m)\u001b[0m\u001b[0;34m)\u001b[0m\u001b[0;34m\u001b[0m\u001b[0;34m\u001b[0m\u001b[0m\n\u001b[0m\u001b[1;32m    936\u001b[0m                 \u001b[0;32melse\u001b[0m\u001b[0;34m:\u001b[0m\u001b[0;34m\u001b[0m\u001b[0;34m\u001b[0m\u001b[0m\n\u001b[1;32m    937\u001b[0m                     \u001b[0mself\u001b[0m\u001b[0;34m.\u001b[0m\u001b[0m_output\u001b[0m\u001b[0;34m.\u001b[0m\u001b[0mextend\u001b[0m\u001b[0;34m(\u001b[0m\u001b[0mjob\u001b[0m\u001b[0;34m.\u001b[0m\u001b[0mget\u001b[0m\u001b[0;34m(\u001b[0m\u001b[0;34m)\u001b[0m\u001b[0;34m)\u001b[0m\u001b[0;34m\u001b[0m\u001b[0;34m\u001b[0m\u001b[0m\n",
      "\u001b[0;32m~/python_venvs/tennis/lib/python3.8/site-packages/joblib/_parallel_backends.py\u001b[0m in \u001b[0;36mwrap_future_result\u001b[0;34m(future, timeout)\u001b[0m\n\u001b[1;32m    540\u001b[0m         AsyncResults.get from multiprocessing.\"\"\"\n\u001b[1;32m    541\u001b[0m         \u001b[0;32mtry\u001b[0m\u001b[0;34m:\u001b[0m\u001b[0;34m\u001b[0m\u001b[0;34m\u001b[0m\u001b[0m\n\u001b[0;32m--> 542\u001b[0;31m             \u001b[0;32mreturn\u001b[0m \u001b[0mfuture\u001b[0m\u001b[0;34m.\u001b[0m\u001b[0mresult\u001b[0m\u001b[0;34m(\u001b[0m\u001b[0mtimeout\u001b[0m\u001b[0;34m=\u001b[0m\u001b[0mtimeout\u001b[0m\u001b[0;34m)\u001b[0m\u001b[0;34m\u001b[0m\u001b[0;34m\u001b[0m\u001b[0m\n\u001b[0m\u001b[1;32m    543\u001b[0m         \u001b[0;32mexcept\u001b[0m \u001b[0mCfTimeoutError\u001b[0m \u001b[0;32mas\u001b[0m \u001b[0me\u001b[0m\u001b[0;34m:\u001b[0m\u001b[0;34m\u001b[0m\u001b[0;34m\u001b[0m\u001b[0m\n\u001b[1;32m    544\u001b[0m             \u001b[0;32mraise\u001b[0m \u001b[0mTimeoutError\u001b[0m \u001b[0;32mfrom\u001b[0m \u001b[0me\u001b[0m\u001b[0;34m\u001b[0m\u001b[0;34m\u001b[0m\u001b[0m\n",
      "\u001b[0;32m/usr/lib/python3.8/concurrent/futures/_base.py\u001b[0m in \u001b[0;36mresult\u001b[0;34m(self, timeout)\u001b[0m\n\u001b[1;32m    437\u001b[0m                     \u001b[0;32mreturn\u001b[0m \u001b[0mself\u001b[0m\u001b[0;34m.\u001b[0m\u001b[0m__get_result\u001b[0m\u001b[0;34m(\u001b[0m\u001b[0;34m)\u001b[0m\u001b[0;34m\u001b[0m\u001b[0;34m\u001b[0m\u001b[0m\n\u001b[1;32m    438\u001b[0m \u001b[0;34m\u001b[0m\u001b[0m\n\u001b[0;32m--> 439\u001b[0;31m                 \u001b[0mself\u001b[0m\u001b[0;34m.\u001b[0m\u001b[0m_condition\u001b[0m\u001b[0;34m.\u001b[0m\u001b[0mwait\u001b[0m\u001b[0;34m(\u001b[0m\u001b[0mtimeout\u001b[0m\u001b[0;34m)\u001b[0m\u001b[0;34m\u001b[0m\u001b[0;34m\u001b[0m\u001b[0m\n\u001b[0m\u001b[1;32m    440\u001b[0m \u001b[0;34m\u001b[0m\u001b[0m\n\u001b[1;32m    441\u001b[0m                 \u001b[0;32mif\u001b[0m \u001b[0mself\u001b[0m\u001b[0;34m.\u001b[0m\u001b[0m_state\u001b[0m \u001b[0;32min\u001b[0m \u001b[0;34m[\u001b[0m\u001b[0mCANCELLED\u001b[0m\u001b[0;34m,\u001b[0m \u001b[0mCANCELLED_AND_NOTIFIED\u001b[0m\u001b[0;34m]\u001b[0m\u001b[0;34m:\u001b[0m\u001b[0;34m\u001b[0m\u001b[0;34m\u001b[0m\u001b[0m\n",
      "\u001b[0;32m/usr/lib/python3.8/threading.py\u001b[0m in \u001b[0;36mwait\u001b[0;34m(self, timeout)\u001b[0m\n\u001b[1;32m    300\u001b[0m         \u001b[0;32mtry\u001b[0m\u001b[0;34m:\u001b[0m    \u001b[0;31m# restore state no matter what (e.g., KeyboardInterrupt)\u001b[0m\u001b[0;34m\u001b[0m\u001b[0;34m\u001b[0m\u001b[0m\n\u001b[1;32m    301\u001b[0m             \u001b[0;32mif\u001b[0m \u001b[0mtimeout\u001b[0m \u001b[0;32mis\u001b[0m \u001b[0;32mNone\u001b[0m\u001b[0;34m:\u001b[0m\u001b[0;34m\u001b[0m\u001b[0;34m\u001b[0m\u001b[0m\n\u001b[0;32m--> 302\u001b[0;31m                 \u001b[0mwaiter\u001b[0m\u001b[0;34m.\u001b[0m\u001b[0macquire\u001b[0m\u001b[0;34m(\u001b[0m\u001b[0;34m)\u001b[0m\u001b[0;34m\u001b[0m\u001b[0;34m\u001b[0m\u001b[0m\n\u001b[0m\u001b[1;32m    303\u001b[0m                 \u001b[0mgotit\u001b[0m \u001b[0;34m=\u001b[0m \u001b[0;32mTrue\u001b[0m\u001b[0;34m\u001b[0m\u001b[0;34m\u001b[0m\u001b[0m\n\u001b[1;32m    304\u001b[0m             \u001b[0;32melse\u001b[0m\u001b[0;34m:\u001b[0m\u001b[0;34m\u001b[0m\u001b[0;34m\u001b[0m\u001b[0m\n",
      "\u001b[0;31mKeyboardInterrupt\u001b[0m: "
     ]
    }
   ],
   "source": [
    "from scipy import stats\n",
    "from sklearn.model_selection import KFold\n",
    "from sklearn.model_selection import RandomizedSearchCV\n",
    "import xgboost as xgb\n",
    "\n",
    "clf_xgb = xgb.XGBClassifier(objective = 'binary:logistic')\n",
    "param_dist = {'n_estimators': stats.randint(150, 1000),\n",
    "              'learning_rate': stats.uniform(0.01, 0.59),\n",
    "              'subsample': stats.uniform(0.3, 0.6),\n",
    "              'max_depth': [3, 4, 5, 6, 7, 8, 9],\n",
    "              'colsample_bytree': stats.uniform(0.5, 0.4),\n",
    "              'min_child_weight': [1, 2, 3, 4]\n",
    "             }\n",
    "\n",
    "numFolds = 5\n",
    "kfold_5 = KFold(n_splits=numFolds)\n",
    "\n",
    "clf = RandomizedSearchCV(clf_xgb, \n",
    "                         param_distributions = param_dist,\n",
    "                         cv = kfold_5,  \n",
    "                         n_iter = 5, # you want 5 here not 25 if I understand you correctly \n",
    "                         scoring = 'roc_auc', \n",
    "                         error_score = 0, \n",
    "                         verbose = 3, \n",
    "                         n_jobs = -1)\n",
    "\n",
    "clf.fit(X_train_scaled, y_train)\n"
   ]
  },
  {
   "cell_type": "code",
   "execution_count": null,
   "id": "681c3aaf-bb4a-4312-baeb-f16a74bb1f0a",
   "metadata": {},
   "outputs": [],
   "source": [
    "y_pred = clf.predict(X_test_scaled)\n",
    "print(classification_report(y_test, y_pred))"
   ]
  },
  {
   "cell_type": "markdown",
   "id": "db6cd3d9-9bd9-4e5a-9f59-205a3f34c4a9",
   "metadata": {},
   "source": [
    "### Try so autoML frameworks"
   ]
  },
  {
   "cell_type": "code",
   "execution_count": 3,
   "id": "850f1d0c-75b6-41e4-a5b5-8729a4d26162",
   "metadata": {},
   "outputs": [],
   "source": [
    "# ### not working on jupyter\n",
    "# import autosklearn.classification\n",
    "# cls = autosklearn.classificationcls.fit(X_train_scaled, y_train)\n",
    "# y_pred = cls.predict(X_test_scaled)\n",
    "# print(classification_report(y_test, y_pred))\n",
    "\n",
    "### not working on jupyter"
   ]
  },
  {
   "cell_type": "code",
   "execution_count": 31,
   "id": "8684bcda-d3cb-4b4d-98e1-5d711baedf75",
   "metadata": {},
   "outputs": [
    {
     "name": "stdout",
     "output_type": "stream",
     "text": [
      "              precision    recall  f1-score   support\n",
      "\n",
      "           0       0.87      0.95      0.91      2914\n",
      "           1       0.87      0.66      0.75      1283\n",
      "\n",
      "    accuracy                           0.87      4197\n",
      "   macro avg       0.87      0.81      0.83      4197\n",
      "weighted avg       0.87      0.87      0.86      4197\n",
      "\n"
     ]
    }
   ],
   "source": [
    "from sklearn.ensemble import RandomForestClassifier\n",
    "from sklearn.datasets import make_classification\n",
    "\n",
    "model = RandomForestClassifier(max_depth=2, random_state=0)\n",
    "model.fit(X_train_scaled, y_train)   # X_train_scaled, y_train\n",
    "y_pred = model.predict(X_test_scaled)\n",
    "print(classification_report(y_test, y_pred))"
   ]
  },
  {
   "cell_type": "code",
   "execution_count": 40,
   "id": "69860cd8-398a-42f7-a217-5c7e5e266b61",
   "metadata": {},
   "outputs": [
    {
     "name": "stdout",
     "output_type": "stream",
     "text": [
      "[0 0 0 ... 0 0 0]\n",
      "0.8744341196092447\n",
      "              precision    recall  f1-score   support\n",
      "\n",
      "           0       0.88      0.95      0.91      2914\n",
      "           1       0.87      0.70      0.77      1283\n",
      "\n",
      "    accuracy                           0.87      4197\n",
      "   macro avg       0.87      0.82      0.84      4197\n",
      "weighted avg       0.87      0.87      0.87      4197\n",
      "\n"
     ]
    }
   ],
   "source": [
    "\"\"\"\n",
    "X_train_scaled, y_train\n",
    "X_test_scaled, y_test\n",
    "\"\"\"\n",
    "\n",
    "import lightgbm as lgb\n",
    "from lightgbm import LGBMClassifier\n",
    " \n",
    "# Skipping Data Exploration\n",
    "# Dummification of Diagnosis Column (1-Benign, 0-Malignant Cancer)\n",
    "# data['diagnosis']= pd.get_dummies(data['diagnosis'])\n",
    " \n",
    "# Creating an object for model and fitting it on training data set\n",
    "model = LGBMClassifier()\n",
    "model.fit(X_train_scaled, y_train)\n",
    " \n",
    "# Predicting the Target variable\n",
    "pred = model.predict(X_test_scaled)\n",
    "print(pred)\n",
    "accuracy = model.score(X_test_scaled, y_test)\n",
    "print(accuracy)\n",
    "\n",
    "y_pred = model.predict(X_test_scaled)\n",
    "print(classification_report(y_test, y_pred))"
   ]
  },
  {
   "cell_type": "code",
   "execution_count": null,
   "id": "f69df14b-97c2-4f83-a796-c95b4af77549",
   "metadata": {},
   "outputs": [],
   "source": []
  }
 ],
 "metadata": {
  "kernelspec": {
   "display_name": "Python 3 (ipykernel)",
   "language": "python",
   "name": "python3"
  },
  "language_info": {
   "codemirror_mode": {
    "name": "ipython",
    "version": 3
   },
   "file_extension": ".py",
   "mimetype": "text/x-python",
   "name": "python",
   "nbconvert_exporter": "python",
   "pygments_lexer": "ipython3",
   "version": "3.8.10"
  }
 },
 "nbformat": 4,
 "nbformat_minor": 5
}
