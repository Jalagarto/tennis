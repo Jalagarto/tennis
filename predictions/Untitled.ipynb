{
 "cells": [
  {
   "cell_type": "code",
   "execution_count": 48,
   "id": "a200b672-53a1-455e-b77a-d13c475eb6b5",
   "metadata": {},
   "outputs": [
    {
     "name": "stdout",
     "output_type": "stream",
     "text": [
      "\n",
      "test_accuracy:  0.8929947760554937\n",
      "\n",
      "X_test_transformed: \n",
      " ['Sexo', 'setNumber', 'gameNumber', 'pointNumber', 'serveNumber', 'shotCount', '1º o 2º saque', 'Lado(1:Iguales;0:Ventaja)', 'DIRECCIÓN:1 abierto;2 al cuerpo;3 a la T', 'V (m/s)', 'timeHIT', 'X1', 'Y1', 'Y1(ABS)', 'Z1 (h)', 'timeNET', 'TimeN-TimeH', 'timeBounce', 'TimeB-TimeH', 'PreVx', 'PreVy', 'PreVz', 'PreV', 'PostVx', 'PostVy', 'PostVz', 'PostV', 'Dif. V1-V2', 'serve_class']\n",
      "\n",
      "describe rows:  ['count', 'mean', 'std', 'min', '25%', '50%', '75%', 'max']\n"
     ]
    }
   ],
   "source": [
    "from autogluon.tabular import TabularDataset, TabularPredictor\n",
    "import pandas as pd\n",
    "from sklearn.metrics import classification_report\n",
    "import time\n",
    "import numpy as np\n",
    "from autogluon.features.generators import AutoMLPipelineFeatureGenerator\n",
    "# pd.options.display.max_columns = None\n",
    "\n",
    "predictor = TabularPredictor.load('./AutogluonModels/final')\n",
    "\n",
    "# print(f\"\\n\\n training report: \")\n",
    "# predictor.fit_summary()\n",
    "# \n",
    "# print(f\"\\n\\n validation leaderboard: \")\n",
    "# predictor.leaderboard()\n",
    "\n",
    "# test_data = pd.read_csv('./AutogluonModels/test_data_gluon.csv')\n",
    "test_data = TabularDataset('test_data_gluon.csv')\n",
    "test_data.drop(columns='Unnamed: 0', inplace=True)\n",
    "\n",
    "train_data = TabularDataset('test_data_gluon.csv')\n",
    "train_data.drop(columns='Unnamed: 0', inplace=True)\n",
    "\n",
    "# y_pred = predictor.predict(test_data)\n",
    "\n",
    "# print(\"\\nEvaluation_with sklearn:\")\n",
    "# t = time.process_time()\n",
    "# y_pred = predictor.predict(test_data, model='LightGBM_BAG_L1')\n",
    "# cls_report = classification_report(test_data.Efectividad.values, y_pred, output_dict=True)\n",
    "# elapsed_time = time.process_time() - t\n",
    "# print(cls_report)\n",
    "\n",
    "test_acc = predictor.evaluate(test_data, model='NeuralNetTorch_DSTL')['accuracy']\n",
    "print('\\ntest_accuracy: ', test_acc)\n",
    "\n",
    "y_pred = predictor.predict_proba(test_data, model='NeuralNetTorch_DSTL', as_pandas=True, as_multiclass=True)\n",
    "\n",
    "# print(\"\\ny_pred: \\n\", y_pred)\n",
    "\n",
    "\n",
    "def get_simple_window(train_data, test_data):\n",
    "    \"\"\"\n",
    "    get a dicto with max-min values.\n",
    "    What if the values have some discontinuities?\n",
    "    show max min or even show a map\n",
    "    \"\"\"\n",
    "    # print(test_df.values)\n",
    "    feature_generator = AutoMLPipelineFeatureGenerator()\n",
    "    X_train = train_data.drop(labels=['Efectividad'], axis=1)\n",
    "    y_train = train_data['Efectividad']\n",
    "    X_train_transformed = feature_generator.fit_transform(X=X_train, y=y_train)\n",
    "    X_test_transformed = feature_generator.transform(test_data)\n",
    "    print('\\nX_test_transformed: \\n', list(X_test_transformed.columns))\n",
    "    d = X_test_transformed.describe()\n",
    "    print(\"\\ndescribe rows: \", list(d.index))\n",
    "    return d.loc[['min', '25%','50%','75%', 'max']]\n",
    "\n",
    "test_df_summary = get_simple_window(train_data, test_data)"
   ]
  },
  {
   "cell_type": "code",
   "execution_count": 52,
   "id": "6a1004c6-6be2-4f0c-ab9e-9aa2e65b2a5b",
   "metadata": {},
   "outputs": [
    {
     "data": {
      "text/plain": [
       "Sexo                                         0.000000\n",
       "setNumber                                    2.000000\n",
       "gameNumber                                   6.000000\n",
       "pointNumber                                  4.000000\n",
       "serveNumber                                  0.000000\n",
       "shotCount                                    2.000000\n",
       "1º o 2º saque                                0.000000\n",
       "Lado(1:Iguales;0:Ventaja)                    1.000000\n",
       "DIRECCIÓN:1 abierto;2 al cuerpo;3 a la T     2.000000\n",
       "V (m/s)                                     46.730000\n",
       "timeHIT                                      1.010000\n",
       "X1                                         -10.918000\n",
       "Y1                                          -0.035000\n",
       "Y1(ABS)                                      1.785000\n",
       "Z1 (h)                                       2.817000\n",
       "timeNET                                      1.305000\n",
       "TimeN-TimeH                                  0.285000\n",
       "timeBounce                                   1.465000\n",
       "TimeB-TimeH                                  0.437000\n",
       "PreVx                                       18.299000\n",
       "PreVy                                        0.049500\n",
       "PreVz                                       -7.888000\n",
       "PreV                                        33.129408\n",
       "PostVx                                       8.352500\n",
       "PostVy                                      -0.027500\n",
       "PostVz                                       6.532000\n",
       "PostV                                       24.668518\n",
       "Dif. V1-V2                                   8.608002\n",
       "Name: 50%, dtype: float64"
      ]
     },
     "execution_count": 52,
     "metadata": {},
     "output_type": "execute_result"
    }
   ],
   "source": [
    "test_df_summary.loc['50%']"
   ]
  },
  {
   "cell_type": "code",
   "execution_count": 76,
   "id": "91431c1c-f715-4c54-a3b3-306c3dbd91db",
   "metadata": {},
   "outputs": [
    {
     "data": {
      "application/vnd.jupyter.widget-view+json": {
       "model_id": "90eed56f325c4a4594f0324a25caa16f",
       "version_major": 2,
       "version_minor": 0
      },
      "text/plain": [
       "interactive(children=(SelectionSlider(description='serve_class', index=1, options=('NOT RETURNED', 'RETURNED',…"
      ]
     },
     "metadata": {},
     "output_type": "display_data"
    }
   ],
   "source": [
    "from ipywidgets import *\n",
    "\n",
    "def update(serve_class, shotCount, saque, gameNumber, Lado,pointNumber,\n",
    "           PostVx, Z1_h, V_ms, timeHIT, PreVz):\n",
    "    d = dict(test_df_summary.loc['50%'])\n",
    "    # print(d)\n",
    "    d['serve_class']=serve_class\n",
    "    d['shotCount']=shotCount\n",
    "    d['1º o 2º saque'] = saque\n",
    "    d['gameNumber'] = gameNumber\n",
    "    d['Lado(1:Iguales;0:Ventaja)'] = Lado\n",
    "    d['pointNumber'] = pointNumber\n",
    "    d['PostVx'] = PostVx\n",
    "    d['Z1 (h)'] = Z1_h\n",
    "    d['V (m/s)'] = V_ms\n",
    "    d['timeHIT'] = timeHIT\n",
    "    d['PreVz'] = PreVz\n",
    "    df = pd.DataFrame(d, index=[0])\n",
    "    y_pred = predictor.predict_proba(df, model='NeuralNetTorch_DSTL', as_pandas=True, as_multiclass=True)\n",
    "    print(\"Efectividad: \", y_pred.values[0][1])   \n",
    "\n",
    "\n",
    "interact(\n",
    "    update, serve_class= widgets.SelectionSlider(options=['NOT RETURNED', 'RETURNED', 'FAULT', 'ACE'],                                            \n",
    "                                    value='RETURNED'), \n",
    "    shotCount= widgets.IntSlider(value=4, min=1, max=12, step=1),\n",
    "    saque=widgets.IntSlider(value=0, min=0, max=1, step=1),\n",
    "    gameNumber=widgets.IntSlider(value=6, min=1, max=12, step=1),\n",
    "    Lado=widgets.IntSlider(value=0, min=0, max=1, step=1),\n",
    "    pointNumber=widgets.IntSlider(value=4, min=1, max=10, step=1),\n",
    "    PostVx=widgets.IntSlider(value=8, min=-49, max=45, step=5),\n",
    "    Z1_h=widgets.FloatSlider(value=2.8, min=1.5, max=4.4, step=0.1),\n",
    "    V_ms=widgets.IntSlider(value=46, min=21, max=64, step=5),\n",
    "    timeHIT=widgets.IntSlider(value=1, min=0, max=9, step=1),\n",
    "    PreVz=widgets.FloatSlider(value=-7.8, min=-10.5, max=-2.8, step=0.1)        \n",
    "        );"
   ]
  },
  {
   "cell_type": "code",
   "execution_count": null,
   "id": "4cd804e1-cac1-4f0c-be29-2c59dbd4c98a",
   "metadata": {},
   "outputs": [],
   "source": [
    "\"\"\"\n",
    "'serve_class': ['NOT RETURNED', 'RETURNED', 'FAULT', 'ACE'],\n",
    "'shotCount':[1,2,4,8,12],\n",
    "'1º o 2º saque':[0,1],\n",
    "'gameNumber' :[1,3,6,8,12],\n",
    "'Lado(1:Iguales;0:Ventaja)' :[0,1],\n",
    "'pointNumber':[1,2,4,5,10],\n",
    "'PostVx' :[-49, -20, 8, 22, 45],\n",
    "'Z1 (h)' :[1.5, 2.7, 2.8, 2.9, 4.4],\n",
    "'V (m/s)' :[21, 42, 46, 51, 64],\n",
    "'timeHIT' :[0,0.65,1,2,9],\n",
    "'PreVz' :[-10.5, -8.2,-7.8,-7.4,-2.8]\n",
    "\"\"\""
   ]
  }
 ],
 "metadata": {
  "kernelspec": {
   "display_name": "Python 3 (ipykernel)",
   "language": "python",
   "name": "python3"
  },
  "language_info": {
   "codemirror_mode": {
    "name": "ipython",
    "version": 3
   },
   "file_extension": ".py",
   "mimetype": "text/x-python",
   "name": "python",
   "nbconvert_exporter": "python",
   "pygments_lexer": "ipython3",
   "version": "3.8.10"
  }
 },
 "nbformat": 4,
 "nbformat_minor": 5
}
