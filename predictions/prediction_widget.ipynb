{
 "cells": [
  {
   "cell_type": "code",
   "execution_count": 2,
   "id": "a200b672-53a1-455e-b77a-d13c475eb6b5",
   "metadata": {},
   "outputs": [
    {
     "name": "stderr",
     "output_type": "stream",
     "text": [
      "\n",
      "############################## WARNING ##############################\n",
      "WARNING: AutoGluon version differs from the version used to create the predictor! This may lead to instability and it is highly recommended the predictor be loaded with the exact AutoGluon version it was created with.\n",
      "\tPredictor Version: 0.4.1b20220430\n",
      "\tCurrent Version:   0.5.2\n",
      "############################## WARNING ##############################\n",
      "\n"
     ]
    },
    {
     "ename": "KeyError",
     "evalue": "\"28 required columns are missing from the provided dataset to transform using AutoMLPipelineFeatureGenerator. Missing columns: ['Sexo', 'setNumber', 'gameNumber', 'pointNumber', 'serveNumber', 'shotCount', '1º o 2º saque', 'serve_class', 'Lado(1:Iguales;0:Ventaja)', 'V (m/s)', 'timeHIT', 'X1', 'Y1', 'Y1(ABS)', 'Z1 (h)', 'timeNET', 'TimeN-TimeH', 'timeBounce', 'TimeB-TimeH', 'PreVx', 'PreVy', 'PreVz', 'PreV', 'PostVx', 'PostVy', 'PostVz', 'PostV', 'Dif. V1-V2']\"",
     "output_type": "error",
     "traceback": [
      "\u001b[0;31m---------------------------------------------------------------------------\u001b[0m",
      "\u001b[0;31mKeyError\u001b[0m                                  Traceback (most recent call last)",
      "File \u001b[0;32m~/pyenvs/tennis/lib/python3.8/site-packages/autogluon/features/generators/abstract.py:303\u001b[0m, in \u001b[0;36mAbstractFeatureGenerator.transform\u001b[0;34m(self, X)\u001b[0m\n\u001b[1;32m    302\u001b[0m \u001b[38;5;28;01mtry\u001b[39;00m:\n\u001b[0;32m--> 303\u001b[0m     X \u001b[38;5;241m=\u001b[39m \u001b[43mX\u001b[49m\u001b[43m[\u001b[49m\u001b[38;5;28;43mself\u001b[39;49m\u001b[38;5;241;43m.\u001b[39;49m\u001b[43mfeatures_in\u001b[49m\u001b[43m]\u001b[49m\n\u001b[1;32m    304\u001b[0m \u001b[38;5;28;01mexcept\u001b[39;00m \u001b[38;5;167;01mKeyError\u001b[39;00m:\n",
      "File \u001b[0;32m~/pyenvs/tennis/lib/python3.8/site-packages/pandas/core/frame.py:2912\u001b[0m, in \u001b[0;36mDataFrame.__getitem__\u001b[0;34m(self, key)\u001b[0m\n\u001b[1;32m   2911\u001b[0m         key \u001b[38;5;241m=\u001b[39m \u001b[38;5;28mlist\u001b[39m(key)\n\u001b[0;32m-> 2912\u001b[0m     indexer \u001b[38;5;241m=\u001b[39m \u001b[38;5;28;43mself\u001b[39;49m\u001b[38;5;241;43m.\u001b[39;49m\u001b[43mloc\u001b[49m\u001b[38;5;241;43m.\u001b[39;49m\u001b[43m_get_listlike_indexer\u001b[49m\u001b[43m(\u001b[49m\u001b[43mkey\u001b[49m\u001b[43m,\u001b[49m\u001b[43m \u001b[49m\u001b[43maxis\u001b[49m\u001b[38;5;241;43m=\u001b[39;49m\u001b[38;5;241;43m1\u001b[39;49m\u001b[43m,\u001b[49m\u001b[43m \u001b[49m\u001b[43mraise_missing\u001b[49m\u001b[38;5;241;43m=\u001b[39;49m\u001b[38;5;28;43;01mTrue\u001b[39;49;00m\u001b[43m)\u001b[49m[\u001b[38;5;241m1\u001b[39m]\n\u001b[1;32m   2914\u001b[0m \u001b[38;5;66;03m# take() does not accept boolean indexers\u001b[39;00m\n",
      "File \u001b[0;32m~/pyenvs/tennis/lib/python3.8/site-packages/pandas/core/indexing.py:1254\u001b[0m, in \u001b[0;36m_LocIndexer._get_listlike_indexer\u001b[0;34m(self, key, axis, raise_missing)\u001b[0m\n\u001b[1;32m   1252\u001b[0m     keyarr, indexer, new_indexer \u001b[38;5;241m=\u001b[39m ax\u001b[38;5;241m.\u001b[39m_reindex_non_unique(keyarr)\n\u001b[0;32m-> 1254\u001b[0m \u001b[38;5;28;43mself\u001b[39;49m\u001b[38;5;241;43m.\u001b[39;49m\u001b[43m_validate_read_indexer\u001b[49m\u001b[43m(\u001b[49m\u001b[43mkeyarr\u001b[49m\u001b[43m,\u001b[49m\u001b[43m \u001b[49m\u001b[43mindexer\u001b[49m\u001b[43m,\u001b[49m\u001b[43m \u001b[49m\u001b[43maxis\u001b[49m\u001b[43m,\u001b[49m\u001b[43m \u001b[49m\u001b[43mraise_missing\u001b[49m\u001b[38;5;241;43m=\u001b[39;49m\u001b[43mraise_missing\u001b[49m\u001b[43m)\u001b[49m\n\u001b[1;32m   1255\u001b[0m \u001b[38;5;28;01mreturn\u001b[39;00m keyarr, indexer\n",
      "File \u001b[0;32m~/pyenvs/tennis/lib/python3.8/site-packages/pandas/core/indexing.py:1304\u001b[0m, in \u001b[0;36m_LocIndexer._validate_read_indexer\u001b[0;34m(self, key, indexer, axis, raise_missing)\u001b[0m\n\u001b[1;32m   1303\u001b[0m     not_found \u001b[38;5;241m=\u001b[39m \u001b[38;5;28mlist\u001b[39m(\u001b[38;5;28mset\u001b[39m(key) \u001b[38;5;241m-\u001b[39m \u001b[38;5;28mset\u001b[39m(ax))\n\u001b[0;32m-> 1304\u001b[0m     \u001b[38;5;28;01mraise\u001b[39;00m \u001b[38;5;167;01mKeyError\u001b[39;00m(\u001b[38;5;124mf\u001b[39m\u001b[38;5;124m\"\u001b[39m\u001b[38;5;132;01m{\u001b[39;00mnot_found\u001b[38;5;132;01m}\u001b[39;00m\u001b[38;5;124m not in index\u001b[39m\u001b[38;5;124m\"\u001b[39m)\n\u001b[1;32m   1306\u001b[0m \u001b[38;5;66;03m# we skip the warning on Categorical\u001b[39;00m\n\u001b[1;32m   1307\u001b[0m \u001b[38;5;66;03m# as this check is actually done (check for\u001b[39;00m\n\u001b[1;32m   1308\u001b[0m \u001b[38;5;66;03m# non-missing values), but a bit later in the\u001b[39;00m\n\u001b[1;32m   1309\u001b[0m \u001b[38;5;66;03m# code, so we want to avoid warning & then\u001b[39;00m\n\u001b[1;32m   1310\u001b[0m \u001b[38;5;66;03m# just raising\u001b[39;00m\n",
      "\u001b[0;31mKeyError\u001b[0m: \"['shotCount', '1º o 2º saque', 'timeNET', 'Sexo', 'V (m/s)', 'Lado(1:Iguales;0:Ventaja)', 'Z1 (h)', 'gameNumber', 'timeBounce', 'Dif. V1-V2', 'timeHIT', 'PostVy', 'PreVx', 'PostVx', 'pointNumber', 'PreV', 'TimeB-TimeH', 'Y1(ABS)', 'PreVy', 'setNumber', 'X1', 'TimeN-TimeH', 'PreVz', 'serveNumber', 'serve_class', 'Y1', 'PostV', 'PostVz'] not in index\"",
      "\nDuring handling of the above exception, another exception occurred:\n",
      "\u001b[0;31mKeyError\u001b[0m                                  Traceback (most recent call last)",
      "Input \u001b[0;32mIn [2]\u001b[0m, in \u001b[0;36m<cell line: 33>\u001b[0;34m()\u001b[0m\n\u001b[1;32m     22\u001b[0m train_data\u001b[38;5;241m.\u001b[39mdrop(columns\u001b[38;5;241m=\u001b[39m\u001b[38;5;124m'\u001b[39m\u001b[38;5;124mUnnamed: 0\u001b[39m\u001b[38;5;124m'\u001b[39m, inplace\u001b[38;5;241m=\u001b[39m\u001b[38;5;28;01mTrue\u001b[39;00m)\n\u001b[1;32m     24\u001b[0m \u001b[38;5;66;03m# y_pred = predictor.predict(test_data)\u001b[39;00m\n\u001b[1;32m     25\u001b[0m \n\u001b[1;32m     26\u001b[0m \u001b[38;5;66;03m# print(\"\\nEvaluation_with sklearn:\")\u001b[39;00m\n\u001b[0;32m   (...)\u001b[0m\n\u001b[1;32m     30\u001b[0m \u001b[38;5;66;03m# elapsed_time = time.process_time() - t\u001b[39;00m\n\u001b[1;32m     31\u001b[0m \u001b[38;5;66;03m# print(cls_report)\u001b[39;00m\n\u001b[0;32m---> 33\u001b[0m test_acc \u001b[38;5;241m=\u001b[39m \u001b[43mpredictor\u001b[49m\u001b[38;5;241;43m.\u001b[39;49m\u001b[43mevaluate\u001b[49m\u001b[43m(\u001b[49m\u001b[43mtest_data\u001b[49m\u001b[43m,\u001b[49m\u001b[43m \u001b[49m\u001b[43mmodel\u001b[49m\u001b[38;5;241;43m=\u001b[39;49m\u001b[38;5;124;43m'\u001b[39;49m\u001b[38;5;124;43mNeuralNetTorch_DSTL\u001b[39;49m\u001b[38;5;124;43m'\u001b[39;49m\u001b[43m)\u001b[49m[\u001b[38;5;124m'\u001b[39m\u001b[38;5;124maccuracy\u001b[39m\u001b[38;5;124m'\u001b[39m]\n\u001b[1;32m     34\u001b[0m \u001b[38;5;28mprint\u001b[39m(\u001b[38;5;124m'\u001b[39m\u001b[38;5;130;01m\\n\u001b[39;00m\u001b[38;5;124mtest_accuracy: \u001b[39m\u001b[38;5;124m'\u001b[39m, test_acc)\n\u001b[1;32m     36\u001b[0m y_pred \u001b[38;5;241m=\u001b[39m predictor\u001b[38;5;241m.\u001b[39mpredict_proba(test_data, model\u001b[38;5;241m=\u001b[39m\u001b[38;5;124m'\u001b[39m\u001b[38;5;124mNeuralNetTorch_DSTL\u001b[39m\u001b[38;5;124m'\u001b[39m, as_pandas\u001b[38;5;241m=\u001b[39m\u001b[38;5;28;01mTrue\u001b[39;00m, as_multiclass\u001b[38;5;241m=\u001b[39m\u001b[38;5;28;01mTrue\u001b[39;00m)\n",
      "File \u001b[0;32m~/pyenvs/tennis/lib/python3.8/site-packages/autogluon/tabular/predictor/predictor.py:1452\u001b[0m, in \u001b[0;36mTabularPredictor.evaluate\u001b[0;34m(self, data, model, silent, auxiliary_metrics, detailed_report)\u001b[0m\n\u001b[1;32m   1450\u001b[0m \u001b[38;5;28mself\u001b[39m\u001b[38;5;241m.\u001b[39m_assert_is_fit(\u001b[38;5;124m'\u001b[39m\u001b[38;5;124mevaluate\u001b[39m\u001b[38;5;124m'\u001b[39m)\n\u001b[1;32m   1451\u001b[0m data \u001b[38;5;241m=\u001b[39m \u001b[38;5;28mself\u001b[39m\u001b[38;5;241m.\u001b[39m__get_dataset(data)\n\u001b[0;32m-> 1452\u001b[0m y_pred_proba \u001b[38;5;241m=\u001b[39m \u001b[38;5;28;43mself\u001b[39;49m\u001b[38;5;241;43m.\u001b[39;49m\u001b[43mpredict_proba\u001b[49m\u001b[43m(\u001b[49m\u001b[43mdata\u001b[49m\u001b[38;5;241;43m=\u001b[39;49m\u001b[43mdata\u001b[49m\u001b[43m,\u001b[49m\u001b[43m \u001b[49m\u001b[43mmodel\u001b[49m\u001b[38;5;241;43m=\u001b[39;49m\u001b[43mmodel\u001b[49m\u001b[43m)\u001b[49m\n\u001b[1;32m   1453\u001b[0m \u001b[38;5;28;01mif\u001b[39;00m \u001b[38;5;28mself\u001b[39m\u001b[38;5;241m.\u001b[39msample_weight \u001b[38;5;129;01mis\u001b[39;00m \u001b[38;5;129;01mnot\u001b[39;00m \u001b[38;5;28;01mNone\u001b[39;00m \u001b[38;5;129;01mand\u001b[39;00m \u001b[38;5;28mself\u001b[39m\u001b[38;5;241m.\u001b[39mweight_evaluation \u001b[38;5;129;01mand\u001b[39;00m \u001b[38;5;28mself\u001b[39m\u001b[38;5;241m.\u001b[39msample_weight \u001b[38;5;129;01min\u001b[39;00m data:\n\u001b[1;32m   1454\u001b[0m     sample_weight \u001b[38;5;241m=\u001b[39m data[\u001b[38;5;28mself\u001b[39m\u001b[38;5;241m.\u001b[39msample_weight]\n",
      "File \u001b[0;32m~/pyenvs/tennis/lib/python3.8/site-packages/autogluon/tabular/predictor/predictor.py:1421\u001b[0m, in \u001b[0;36mTabularPredictor.predict_proba\u001b[0;34m(self, data, model, as_pandas, as_multiclass, transform_features)\u001b[0m\n\u001b[1;32m   1419\u001b[0m \u001b[38;5;28mself\u001b[39m\u001b[38;5;241m.\u001b[39m_assert_is_fit(\u001b[38;5;124m'\u001b[39m\u001b[38;5;124mpredict_proba\u001b[39m\u001b[38;5;124m'\u001b[39m)\n\u001b[1;32m   1420\u001b[0m data \u001b[38;5;241m=\u001b[39m \u001b[38;5;28mself\u001b[39m\u001b[38;5;241m.\u001b[39m__get_dataset(data)\n\u001b[0;32m-> 1421\u001b[0m \u001b[38;5;28;01mreturn\u001b[39;00m \u001b[38;5;28;43mself\u001b[39;49m\u001b[38;5;241;43m.\u001b[39;49m\u001b[43m_learner\u001b[49m\u001b[38;5;241;43m.\u001b[39;49m\u001b[43mpredict_proba\u001b[49m\u001b[43m(\u001b[49m\u001b[43mX\u001b[49m\u001b[38;5;241;43m=\u001b[39;49m\u001b[43mdata\u001b[49m\u001b[43m,\u001b[49m\u001b[43m \u001b[49m\u001b[43mmodel\u001b[49m\u001b[38;5;241;43m=\u001b[39;49m\u001b[43mmodel\u001b[49m\u001b[43m,\u001b[49m\u001b[43m \u001b[49m\u001b[43mas_pandas\u001b[49m\u001b[38;5;241;43m=\u001b[39;49m\u001b[43mas_pandas\u001b[49m\u001b[43m,\u001b[49m\u001b[43m \u001b[49m\u001b[43mas_multiclass\u001b[49m\u001b[38;5;241;43m=\u001b[39;49m\u001b[43mas_multiclass\u001b[49m\u001b[43m,\u001b[49m\u001b[43m \u001b[49m\u001b[43mtransform_features\u001b[49m\u001b[38;5;241;43m=\u001b[39;49m\u001b[43mtransform_features\u001b[49m\u001b[43m)\u001b[49m\n",
      "File \u001b[0;32m~/pyenvs/tennis/lib/python3.8/site-packages/autogluon/tabular/learner/abstract_learner.py:133\u001b[0m, in \u001b[0;36mAbstractTabularLearner.predict_proba\u001b[0;34m(self, X, model, as_pandas, as_multiclass, inverse_transform, transform_features)\u001b[0m\n\u001b[1;32m    131\u001b[0m \u001b[38;5;28;01melse\u001b[39;00m:\n\u001b[1;32m    132\u001b[0m     \u001b[38;5;28;01mif\u001b[39;00m transform_features:\n\u001b[0;32m--> 133\u001b[0m         X \u001b[38;5;241m=\u001b[39m \u001b[38;5;28;43mself\u001b[39;49m\u001b[38;5;241;43m.\u001b[39;49m\u001b[43mtransform_features\u001b[49m\u001b[43m(\u001b[49m\u001b[43mX\u001b[49m\u001b[43m)\u001b[49m\n\u001b[1;32m    134\u001b[0m     y_pred_proba \u001b[38;5;241m=\u001b[39m \u001b[38;5;28mself\u001b[39m\u001b[38;5;241m.\u001b[39mload_trainer()\u001b[38;5;241m.\u001b[39mpredict_proba(X, model\u001b[38;5;241m=\u001b[39mmodel)\n\u001b[1;32m    135\u001b[0m \u001b[38;5;28;01mif\u001b[39;00m inverse_transform:\n",
      "File \u001b[0;32m~/pyenvs/tennis/lib/python3.8/site-packages/autogluon/tabular/learner/abstract_learner.py:255\u001b[0m, in \u001b[0;36mAbstractTabularLearner.transform_features\u001b[0;34m(self, X)\u001b[0m\n\u001b[1;32m    253\u001b[0m \u001b[38;5;28;01mdef\u001b[39;00m \u001b[38;5;21mtransform_features\u001b[39m(\u001b[38;5;28mself\u001b[39m, X):\n\u001b[1;32m    254\u001b[0m     \u001b[38;5;28;01mfor\u001b[39;00m feature_generator \u001b[38;5;129;01min\u001b[39;00m \u001b[38;5;28mself\u001b[39m\u001b[38;5;241m.\u001b[39mfeature_generators:\n\u001b[0;32m--> 255\u001b[0m         X \u001b[38;5;241m=\u001b[39m \u001b[43mfeature_generator\u001b[49m\u001b[38;5;241;43m.\u001b[39;49m\u001b[43mtransform\u001b[49m\u001b[43m(\u001b[49m\u001b[43mX\u001b[49m\u001b[43m)\u001b[49m\n\u001b[1;32m    256\u001b[0m     \u001b[38;5;28;01mreturn\u001b[39;00m X\n",
      "File \u001b[0;32m~/pyenvs/tennis/lib/python3.8/site-packages/autogluon/features/generators/abstract.py:309\u001b[0m, in \u001b[0;36mAbstractFeatureGenerator.transform\u001b[0;34m(self, X)\u001b[0m\n\u001b[1;32m    307\u001b[0m         \u001b[38;5;28;01mif\u001b[39;00m col \u001b[38;5;129;01mnot\u001b[39;00m \u001b[38;5;129;01min\u001b[39;00m X\u001b[38;5;241m.\u001b[39mcolumns:\n\u001b[1;32m    308\u001b[0m             missing_cols\u001b[38;5;241m.\u001b[39mappend(col)\n\u001b[0;32m--> 309\u001b[0m     \u001b[38;5;28;01mraise\u001b[39;00m \u001b[38;5;167;01mKeyError\u001b[39;00m(\u001b[38;5;124mf\u001b[39m\u001b[38;5;124m'\u001b[39m\u001b[38;5;132;01m{\u001b[39;00m\u001b[38;5;28mlen\u001b[39m(missing_cols)\u001b[38;5;132;01m}\u001b[39;00m\u001b[38;5;124m required columns are missing from the provided dataset to transform using \u001b[39m\u001b[38;5;132;01m{\u001b[39;00m\u001b[38;5;28mself\u001b[39m\u001b[38;5;241m.\u001b[39m\u001b[38;5;18m__class__\u001b[39m\u001b[38;5;241m.\u001b[39m\u001b[38;5;18m__name__\u001b[39m\u001b[38;5;132;01m}\u001b[39;00m\u001b[38;5;124m. Missing columns: \u001b[39m\u001b[38;5;132;01m{\u001b[39;00mmissing_cols\u001b[38;5;132;01m}\u001b[39;00m\u001b[38;5;124m'\u001b[39m)\n\u001b[1;32m    310\u001b[0m \u001b[38;5;28;01mif\u001b[39;00m \u001b[38;5;28mself\u001b[39m\u001b[38;5;241m.\u001b[39m_pre_astype_generator:\n\u001b[1;32m    311\u001b[0m     X \u001b[38;5;241m=\u001b[39m \u001b[38;5;28mself\u001b[39m\u001b[38;5;241m.\u001b[39m_pre_astype_generator\u001b[38;5;241m.\u001b[39mtransform(X)\n",
      "\u001b[0;31mKeyError\u001b[0m: \"28 required columns are missing from the provided dataset to transform using AutoMLPipelineFeatureGenerator. Missing columns: ['Sexo', 'setNumber', 'gameNumber', 'pointNumber', 'serveNumber', 'shotCount', '1º o 2º saque', 'serve_class', 'Lado(1:Iguales;0:Ventaja)', 'V (m/s)', 'timeHIT', 'X1', 'Y1', 'Y1(ABS)', 'Z1 (h)', 'timeNET', 'TimeN-TimeH', 'timeBounce', 'TimeB-TimeH', 'PreVx', 'PreVy', 'PreVz', 'PreV', 'PostVx', 'PostVy', 'PostVz', 'PostV', 'Dif. V1-V2']\""
     ]
    }
   ],
   "source": [
    "from autogluon.tabular import TabularDataset, TabularPredictor\n",
    "import pandas as pd\n",
    "from sklearn.metrics import classification_report\n",
    "import time\n",
    "import numpy as np\n",
    "from autogluon.features.generators import AutoMLPipelineFeatureGenerator\n",
    "# pd.options.display.max_columns = None\n",
    "\n",
    "predictor = TabularPredictor.load('./AutogluonModels/final', require_version_match=False)\n",
    "\n",
    "# print(f\"\\n\\n training report: \")\n",
    "# predictor.fit_summary()\n",
    "# \n",
    "# print(f\"\\n\\n validation leaderboard: \")\n",
    "# predictor.leaderboard()\n",
    "\n",
    "# test_data = pd.read_csv('./AutogluonModels/test_data_gluon.csv')\n",
    "test_data = TabularDataset('test_data_gluon.csv')\n",
    "test_data.drop(columns='Unnamed: 0', inplace=True)\n",
    "\n",
    "train_data = TabularDataset('test_data_gluon.csv')\n",
    "train_data.drop(columns='Unnamed: 0', inplace=True)\n",
    "\n",
    "# y_pred = predictor.predict(test_data)\n",
    "\n",
    "# print(\"\\nEvaluation_with sklearn:\")\n",
    "# t = time.process_time()\n",
    "# y_pred = predictor.predict(test_data, model='LightGBM_BAG_L1')\n",
    "# cls_report = classification_report(test_data.Efectividad.values, y_pred, output_dict=True)\n",
    "# elapsed_time = time.process_time() - t\n",
    "# print(cls_report)\n",
    "\n",
    "test_acc = predictor.evaluate(test_data, model='NeuralNetTorch_DSTL')['accuracy']\n",
    "print('\\ntest_accuracy: ', test_acc)\n",
    "\n",
    "y_pred = predictor.predict_proba(test_data, model='NeuralNetTorch_DSTL', as_pandas=True, as_multiclass=True)\n",
    "\n",
    "# print(\"\\ny_pred: \\n\", y_pred)\n",
    "\n",
    "\n",
    "def get_simple_window(train_data, test_data):\n",
    "    \"\"\"\n",
    "    get a dicto with max-min values.\n",
    "    What if the values have some discontinuities?\n",
    "    show max min or even show a map\n",
    "    \"\"\"\n",
    "    # print(test_df.values)\n",
    "    feature_generator = AutoMLPipelineFeatureGenerator()\n",
    "    X_train = train_data.drop(labels=['Efectividad'], axis=1)\n",
    "    y_train = train_data['Efectividad']\n",
    "    X_train_transformed = feature_generator.fit_transform(X=X_train, y=y_train)\n",
    "    X_test_transformed = feature_generator.transform(test_data)\n",
    "    print('\\nX_test_transformed: \\n', list(X_test_transformed.columns))\n",
    "    d = X_test_transformed.describe()\n",
    "    print(\"\\ndescribe rows: \", list(d.index))\n",
    "    return d.loc[['min', '25%','50%','75%', 'max']]\n",
    "\n",
    "test_df_summary = get_simple_window(train_data, test_data)"
   ]
  },
  {
   "cell_type": "code",
   "execution_count": 2,
   "id": "6a1004c6-6be2-4f0c-ab9e-9aa2e65b2a5b",
   "metadata": {},
   "outputs": [
    {
     "data": {
      "text/plain": [
       "Sexo                                         0.000000\n",
       "setNumber                                    2.000000\n",
       "gameNumber                                   6.000000\n",
       "pointNumber                                  4.000000\n",
       "serveNumber                                  0.000000\n",
       "shotCount                                    2.000000\n",
       "1º o 2º saque                                0.000000\n",
       "Lado(1:Iguales;0:Ventaja)                    1.000000\n",
       "DIRECCIÓN:1 abierto;2 al cuerpo;3 a la T     2.000000\n",
       "V (m/s)                                     46.730000\n",
       "timeHIT                                      1.010000\n",
       "X1                                         -10.918000\n",
       "Y1                                          -0.035000\n",
       "Y1(ABS)                                      1.785000\n",
       "Z1 (h)                                       2.817000\n",
       "timeNET                                      1.305000\n",
       "TimeN-TimeH                                  0.285000\n",
       "timeBounce                                   1.465000\n",
       "TimeB-TimeH                                  0.437000\n",
       "PreVx                                       18.299000\n",
       "PreVy                                        0.049500\n",
       "PreVz                                       -7.888000\n",
       "PreV                                        33.129408\n",
       "PostVx                                       8.352500\n",
       "PostVy                                      -0.027500\n",
       "PostVz                                       6.532000\n",
       "PostV                                       24.668518\n",
       "Dif. V1-V2                                   8.608002\n",
       "Name: 50%, dtype: float64"
      ]
     },
     "execution_count": 2,
     "metadata": {},
     "output_type": "execute_result"
    }
   ],
   "source": [
    "test_df_summary.loc['50%']"
   ]
  },
  {
   "cell_type": "code",
   "execution_count": 5,
   "id": "91431c1c-f715-4c54-a3b3-306c3dbd91db",
   "metadata": {},
   "outputs": [
    {
     "data": {
      "application/vnd.jupyter.widget-view+json": {
       "model_id": "76fab6fe04b3403b9977204b4fcca43a",
       "version_major": 2,
       "version_minor": 0
      },
      "text/plain": [
       "interactive(children=(SelectionSlider(description='serve_class', index=1, options=('NOT RETURNED', 'RETURNED',…"
      ]
     },
     "metadata": {},
     "output_type": "display_data"
    }
   ],
   "source": [
    "from ipywidgets import *\n",
    "\n",
    "def update(serve_class, shotCount, saque, gameNumber, Lado,pointNumber,\n",
    "           PostVx, Z1_h, V_ms, timeHIT, PreVz):\n",
    "    d = dict(test_df_summary.loc['50%'])\n",
    "    # print(d)\n",
    "    d['serve_class']=serve_class\n",
    "    d['shotCount']=shotCount\n",
    "    d['1º o 2º saque'] = saque\n",
    "    d['gameNumber'] = gameNumber\n",
    "    d['Lado(1:Iguales;0:Ventaja)'] = Lado\n",
    "    d['pointNumber'] = pointNumber\n",
    "    d['PostVx'] = PostVx\n",
    "    d['Z1 (h)'] = Z1_h\n",
    "    d['V (m/s)'] = V_ms\n",
    "    d['timeHIT'] = timeHIT\n",
    "    d['PreVz'] = PreVz\n",
    "    df = pd.DataFrame(d, index=[0])\n",
    "    y_pred = predictor.predict_proba(df, model='NeuralNetTorch_DSTL', as_pandas=True, as_multiclass=True)\n",
    "    print(\"Efectividad: \", y_pred.values[0][1])   \n",
    "\n",
    "\n",
    "interact(\n",
    "    update, serve_class= widgets.SelectionSlider(options=['NOT RETURNED', 'RETURNED', 'FAULT', 'ACE'],                                            \n",
    "                                    value='RETURNED'), \n",
    "    shotCount= widgets.IntSlider(value=4, min=1, max=12, step=1),\n",
    "    saque=widgets.IntSlider(value=0, min=0, max=1, step=1),\n",
    "    gameNumber=widgets.IntSlider(value=6, min=1, max=12, step=1),\n",
    "    Lado=widgets.IntSlider(value=0, min=0, max=1, step=1),\n",
    "    pointNumber=widgets.IntSlider(value=4, min=1, max=10, step=1),\n",
    "    PostVx=widgets.IntSlider(value=8, min=-49, max=45, step=5),\n",
    "    Z1_h=widgets.FloatSlider(value=2.8, min=1.5, max=4.4, step=0.1),\n",
    "    V_ms=widgets.IntSlider(value=46, min=21, max=64, step=5),\n",
    "    timeHIT=widgets.IntSlider(value=1, min=0, max=9, step=1),\n",
    "    PreVz=widgets.FloatSlider(value=-7.8, min=-10.5, max=-2.8, step=0.1)        \n",
    "        );"
   ]
  },
  {
   "cell_type": "code",
   "execution_count": null,
   "id": "4cd804e1-cac1-4f0c-be29-2c59dbd4c98a",
   "metadata": {},
   "outputs": [],
   "source": [
    "\"\"\"\n",
    "'serve_class': ['NOT RETURNED', 'RETURNED', 'FAULT', 'ACE'],\n",
    "'shotCount':[1,2,4,8,12],\n",
    "'1º o 2º saque':[0,1],\n",
    "'gameNumber' :[1,3,6,8,12],\n",
    "'Lado(1:Iguales;0:Ventaja)' :[0,1],\n",
    "'pointNumber':[1,2,4,5,10],\n",
    "'PostVx' :[-49, -20, 8, 22, 45],\n",
    "'Z1 (h)' :[1.5, 2.7, 2.8, 2.9, 4.4],\n",
    "'V (m/s)' :[21, 42, 46, 51, 64],\n",
    "'timeHIT' :[0,0.65,1,2,9],\n",
    "'PreVz' :[-10.5, -8.2,-7.8,-7.4,-2.8]\n",
    "\"\"\""
   ]
  }
 ],
 "metadata": {
  "kernelspec": {
   "display_name": "Python 3 (ipykernel)",
   "language": "python",
   "name": "python3"
  },
  "language_info": {
   "codemirror_mode": {
    "name": "ipython",
    "version": 3
   },
   "file_extension": ".py",
   "mimetype": "text/x-python",
   "name": "python",
   "nbconvert_exporter": "python",
   "pygments_lexer": "ipython3",
   "version": "3.8.10"
  }
 },
 "nbformat": 4,
 "nbformat_minor": 5
}
